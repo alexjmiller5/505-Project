{
  "nbformat": 4,
  "nbformat_minor": 0,
  "metadata": {
    "colab": {
      "provenance": [],
      "toc_visible": true,
      "gpuType": "T4"
    },
    "kernelspec": {
      "name": "python3",
      "display_name": "Python 3"
    },
    "language_info": {
      "name": "python"
    },
    "accelerator": "GPU"
  },
  "cells": [
    {
      "cell_type": "markdown",
      "source": [
        "# Required package"
      ],
      "metadata": {
        "id": "lYTZJyHRLYTM"
      }
    },
    {
      "cell_type": "code",
      "source": [
        "import string\n",
        "import math\n",
        "import re\n",
        "import nltk\n",
        "from nltk.tokenize import word_tokenize, sent_tokenize\n",
        "from collections import defaultdict, Counter\n",
        "import numpy as np\n",
        "import pickle\n",
        "import pandas as pd\n",
        "# from sklearn.feature_extraction.text import TfidfVectorizer\n",
        "# from sklearn.preprocessing import StandardScaler, LabelEncoder\n",
        "# from sklearn.model_selection import train_test_split\n",
        "from torch.utils.data import Dataset, DataLoader, random_split\n",
        "import torch\n",
        "import torch.nn as nn\n",
        "import torch.nn.functional as F\n",
        "import torch.optim as optim\n",
        "from collections import Counter\n",
        "import numpy as np\n",
        "import matplotlib.pyplot as plt\n",
        "from tqdm import tqdm\n"
      ],
      "metadata": {
        "id": "dHK-eiPLFQNg"
      },
      "execution_count": 1,
      "outputs": []
    },
    {
      "cell_type": "code",
      "source": [
        "nltk.download('punkt')"
      ],
      "metadata": {
        "colab": {
          "base_uri": "https://localhost:8080/"
        },
        "id": "mjmwkHsrN0vx",
        "outputId": "4e5afcff-207e-4c62-c642-d11ffc77b4c3"
      },
      "execution_count": 2,
      "outputs": [
        {
          "output_type": "stream",
          "name": "stderr",
          "text": [
            "[nltk_data] Downloading package punkt to /root/nltk_data...\n",
            "[nltk_data]   Unzipping tokenizers/punkt.zip.\n"
          ]
        },
        {
          "output_type": "execute_result",
          "data": {
            "text/plain": [
              "True"
            ]
          },
          "metadata": {},
          "execution_count": 2
        }
      ]
    },
    {
      "cell_type": "code",
      "source": [
        "from google.colab import drive\n",
        "drive.mount('/content/drive')\n",
        "\n",
        "folder_path = '/content/drive/My Drive/data/preprocessed-data'"
      ],
      "metadata": {
        "colab": {
          "base_uri": "https://localhost:8080/"
        },
        "id": "4Gh7GFT0-oxq",
        "outputId": "d144af89-729c-41c1-9483-e9fc03ada9a0"
      },
      "execution_count": 3,
      "outputs": [
        {
          "output_type": "stream",
          "name": "stdout",
          "text": [
            "Mounted at /content/drive\n"
          ]
        }
      ]
    },
    {
      "cell_type": "markdown",
      "source": [
        "# Load data"
      ],
      "metadata": {
        "id": "giCK2VDO_PZP"
      }
    },
    {
      "cell_type": "code",
      "source": [
        "df_lyrics = pd.read_csv(f\"{folder_path}/song_tokenized_lyrics.csv\")\n",
        "df_metadata = pd.read_csv(f\"{folder_path}/song_metadata.csv\")\n",
        "df_genre = df_metadata.drop(columns=['artist', 'name', 'popularity', 'release_date','explicit', 'duration_ms', 'featured_artists'])\n",
        "# df_genre.head()\n",
        "# df_metadata.head()\n",
        "\n",
        "df_music = pd.merge(df_genre,df_lyrics,on='spotify_id')\n",
        "df_music = df_music.drop(columns=['spotify_id','Unnamed: 0'])\n",
        "\n",
        "# drop song without lyrics\n",
        "df_music = df_music[df_music['lyrics'] != '[]']\n",
        "df_music.drop_duplicates(subset=['lyrics'], inplace=True)"
      ],
      "metadata": {
        "id": "4wnv09G7_UVH"
      },
      "execution_count": 4,
      "outputs": []
    },
    {
      "cell_type": "markdown",
      "source": [
        "## Choose songs in top 30 genres\n",
        "There are totally 232 genres in the muse dataset. I'm using the top 30 genres in this code because these songs have more than 40 songs in raw data(muse_v3.csv). Many songs only have 1 or 2 songs, feeding those songs to neural network making no sense."
      ],
      "metadata": {
        "id": "WX0Gbt2jr27t"
      }
    },
    {
      "cell_type": "code",
      "source": [
        "len(df_music['genre'].unique())"
      ],
      "metadata": {
        "colab": {
          "base_uri": "https://localhost:8080/"
        },
        "id": "F19a9DbosSph",
        "outputId": "fd94a984-d1d5-44f2-e96e-751e27607a3c"
      },
      "execution_count": 26,
      "outputs": [
        {
          "output_type": "execute_result",
          "data": {
            "text/plain": [
              "232"
            ]
          },
          "metadata": {},
          "execution_count": 26
        }
      ]
    },
    {
      "cell_type": "code",
      "source": [
        "# get top 30 genre since some genre only have 1-2 songs\n",
        "top_30_genres = df_music['genre'].value_counts()\n",
        "# top_30_genre = top_30_genre.index[:30]\n",
        "top_30_genres.iloc[0:30]"
      ],
      "metadata": {
        "colab": {
          "base_uri": "https://localhost:8080/"
        },
        "id": "KCyKZXAvB_5O",
        "outputId": "286a4e79-7580-4220-8f9a-d9a340fd46f3"
      },
      "execution_count": 5,
      "outputs": [
        {
          "output_type": "execute_result",
          "data": {
            "text/plain": [
              "rock                 769\n",
              "pop                  753\n",
              "indie                532\n",
              "soul                 373\n",
              "alternative          297\n",
              "folk                 281\n",
              "hip-hop              242\n",
              "acoustic             164\n",
              "classic rock         159\n",
              "singer-songwriter    143\n",
              "electronic           131\n",
              "country              126\n",
              "jazz                 123\n",
              "alternative rock     120\n",
              "rap                  107\n",
              "soundtrack           105\n",
              "indie rock           101\n",
              "punk                  89\n",
              "hard rock             68\n",
              "new wave              64\n",
              "progressive rock      62\n",
              "hip hop               56\n",
              "blues                 52\n",
              "metal                 47\n",
              "emo                   45\n",
              "post-punk             44\n",
              "shoegaze              44\n",
              "piano                 42\n",
              "industrial            40\n",
              "r&b                   40\n",
              "Name: genre, dtype: int64"
            ]
          },
          "metadata": {},
          "execution_count": 5
        }
      ]
    },
    {
      "cell_type": "code",
      "source": [
        "# get datafram only in top_30_genres\n",
        "df_music_top_30 = df_music[df_music['genre'].isin(top_30_genres.index[:30])]\n",
        "df_music_top_30['genre'].unique()"
      ],
      "metadata": {
        "colab": {
          "base_uri": "https://localhost:8080/"
        },
        "id": "xwBcg6qxFpmf",
        "outputId": "95d74d22-27fa-46d6-eecb-ceafe6d22bcb"
      },
      "execution_count": 6,
      "outputs": [
        {
          "output_type": "execute_result",
          "data": {
            "text/plain": [
              "array(['rap', 'metal', 'hip-hop', 'singer-songwriter', 'punk',\n",
              "       'classic rock', 'rock', 'pop', 'post-punk', 'alternative rock',\n",
              "       'hard rock', 'electronic', 'hip hop', 'alternative', 'country',\n",
              "       'industrial', 'soul', 'soundtrack', 'indie', 'emo', 'folk',\n",
              "       'indie rock', 'piano', 'new wave', 'jazz', 'blues', 'r&b',\n",
              "       'shoegaze', 'acoustic', 'progressive rock'], dtype=object)"
            ]
          },
          "metadata": {},
          "execution_count": 6
        }
      ]
    },
    {
      "cell_type": "markdown",
      "source": [
        "## Tokenization\n",
        "\n",
        "In our team's discussion, since songs have some lines like [Intro1], so we hope if we feed our model '[ Intro', the model is able to generate ']', and considering of the coherent of the sentences, I didn't remove the punctuation and stopwords."
      ],
      "metadata": {
        "id": "A56JwmZvXcwL"
      }
    },
    {
      "cell_type": "code",
      "source": [
        "def clean_text(song):\n",
        "    song = re.sub('\\'m', ' am', song)\n",
        "    song = re.sub('\\'ve', ' have', song)\n",
        "    song = re.sub('\\'d ', ' would', song)\n",
        "    song =re.sub('\\'ll', ' will', song)\n",
        "    song = re.sub('\\'s', ' is', song)\n",
        "    song = re.sub('\\'re', ' are', song)\n",
        "\n",
        "    song = song.lower()\n",
        "    return song\n",
        "\n",
        "genre_lyrics = defaultdict(list)\n",
        "\n",
        "for genre, lyrics in zip(df_music_top_30['genre'], df_music_top_30['lyrics']):\n",
        "    genre_lyrics[genre].append(lyrics)\n",
        "\n",
        "rock = genre_lyrics['rock']\n",
        "\n",
        "genre_tokenLyrics = defaultdict(list)\n",
        "for genre, lyrics in genre_lyrics.items():\n",
        "    tokenized_lyric = []\n",
        "    for song in lyrics:\n",
        "        song = clean_text(song)\n",
        "        lines = song.split('\\n')\n",
        "        for line in lines:\n",
        "            words = word_tokenize(line)\n",
        "            bracket_sent = []\n",
        "            for i in range(len(words)+2):\n",
        "                if i == 0:\n",
        "                    bracket_sent.append('<s>')\n",
        "                elif i == len(words)+1:\n",
        "                    bracket_sent.append('</s>')\n",
        "                else:\n",
        "                    bracket_sent.append(words[i-1])\n",
        "            # print(bracket_sent)\n",
        "            tokenized_lyric.append(bracket_sent)\n",
        "    # if genre == 'rock':\n",
        "    #     print(tokenized_lyric[:100])\n",
        "    #     print(len(tokenized_lyric))\n",
        "    genre_tokenLyrics[genre] = tokenized_lyric\n",
        "genre_tokenLyrics['rock'][0]"
      ],
      "metadata": {
        "colab": {
          "base_uri": "https://localhost:8080/"
        },
        "id": "S1uhWh85HQis",
        "outputId": "da8c77b9-6287-44dc-dbcb-5261c1482281"
      },
      "execution_count": 8,
      "outputs": [
        {
          "output_type": "execute_result",
          "data": {
            "text/plain": [
              "['<s>', '[', 'verse', '1', ']', '</s>']"
            ]
          },
          "metadata": {},
          "execution_count": 8
        }
      ]
    },
    {
      "cell_type": "markdown",
      "source": [
        "## Create DataFrame\n",
        "\n"
      ],
      "metadata": {
        "id": "uyFQDdAAfNds"
      }
    },
    {
      "cell_type": "code",
      "source": [
        "def pad_sentence(sentence):\n",
        "    padding_sentence = np.full(50, 'pad', dtype='U50')\n",
        "    length = len(sentence)\n",
        "    if length < 50:\n",
        "        padding_sentence[(50-length):] = sentence\n",
        "    else:\n",
        "        padding_sentence = sentence[(length-50):]\n",
        "    return padding_sentence"
      ],
      "metadata": {
        "id": "A6m6JHvurhxP"
      },
      "execution_count": 9,
      "outputs": []
    },
    {
      "cell_type": "code",
      "source": [
        "genres = []\n",
        "input_lyrics = []\n",
        "output_words = []\n",
        "\n",
        "for genre, lyrics in genre_tokenLyrics.items():\n",
        "    for sentence in lyrics:\n",
        "        if len(sentence) > 1:\n",
        "            sentence = pad_sentence(sentence)\n",
        "            input_sentence = sentence[:-2]\n",
        "            output_word = sentence[-2]\n",
        "\n",
        "            genres.append(genre)\n",
        "            input_lyrics.append(input_sentence)\n",
        "            output_words.append(output_word)\n",
        "\n",
        "\n",
        "df_music_cleaned = pd.DataFrame({\n",
        "    'genre': genres,\n",
        "    'input_lyrics': input_lyrics,\n",
        "    'output_word': output_words\n",
        "})"
      ],
      "metadata": {
        "id": "bvT5MFI6fM6h"
      },
      "execution_count": 10,
      "outputs": []
    },
    {
      "cell_type": "markdown",
      "source": [
        "Testcase"
      ],
      "metadata": {
        "id": "XWpL131avZJk"
      }
    },
    {
      "cell_type": "code",
      "source": [
        "genre_tokenLyrics['rap'][0]"
      ],
      "metadata": {
        "colab": {
          "base_uri": "https://localhost:8080/"
        },
        "id": "9483ZFNi4VFq",
        "outputId": "97f71b7a-060b-48aa-e9ae-ef4691c3e02b"
      },
      "execution_count": 13,
      "outputs": [
        {
          "output_type": "execute_result",
          "data": {
            "text/plain": [
              "['<s>', '[', 'intro', ':', 'eminem', ']', '</s>']"
            ]
          },
          "metadata": {},
          "execution_count": 13
        }
      ]
    },
    {
      "cell_type": "code",
      "source": [
        "input_lyrics[0]"
      ],
      "metadata": {
        "colab": {
          "base_uri": "https://localhost:8080/"
        },
        "id": "6ZsHf9ba4u1b",
        "outputId": "6c7689ff-14ad-44ac-8b4b-ef99951d4522"
      },
      "execution_count": 12,
      "outputs": [
        {
          "output_type": "execute_result",
          "data": {
            "text/plain": [
              "array(['pad', 'pad', 'pad', 'pad', 'pad', 'pad', 'pad', 'pad', 'pad',\n",
              "       'pad', 'pad', 'pad', 'pad', 'pad', 'pad', 'pad', 'pad', 'pad',\n",
              "       'pad', 'pad', 'pad', 'pad', 'pad', 'pad', 'pad', 'pad', 'pad',\n",
              "       'pad', 'pad', 'pad', 'pad', 'pad', 'pad', 'pad', 'pad', 'pad',\n",
              "       'pad', 'pad', 'pad', 'pad', 'pad', 'pad', 'pad', '<s>', '[',\n",
              "       'intro', ':', 'eminem'], dtype='<U50')"
            ]
          },
          "metadata": {},
          "execution_count": 12
        }
      ]
    },
    {
      "cell_type": "code",
      "source": [
        "# output_words[0] in string.punctuation\n",
        "output_words[0]\n",
        "# len(output_words)"
      ],
      "metadata": {
        "colab": {
          "base_uri": "https://localhost:8080/",
          "height": 35
        },
        "id": "f8KdOtzvgZZF",
        "outputId": "55001ff9-5445-4c6b-9e8b-302e988164ef"
      },
      "execution_count": 11,
      "outputs": [
        {
          "output_type": "execute_result",
          "data": {
            "text/plain": [
              "']'"
            ],
            "application/vnd.google.colaboratory.intrinsic+json": {
              "type": "string"
            }
          },
          "metadata": {},
          "execution_count": 11
        }
      ]
    },
    {
      "cell_type": "code",
      "source": [
        "df_music_cleaned[:10]"
      ],
      "metadata": {
        "colab": {
          "base_uri": "https://localhost:8080/",
          "height": 363
        },
        "id": "TFDRNfxWv1lu",
        "outputId": "732123d2-1b11-4394-ffa3-ebbcf1709aea"
      },
      "execution_count": 22,
      "outputs": [
        {
          "output_type": "execute_result",
          "data": {
            "text/plain": [
              "  genre                                       input_lyrics output_word\n",
              "0   rap  [pad, pad, pad, pad, pad, pad, pad, pad, pad, ...           ]\n",
              "1   rap  [pad, pad, pad, pad, pad, pad, pad, pad, pad, ...       tired\n",
              "2   rap  [pad, pad, pad, pad, pad, pad, pad, pad, pad, ...        left\n",
              "3   rap  [pad, pad, pad, pad, pad, pad, pad, pad, pad, ...        weak\n",
              "4   rap  [pad, pad, pad, pad, pad, pad, pad, pad, pad, ...        left\n",
              "5   rap  [pad, pad, pad, pad, pad, pad, pad, pad, pad, ...          up\n",
              "6   rap  [pad, pad, pad, pad, pad, pad, pad, pad, pad, ...        left\n",
              "7   rap  [pad, pad, pad, pad, pad, pad, pad, pad, pad, ...         you\n",
              "8   rap  [pad, pad, pad, pad, pad, pad, pad, pad, pad, ...        left\n",
              "9   rap  [pad, pad, pad, pad, pad, pad, pad, pad, pad, ...         you"
            ],
            "text/html": [
              "\n",
              "  <div id=\"df-67056545-4925-499b-a999-d1aecf67a616\" class=\"colab-df-container\">\n",
              "    <div>\n",
              "<style scoped>\n",
              "    .dataframe tbody tr th:only-of-type {\n",
              "        vertical-align: middle;\n",
              "    }\n",
              "\n",
              "    .dataframe tbody tr th {\n",
              "        vertical-align: top;\n",
              "    }\n",
              "\n",
              "    .dataframe thead th {\n",
              "        text-align: right;\n",
              "    }\n",
              "</style>\n",
              "<table border=\"1\" class=\"dataframe\">\n",
              "  <thead>\n",
              "    <tr style=\"text-align: right;\">\n",
              "      <th></th>\n",
              "      <th>genre</th>\n",
              "      <th>input_lyrics</th>\n",
              "      <th>output_word</th>\n",
              "    </tr>\n",
              "  </thead>\n",
              "  <tbody>\n",
              "    <tr>\n",
              "      <th>0</th>\n",
              "      <td>rap</td>\n",
              "      <td>[pad, pad, pad, pad, pad, pad, pad, pad, pad, ...</td>\n",
              "      <td>]</td>\n",
              "    </tr>\n",
              "    <tr>\n",
              "      <th>1</th>\n",
              "      <td>rap</td>\n",
              "      <td>[pad, pad, pad, pad, pad, pad, pad, pad, pad, ...</td>\n",
              "      <td>tired</td>\n",
              "    </tr>\n",
              "    <tr>\n",
              "      <th>2</th>\n",
              "      <td>rap</td>\n",
              "      <td>[pad, pad, pad, pad, pad, pad, pad, pad, pad, ...</td>\n",
              "      <td>left</td>\n",
              "    </tr>\n",
              "    <tr>\n",
              "      <th>3</th>\n",
              "      <td>rap</td>\n",
              "      <td>[pad, pad, pad, pad, pad, pad, pad, pad, pad, ...</td>\n",
              "      <td>weak</td>\n",
              "    </tr>\n",
              "    <tr>\n",
              "      <th>4</th>\n",
              "      <td>rap</td>\n",
              "      <td>[pad, pad, pad, pad, pad, pad, pad, pad, pad, ...</td>\n",
              "      <td>left</td>\n",
              "    </tr>\n",
              "    <tr>\n",
              "      <th>5</th>\n",
              "      <td>rap</td>\n",
              "      <td>[pad, pad, pad, pad, pad, pad, pad, pad, pad, ...</td>\n",
              "      <td>up</td>\n",
              "    </tr>\n",
              "    <tr>\n",
              "      <th>6</th>\n",
              "      <td>rap</td>\n",
              "      <td>[pad, pad, pad, pad, pad, pad, pad, pad, pad, ...</td>\n",
              "      <td>left</td>\n",
              "    </tr>\n",
              "    <tr>\n",
              "      <th>7</th>\n",
              "      <td>rap</td>\n",
              "      <td>[pad, pad, pad, pad, pad, pad, pad, pad, pad, ...</td>\n",
              "      <td>you</td>\n",
              "    </tr>\n",
              "    <tr>\n",
              "      <th>8</th>\n",
              "      <td>rap</td>\n",
              "      <td>[pad, pad, pad, pad, pad, pad, pad, pad, pad, ...</td>\n",
              "      <td>left</td>\n",
              "    </tr>\n",
              "    <tr>\n",
              "      <th>9</th>\n",
              "      <td>rap</td>\n",
              "      <td>[pad, pad, pad, pad, pad, pad, pad, pad, pad, ...</td>\n",
              "      <td>you</td>\n",
              "    </tr>\n",
              "  </tbody>\n",
              "</table>\n",
              "</div>\n",
              "    <div class=\"colab-df-buttons\">\n",
              "\n",
              "  <div class=\"colab-df-container\">\n",
              "    <button class=\"colab-df-convert\" onclick=\"convertToInteractive('df-67056545-4925-499b-a999-d1aecf67a616')\"\n",
              "            title=\"Convert this dataframe to an interactive table.\"\n",
              "            style=\"display:none;\">\n",
              "\n",
              "  <svg xmlns=\"http://www.w3.org/2000/svg\" height=\"24px\" viewBox=\"0 -960 960 960\">\n",
              "    <path d=\"M120-120v-720h720v720H120Zm60-500h600v-160H180v160Zm220 220h160v-160H400v160Zm0 220h160v-160H400v160ZM180-400h160v-160H180v160Zm440 0h160v-160H620v160ZM180-180h160v-160H180v160Zm440 0h160v-160H620v160Z\"/>\n",
              "  </svg>\n",
              "    </button>\n",
              "\n",
              "  <style>\n",
              "    .colab-df-container {\n",
              "      display:flex;\n",
              "      gap: 12px;\n",
              "    }\n",
              "\n",
              "    .colab-df-convert {\n",
              "      background-color: #E8F0FE;\n",
              "      border: none;\n",
              "      border-radius: 50%;\n",
              "      cursor: pointer;\n",
              "      display: none;\n",
              "      fill: #1967D2;\n",
              "      height: 32px;\n",
              "      padding: 0 0 0 0;\n",
              "      width: 32px;\n",
              "    }\n",
              "\n",
              "    .colab-df-convert:hover {\n",
              "      background-color: #E2EBFA;\n",
              "      box-shadow: 0px 1px 2px rgba(60, 64, 67, 0.3), 0px 1px 3px 1px rgba(60, 64, 67, 0.15);\n",
              "      fill: #174EA6;\n",
              "    }\n",
              "\n",
              "    .colab-df-buttons div {\n",
              "      margin-bottom: 4px;\n",
              "    }\n",
              "\n",
              "    [theme=dark] .colab-df-convert {\n",
              "      background-color: #3B4455;\n",
              "      fill: #D2E3FC;\n",
              "    }\n",
              "\n",
              "    [theme=dark] .colab-df-convert:hover {\n",
              "      background-color: #434B5C;\n",
              "      box-shadow: 0px 1px 3px 1px rgba(0, 0, 0, 0.15);\n",
              "      filter: drop-shadow(0px 1px 2px rgba(0, 0, 0, 0.3));\n",
              "      fill: #FFFFFF;\n",
              "    }\n",
              "  </style>\n",
              "\n",
              "    <script>\n",
              "      const buttonEl =\n",
              "        document.querySelector('#df-67056545-4925-499b-a999-d1aecf67a616 button.colab-df-convert');\n",
              "      buttonEl.style.display =\n",
              "        google.colab.kernel.accessAllowed ? 'block' : 'none';\n",
              "\n",
              "      async function convertToInteractive(key) {\n",
              "        const element = document.querySelector('#df-67056545-4925-499b-a999-d1aecf67a616');\n",
              "        const dataTable =\n",
              "          await google.colab.kernel.invokeFunction('convertToInteractive',\n",
              "                                                    [key], {});\n",
              "        if (!dataTable) return;\n",
              "\n",
              "        const docLinkHtml = 'Like what you see? Visit the ' +\n",
              "          '<a target=\"_blank\" href=https://colab.research.google.com/notebooks/data_table.ipynb>data table notebook</a>'\n",
              "          + ' to learn more about interactive tables.';\n",
              "        element.innerHTML = '';\n",
              "        dataTable['output_type'] = 'display_data';\n",
              "        await google.colab.output.renderOutput(dataTable, element);\n",
              "        const docLink = document.createElement('div');\n",
              "        docLink.innerHTML = docLinkHtml;\n",
              "        element.appendChild(docLink);\n",
              "      }\n",
              "    </script>\n",
              "  </div>\n",
              "\n",
              "\n",
              "<div id=\"df-761adee5-abd5-4581-9ca2-c80db5b10cf1\">\n",
              "  <button class=\"colab-df-quickchart\" onclick=\"quickchart('df-761adee5-abd5-4581-9ca2-c80db5b10cf1')\"\n",
              "            title=\"Suggest charts\"\n",
              "            style=\"display:none;\">\n",
              "\n",
              "<svg xmlns=\"http://www.w3.org/2000/svg\" height=\"24px\"viewBox=\"0 0 24 24\"\n",
              "     width=\"24px\">\n",
              "    <g>\n",
              "        <path d=\"M19 3H5c-1.1 0-2 .9-2 2v14c0 1.1.9 2 2 2h14c1.1 0 2-.9 2-2V5c0-1.1-.9-2-2-2zM9 17H7v-7h2v7zm4 0h-2V7h2v10zm4 0h-2v-4h2v4z\"/>\n",
              "    </g>\n",
              "</svg>\n",
              "  </button>\n",
              "\n",
              "<style>\n",
              "  .colab-df-quickchart {\n",
              "      --bg-color: #E8F0FE;\n",
              "      --fill-color: #1967D2;\n",
              "      --hover-bg-color: #E2EBFA;\n",
              "      --hover-fill-color: #174EA6;\n",
              "      --disabled-fill-color: #AAA;\n",
              "      --disabled-bg-color: #DDD;\n",
              "  }\n",
              "\n",
              "  [theme=dark] .colab-df-quickchart {\n",
              "      --bg-color: #3B4455;\n",
              "      --fill-color: #D2E3FC;\n",
              "      --hover-bg-color: #434B5C;\n",
              "      --hover-fill-color: #FFFFFF;\n",
              "      --disabled-bg-color: #3B4455;\n",
              "      --disabled-fill-color: #666;\n",
              "  }\n",
              "\n",
              "  .colab-df-quickchart {\n",
              "    background-color: var(--bg-color);\n",
              "    border: none;\n",
              "    border-radius: 50%;\n",
              "    cursor: pointer;\n",
              "    display: none;\n",
              "    fill: var(--fill-color);\n",
              "    height: 32px;\n",
              "    padding: 0;\n",
              "    width: 32px;\n",
              "  }\n",
              "\n",
              "  .colab-df-quickchart:hover {\n",
              "    background-color: var(--hover-bg-color);\n",
              "    box-shadow: 0 1px 2px rgba(60, 64, 67, 0.3), 0 1px 3px 1px rgba(60, 64, 67, 0.15);\n",
              "    fill: var(--button-hover-fill-color);\n",
              "  }\n",
              "\n",
              "  .colab-df-quickchart-complete:disabled,\n",
              "  .colab-df-quickchart-complete:disabled:hover {\n",
              "    background-color: var(--disabled-bg-color);\n",
              "    fill: var(--disabled-fill-color);\n",
              "    box-shadow: none;\n",
              "  }\n",
              "\n",
              "  .colab-df-spinner {\n",
              "    border: 2px solid var(--fill-color);\n",
              "    border-color: transparent;\n",
              "    border-bottom-color: var(--fill-color);\n",
              "    animation:\n",
              "      spin 1s steps(1) infinite;\n",
              "  }\n",
              "\n",
              "  @keyframes spin {\n",
              "    0% {\n",
              "      border-color: transparent;\n",
              "      border-bottom-color: var(--fill-color);\n",
              "      border-left-color: var(--fill-color);\n",
              "    }\n",
              "    20% {\n",
              "      border-color: transparent;\n",
              "      border-left-color: var(--fill-color);\n",
              "      border-top-color: var(--fill-color);\n",
              "    }\n",
              "    30% {\n",
              "      border-color: transparent;\n",
              "      border-left-color: var(--fill-color);\n",
              "      border-top-color: var(--fill-color);\n",
              "      border-right-color: var(--fill-color);\n",
              "    }\n",
              "    40% {\n",
              "      border-color: transparent;\n",
              "      border-right-color: var(--fill-color);\n",
              "      border-top-color: var(--fill-color);\n",
              "    }\n",
              "    60% {\n",
              "      border-color: transparent;\n",
              "      border-right-color: var(--fill-color);\n",
              "    }\n",
              "    80% {\n",
              "      border-color: transparent;\n",
              "      border-right-color: var(--fill-color);\n",
              "      border-bottom-color: var(--fill-color);\n",
              "    }\n",
              "    90% {\n",
              "      border-color: transparent;\n",
              "      border-bottom-color: var(--fill-color);\n",
              "    }\n",
              "  }\n",
              "</style>\n",
              "\n",
              "  <script>\n",
              "    async function quickchart(key) {\n",
              "      const quickchartButtonEl =\n",
              "        document.querySelector('#' + key + ' button');\n",
              "      quickchartButtonEl.disabled = true;  // To prevent multiple clicks.\n",
              "      quickchartButtonEl.classList.add('colab-df-spinner');\n",
              "      try {\n",
              "        const charts = await google.colab.kernel.invokeFunction(\n",
              "            'suggestCharts', [key], {});\n",
              "      } catch (error) {\n",
              "        console.error('Error during call to suggestCharts:', error);\n",
              "      }\n",
              "      quickchartButtonEl.classList.remove('colab-df-spinner');\n",
              "      quickchartButtonEl.classList.add('colab-df-quickchart-complete');\n",
              "    }\n",
              "    (() => {\n",
              "      let quickchartButtonEl =\n",
              "        document.querySelector('#df-761adee5-abd5-4581-9ca2-c80db5b10cf1 button');\n",
              "      quickchartButtonEl.style.display =\n",
              "        google.colab.kernel.accessAllowed ? 'block' : 'none';\n",
              "    })();\n",
              "  </script>\n",
              "</div>\n",
              "\n",
              "    </div>\n",
              "  </div>\n"
            ]
          },
          "metadata": {},
          "execution_count": 22
        }
      ]
    },
    {
      "cell_type": "markdown",
      "source": [
        "# DataSet"
      ],
      "metadata": {
        "id": "SxY_5pzxl7Yj"
      }
    },
    {
      "cell_type": "code",
      "source": [
        "word_counts = Counter()\n",
        "for _, tokenLyric in genre_tokenLyrics.items():\n",
        "    for song in tokenLyric:\n",
        "        word_counts.update(song)\n",
        "    words = list(word_counts.keys())\n",
        "    word_to_index = {w: idx for idx, w in enumerate(words)}\n",
        "    index_to_word = {idx: w for idx, w in enumerate(words)}\n",
        "\n",
        "# some words can't be found in Dictionary\n",
        "word_to_index[\"<UNK>\"] = len(word_to_index)\n",
        "# index_to_word[len(word_to_index)] = [\"UNK\"]\n",
        "index_to_word[word_to_index[\"<UNK>\"]] = \"<UNK>\"\n",
        "\n",
        "# word_to_index\n",
        "genres = genre_tokenLyrics.keys()\n",
        "genre_to_index = {genre: idx for idx, genre in enumerate(genres)}\n",
        "index_to_genre = {idx: genre for idx, genre in enumerate(genres)}\n",
        "\n",
        "# genre_to_index"
      ],
      "metadata": {
        "id": "RJQ8AKAUjN-N"
      },
      "execution_count": 16,
      "outputs": []
    },
    {
      "cell_type": "code",
      "source": [
        "class LyricsDataset(Dataset):\n",
        "    def __init__(self, dataframe, word_to_index, genre_to_index):\n",
        "        self.dataframe = dataframe\n",
        "        self.word_to_index = word_to_index\n",
        "        self.genre_to_index = genre_to_index\n",
        "\n",
        "    def __len__(self):\n",
        "        return len(self.dataframe)\n",
        "\n",
        "    def __getitem__(self, idx):\n",
        "        row = self.dataframe.iloc[idx]\n",
        "        genre = self.genre_to_index[row['genre']]\n",
        "        input_lyrics = [self.word_to_index.get(word, self.word_to_index[\"<UNK>\"]) for word in row['input_lyrics']]\n",
        "        output_word = self.word_to_index.get(row['output_word'], self.word_to_index[\"<UNK>\"])\n",
        "        return torch.tensor(input_lyrics, dtype=torch.long), torch.tensor(genre, dtype=torch.long), torch.tensor(output_word, dtype=torch.long)\n",
        "\n",
        "train_dataset = LyricsDataset(df_music_cleaned, word_to_index, genre_to_index)\n",
        "train_dataloader = DataLoader(train_dataset, batch_size=64, shuffle=True)"
      ],
      "metadata": {
        "id": "UnkJyVGVl_ZK"
      },
      "execution_count": 17,
      "outputs": []
    },
    {
      "cell_type": "markdown",
      "source": [
        "# Train model"
      ],
      "metadata": {
        "id": "nLdUgkLAjJv3"
      }
    },
    {
      "cell_type": "code",
      "source": [
        "device = torch.device('cuda' if torch.cuda.is_available() else 'cpu')\n",
        "device"
      ],
      "metadata": {
        "colab": {
          "base_uri": "https://localhost:8080/"
        },
        "id": "wuzHssBDytTm",
        "outputId": "e23fbb80-6f73-46bc-ba9b-2933427e2550"
      },
      "execution_count": 18,
      "outputs": [
        {
          "output_type": "execute_result",
          "data": {
            "text/plain": [
              "device(type='cuda')"
            ]
          },
          "metadata": {},
          "execution_count": 18
        }
      ]
    },
    {
      "cell_type": "code",
      "source": [
        "class LyricsLSTM(nn.Module):\n",
        "    def __init__(self, vocab_size, genre_size, embedding_dim, hidden_dim, output_dim):\n",
        "        super(LyricsLSTM, self).__init__()\n",
        "        self.embedding = nn.Embedding(vocab_size, embedding_dim)\n",
        "        self.genre_embedding = nn.Embedding(genre_size, embedding_dim)\n",
        "        self.lstm = nn.LSTM(embedding_dim, hidden_dim, batch_first=True)\n",
        "        self.fc = nn.Linear(hidden_dim, output_dim)\n",
        "\n",
        "    def forward(self, lyrics, genre):\n",
        "        lyrics_embedded = self.embedding(lyrics)\n",
        "        genre_embedded = self.genre_embedding(genre)\n",
        "        combined = lyrics_embedded + genre_embedded.unsqueeze(1)\n",
        "        lstm_out, _ = self.lstm(combined)\n",
        "        out = self.fc(lstm_out[:, -1, :])\n",
        "        return out\n",
        "\n",
        "vocab_size = len(word_to_index)\n",
        "genre_size = 30\n",
        "embedding_dim = 128\n",
        "hidden_dim = 128\n",
        "output_dim = vocab_size\n",
        "model = LyricsLSTM(vocab_size, genre_size, embedding_dim, hidden_dim, output_dim).to(device)\n",
        "print(model)"
      ],
      "metadata": {
        "colab": {
          "base_uri": "https://localhost:8080/"
        },
        "id": "IOicJ7tposPB",
        "outputId": "38d38fe8-9000-47ff-bd5f-7a9d44c2f239"
      },
      "execution_count": 87,
      "outputs": [
        {
          "output_type": "stream",
          "name": "stdout",
          "text": [
            "LyricsLSTM(\n",
            "  (embedding): Embedding(31631, 128)\n",
            "  (genre_embedding): Embedding(30, 128)\n",
            "  (lstm): LSTM(128, 128, batch_first=True)\n",
            "  (fc): Linear(in_features=128, out_features=31631, bias=True)\n",
            ")\n"
          ]
        }
      ]
    },
    {
      "cell_type": "markdown",
      "source": [
        "## epoch 20"
      ],
      "metadata": {
        "id": "08PrE1ZYn5TY"
      }
    },
    {
      "cell_type": "code",
      "source": [
        "def train_model(model, train_loader, criterion, optimizer, num_epochs):\n",
        "    total_loss_per_epoch = []\n",
        "\n",
        "    for epoch in range(num_epochs):\n",
        "        model.train()\n",
        "        total_loss = 0\n",
        "        for lyrics, genre, target in tqdm(train_loader):\n",
        "            lyrics = lyrics.to(device)\n",
        "            genre = genre.to(device)\n",
        "            target = target.to(device)\n",
        "\n",
        "            optimizer.zero_grad()\n",
        "            outputs = model(lyrics, genre)\n",
        "            loss = criterion(outputs, target)\n",
        "            loss.backward()\n",
        "            optimizer.step()\n",
        "            total_loss += loss.item()\n",
        "\n",
        "        avg_loss = total_loss / len(train_loader)\n",
        "        print(f'Epoch {epoch+1}/{num_epochs}, Loss: {avg_loss:.4f}')\n",
        "        total_loss_per_epoch.append(avg_loss)\n",
        "\n",
        "\n",
        "    plt.plot(total_loss_per_epoch, label='Training Loss')\n",
        "    plt.xlabel('Epoch')\n",
        "    plt.ylabel('Loss')\n",
        "    plt.title('Training Loss Per Epoch')\n",
        "    plt.legend()\n",
        "    plt.show()\n",
        "\n",
        "\n",
        "criterion = nn.CrossEntropyLoss()\n",
        "optimizer = torch.optim.Adam(model.parameters(), lr=0.001)\n",
        "num_epochs = 20\n",
        "train_model(model, train_dataloader, criterion, optimizer, num_epochs)"
      ],
      "metadata": {
        "colab": {
          "base_uri": "https://localhost:8080/",
          "height": 1000
        },
        "id": "Fkj1yDn7n6Ko",
        "outputId": "c4ed4387-79f1-4469-998f-2df20c30ac90"
      },
      "execution_count": 89,
      "outputs": [
        {
          "output_type": "stream",
          "name": "stderr",
          "text": [
            "100%|██████████| 4532/4532 [01:08<00:00, 65.89it/s]\n"
          ]
        },
        {
          "output_type": "stream",
          "name": "stdout",
          "text": [
            "Epoch 1/20, Loss: 4.4472\n"
          ]
        },
        {
          "output_type": "stream",
          "name": "stderr",
          "text": [
            "100%|██████████| 4532/4532 [01:07<00:00, 67.22it/s]\n"
          ]
        },
        {
          "output_type": "stream",
          "name": "stdout",
          "text": [
            "Epoch 2/20, Loss: 3.4339\n"
          ]
        },
        {
          "output_type": "stream",
          "name": "stderr",
          "text": [
            "100%|██████████| 4532/4532 [01:06<00:00, 67.76it/s]\n"
          ]
        },
        {
          "output_type": "stream",
          "name": "stdout",
          "text": [
            "Epoch 3/20, Loss: 2.8634\n"
          ]
        },
        {
          "output_type": "stream",
          "name": "stderr",
          "text": [
            "100%|██████████| 4532/4532 [01:09<00:00, 65.05it/s]\n"
          ]
        },
        {
          "output_type": "stream",
          "name": "stdout",
          "text": [
            "Epoch 4/20, Loss: 2.4751\n"
          ]
        },
        {
          "output_type": "stream",
          "name": "stderr",
          "text": [
            "100%|██████████| 4532/4532 [01:07<00:00, 67.59it/s]\n"
          ]
        },
        {
          "output_type": "stream",
          "name": "stdout",
          "text": [
            "Epoch 5/20, Loss: 2.1829\n"
          ]
        },
        {
          "output_type": "stream",
          "name": "stderr",
          "text": [
            "100%|██████████| 4532/4532 [01:07<00:00, 67.40it/s]\n"
          ]
        },
        {
          "output_type": "stream",
          "name": "stdout",
          "text": [
            "Epoch 6/20, Loss: 1.9530\n"
          ]
        },
        {
          "output_type": "stream",
          "name": "stderr",
          "text": [
            "100%|██████████| 4532/4532 [01:09<00:00, 65.57it/s]\n"
          ]
        },
        {
          "output_type": "stream",
          "name": "stdout",
          "text": [
            "Epoch 7/20, Loss: 1.7613\n"
          ]
        },
        {
          "output_type": "stream",
          "name": "stderr",
          "text": [
            "100%|██████████| 4532/4532 [01:07<00:00, 67.05it/s]\n"
          ]
        },
        {
          "output_type": "stream",
          "name": "stdout",
          "text": [
            "Epoch 8/20, Loss: 1.6014\n"
          ]
        },
        {
          "output_type": "stream",
          "name": "stderr",
          "text": [
            "100%|██████████| 4532/4532 [01:07<00:00, 66.99it/s]\n"
          ]
        },
        {
          "output_type": "stream",
          "name": "stdout",
          "text": [
            "Epoch 9/20, Loss: 1.4660\n"
          ]
        },
        {
          "output_type": "stream",
          "name": "stderr",
          "text": [
            "100%|██████████| 4532/4532 [01:07<00:00, 67.07it/s]\n"
          ]
        },
        {
          "output_type": "stream",
          "name": "stdout",
          "text": [
            "Epoch 10/20, Loss: 1.3480\n"
          ]
        },
        {
          "output_type": "stream",
          "name": "stderr",
          "text": [
            "100%|██████████| 4532/4532 [01:08<00:00, 65.86it/s]\n"
          ]
        },
        {
          "output_type": "stream",
          "name": "stdout",
          "text": [
            "Epoch 11/20, Loss: 1.2465\n"
          ]
        },
        {
          "output_type": "stream",
          "name": "stderr",
          "text": [
            "100%|██████████| 4532/4532 [01:07<00:00, 66.75it/s]\n"
          ]
        },
        {
          "output_type": "stream",
          "name": "stdout",
          "text": [
            "Epoch 12/20, Loss: 1.1580\n"
          ]
        },
        {
          "output_type": "stream",
          "name": "stderr",
          "text": [
            "100%|██████████| 4532/4532 [01:07<00:00, 67.15it/s]\n"
          ]
        },
        {
          "output_type": "stream",
          "name": "stdout",
          "text": [
            "Epoch 13/20, Loss: 1.0792\n"
          ]
        },
        {
          "output_type": "stream",
          "name": "stderr",
          "text": [
            "100%|██████████| 4532/4532 [01:10<00:00, 64.69it/s]\n"
          ]
        },
        {
          "output_type": "stream",
          "name": "stdout",
          "text": [
            "Epoch 14/20, Loss: 1.0123\n"
          ]
        },
        {
          "output_type": "stream",
          "name": "stderr",
          "text": [
            "100%|██████████| 4532/4532 [01:07<00:00, 67.10it/s]\n"
          ]
        },
        {
          "output_type": "stream",
          "name": "stdout",
          "text": [
            "Epoch 15/20, Loss: 0.9519\n"
          ]
        },
        {
          "output_type": "stream",
          "name": "stderr",
          "text": [
            "100%|██████████| 4532/4532 [01:07<00:00, 67.51it/s]\n"
          ]
        },
        {
          "output_type": "stream",
          "name": "stdout",
          "text": [
            "Epoch 16/20, Loss: 0.8981\n"
          ]
        },
        {
          "output_type": "stream",
          "name": "stderr",
          "text": [
            "100%|██████████| 4532/4532 [01:09<00:00, 65.31it/s]\n"
          ]
        },
        {
          "output_type": "stream",
          "name": "stdout",
          "text": [
            "Epoch 17/20, Loss: 0.8521\n"
          ]
        },
        {
          "output_type": "stream",
          "name": "stderr",
          "text": [
            "100%|██████████| 4532/4532 [01:08<00:00, 66.17it/s]\n"
          ]
        },
        {
          "output_type": "stream",
          "name": "stdout",
          "text": [
            "Epoch 18/20, Loss: 0.8079\n"
          ]
        },
        {
          "output_type": "stream",
          "name": "stderr",
          "text": [
            "100%|██████████| 4532/4532 [01:07<00:00, 66.93it/s]\n"
          ]
        },
        {
          "output_type": "stream",
          "name": "stdout",
          "text": [
            "Epoch 19/20, Loss: 0.7709\n"
          ]
        },
        {
          "output_type": "stream",
          "name": "stderr",
          "text": [
            "100%|██████████| 4532/4532 [01:09<00:00, 65.53it/s]\n"
          ]
        },
        {
          "output_type": "stream",
          "name": "stdout",
          "text": [
            "Epoch 20/20, Loss: 0.7368\n"
          ]
        },
        {
          "output_type": "display_data",
          "data": {
            "text/plain": [
              "<Figure size 640x480 with 1 Axes>"
            ],
            "image/png": "[encoded data removed]"
          },
          "metadata": {}
        }
      ]
    },
    {
      "cell_type": "markdown",
      "source": [
        "## Pickle model"
      ],
      "metadata": {
        "id": "LCAP-F3poBBu"
      }
    },
    {
      "cell_type": "code",
      "source": [
        "with open('lyrics_model_20epoch.pkl', 'wb') as f:\n",
        "    pickle.dump(model, f)"
      ],
      "metadata": {
        "id": "fUy6q-xOoBB6"
      },
      "execution_count": 91,
      "outputs": []
    },
    {
      "cell_type": "markdown",
      "source": [
        "## epoch 30\n",
        "This is based on epoch_20's model, so in this section num_epoch is set to 10"
      ],
      "metadata": {
        "id": "5jkDDcyCegZT"
      }
    },
    {
      "cell_type": "code",
      "source": [
        "def train_model(model, train_loader, criterion, optimizer, num_epochs):\n",
        "    total_loss_per_epoch = []\n",
        "\n",
        "    for epoch in range(num_epochs):\n",
        "        model.train()\n",
        "        total_loss = 0\n",
        "        for lyrics, genre, target in tqdm(train_loader):\n",
        "            lyrics = lyrics.to(device)\n",
        "            genre = genre.to(device)\n",
        "            target = target.to(device)\n",
        "\n",
        "            optimizer.zero_grad()\n",
        "            outputs = model(lyrics, genre)\n",
        "            loss = criterion(outputs, target)\n",
        "            loss.backward()\n",
        "            optimizer.step()\n",
        "            total_loss += loss.item()\n",
        "\n",
        "        avg_loss = total_loss / len(train_loader)\n",
        "        # print(f'Epoch {epoch+1}/{num_epochs}, Loss: {avg_loss:.4f}')\n",
        "        total_loss_per_epoch.append(avg_loss)\n",
        "\n",
        "\n",
        "    plt.plot(total_loss_per_epoch, label='Training Loss')\n",
        "    plt.xlabel('Epoch')\n",
        "    plt.ylabel('Loss')\n",
        "    plt.title('Training Loss Per Epoch')\n",
        "    plt.legend()\n",
        "    plt.show()\n",
        "\n",
        "\n",
        "criterion = nn.CrossEntropyLoss()\n",
        "optimizer = torch.optim.Adam(model.parameters(), lr=0.001)\n",
        "num_epochs = 10\n",
        "train_model(model, train_dataloader, criterion, optimizer, num_epochs)"
      ],
      "metadata": {
        "colab": {
          "base_uri": "https://localhost:8080/",
          "height": 646
        },
        "id": "cDpaWnyg3guQ",
        "outputId": "768e78c9-466f-4ee9-9c21-0946d13866e1"
      },
      "execution_count": 92,
      "outputs": [
        {
          "output_type": "stream",
          "name": "stderr",
          "text": [
            "100%|██████████| 4532/4532 [01:08<00:00, 66.25it/s]\n",
            "100%|██████████| 4532/4532 [01:09<00:00, 65.64it/s]\n",
            "100%|██████████| 4532/4532 [01:08<00:00, 66.43it/s]\n",
            "100%|██████████| 4532/4532 [01:07<00:00, 66.95it/s]\n",
            "100%|██████████| 4532/4532 [01:09<00:00, 65.35it/s]\n",
            "100%|██████████| 4532/4532 [01:08<00:00, 66.44it/s]\n",
            "100%|██████████| 4532/4532 [01:07<00:00, 66.75it/s]\n",
            "100%|██████████| 4532/4532 [01:09<00:00, 65.17it/s]\n",
            "100%|██████████| 4532/4532 [01:08<00:00, 66.41it/s]\n",
            "100%|██████████| 4532/4532 [01:08<00:00, 66.14it/s]\n"
          ]
        },
        {
          "output_type": "display_data",
          "data": {
            "text/plain": [
              "<Figure size 640x480 with 1 Axes>"
            ],
            "image/png": "[encoded data removed]"
          },
          "metadata": {}
        }
      ]
    },
    {
      "cell_type": "markdown",
      "source": [
        "## Pickle model"
      ],
      "metadata": {
        "id": "oeE3nge4pfhf"
      }
    },
    {
      "cell_type": "code",
      "source": [
        "with open('lyrics_model_30epoch.pkl', 'wb') as f:\n",
        "    pickle.dump(model, f)"
      ],
      "metadata": {
        "id": "Q9vb1nLYpl-c"
      },
      "execution_count": 94,
      "outputs": []
    },
    {
      "cell_type": "markdown",
      "source": [
        "# Generate words"
      ],
      "metadata": {
        "id": "RZs7EHsYwuVW"
      }
    },
    {
      "cell_type": "code",
      "source": [
        "def softmax_sampling(logits, temperature=1.5):\n",
        "    if logits.dim() == 1:\n",
        "        logits = logits.unsqueeze(0)\n",
        "    probabilities = F.softmax(logits / temperature, dim=-1)\n",
        "    next_word_idx = torch.multinomial(probabilities, num_samples=1)\n",
        "    return next_word_idx.item()\n",
        "\n",
        "seed = '[ Intro'\n",
        "genre_seed = 'soul'\n",
        "temperature = 1.0\n",
        "\n",
        "model.eval()\n",
        "\n",
        "current_text = [word_to_index.get(word, word_to_index[\"<UNK>\"]) for word in seed.split()]\n",
        "genre_index = genre_to_index[genre_seed]\n",
        "\n",
        "input_seq = torch.tensor([current_text], dtype=torch.long).to(device)\n",
        "genre_seq = torch.tensor([genre_index], dtype=torch.long).to(device)\n",
        "\n",
        "with torch.no_grad():\n",
        "    output = model(input_seq, genre_seq)\n",
        "    # print(output[0])\n",
        "    logits = output[0]\n",
        "    next_word_idx = softmax_sampling(logits, temperature)\n",
        "    # print(next_word_idx)\n",
        "\n",
        "next_word = index_to_word.get(next_word_idx, \"<UNK>\")\n",
        "print(\"Next word:\", next_word)"
      ],
      "metadata": {
        "colab": {
          "base_uri": "https://localhost:8080/"
        },
        "id": "Pq2lUod0xU3q",
        "outputId": "2bdd9021-2855-4b10-e211-79531340360e"
      },
      "execution_count": 23,
      "outputs": [
        {
          "output_type": "stream",
          "name": "stdout",
          "text": [
            "Next word: ]\n"
          ]
        }
      ]
    },
    {
      "cell_type": "markdown",
      "source": [
        "# Generator Lyrics"
      ],
      "metadata": {
        "id": "-Uh6qEk1B-Bu"
      }
    },
    {
      "cell_type": "code",
      "source": [
        "# use 50 words one line to show lyrics, otherwise the output is messy\n",
        "def show_lyrics(generated_lyrics, genre, seed):\n",
        "    generated_lyrics = generated_lyrics.split()\n",
        "    print(f\"Genre: {genre}\")\n",
        "    print(f\"Seed: {seed}\")\n",
        "    rounds = math.ceil(len(generated_lyrics) / 50)\n",
        "    for i in range(rounds):\n",
        "        if i == rounds - 1:\n",
        "            print(' '.join(generated_lyrics[i*50:]))\n",
        "            # print(generated_lyrics[i*100:])\n",
        "            print('\\n')\n",
        "        else:\n",
        "            print(' '.join(generated_lyrics[i*50 : (i+1)*50]))\n",
        "\n",
        "# show_lyrics(generated_lyrics_soul, genre1, seed_text)\n"
      ],
      "metadata": {
        "id": "w0IVk140Kfdm"
      },
      "execution_count": 27,
      "outputs": []
    },
    {
      "cell_type": "code",
      "source": [
        "def generate_lyrics(model, seed, genre, word_to_index, index_to_word, genre_to_index, max_length=1000, max_sentence_length=50, temperature=1.5):\n",
        "    model.eval()\n",
        "\n",
        "    generated_lyrics = seed\n",
        "    current_sentence_length = 0\n",
        "    current_text = [word_to_index.get(word, word_to_index[\"<UNK>\"]) for word in seed.split()]\n",
        "    genre_index = genre_to_index[genre]\n",
        "\n",
        "    for _ in range(max_length):\n",
        "        if current_sentence_length >= max_sentence_length:\n",
        "            current_text = [word_to_index.get(\"<s>\", word_to_index[\"<UNK>\"])]\n",
        "            current_sentence_length = 0\n",
        "\n",
        "        input_seq = torch.tensor([current_text], dtype=torch.long).to(device)\n",
        "        genre_seq = torch.tensor([genre_index], dtype=torch.long).to(device)\n",
        "\n",
        "        with torch.no_grad():\n",
        "            output = model(input_seq, genre_seq)\n",
        "            logits = output[0]\n",
        "            next_word_idx = softmax_sampling(logits, temperature)\n",
        "\n",
        "        next_word = index_to_word.get(next_word_idx, \"<UNK>\")\n",
        "        generated_lyrics += \" \" + next_word\n",
        "        current_text.append(next_word_idx)\n",
        "        current_sentence_length += 1\n",
        "\n",
        "        if next_word == \"</s>\" or len(generated_lyrics.split()) >= max_length:\n",
        "            break\n",
        "\n",
        "    return generated_lyrics\n",
        "\n",
        "seed_text = \"i love you\"\n",
        "genre1 = \"soul\"\n",
        "genre2 = \"rock\"\n",
        "genre3 = 'rap'\n",
        "generated_lyrics_soul = generate_lyrics(model, seed_text, genre1, word_to_index, index_to_word, genre_to_index, max_length=500, max_sentence_length=50, temperature=1.5)\n",
        "generated_lyrics_rock = generate_lyrics(model, seed_text, genre2, word_to_index, index_to_word, genre_to_index, max_length=500, max_sentence_length=50, temperature=1.5)\n",
        "generated_lyrics_rap = generate_lyrics(model, seed_text, genre2, word_to_index, index_to_word, genre_to_index, max_length=500, max_sentence_length=50, temperature=1.5)\n",
        "\n",
        "show_lyrics(generated_lyrics_soul, genre1, seed_text)\n",
        "show_lyrics(generated_lyrics_rock, genre2, seed_text)\n",
        "show_lyrics(generated_lyrics_rap, genre3, seed_text)"
      ],
      "metadata": {
        "colab": {
          "base_uri": "https://localhost:8080/"
        },
        "id": "dB7phjvsGJy8",
        "outputId": "14931b62-32c4-4f09-ee59-f48fbff7025f"
      },
      "execution_count": 212,
      "outputs": [
        {
          "output_type": "stream",
          "name": "stdout",
          "text": [
            "Genre: soul\n",
            "Seed: i love you\n",
            "i love you so always seem there now too much ? yeah ? ) oh baby special so loud to love it there fair inside '' streets on impress face right through us ! , sure ! ! ) dance ... wee dance dance waiting dance nigga shoulder on mountains\n",
            "moon silk cigars sing prepared floor static sight jesus on tv sign trouble freaks smoke silly things things live : stool to twice somehow needs frame too hip '' uhh blown ends around him forever baby tonight ? uh yeah me meeting over us honest too long friend ? no\n",
            "more fee-fee-fee-fee vicious knows do easy ) good enough supreme stands pie '' rose streets years remains contemplating it started nice command song for mexico that baby ? no doctor shared y'all good chest stone tight on fire times yesterday before you should finished smile here ) - : candlelight\n",
            "disguise twice ! something beautiful action behind me why ? i helpless something sings wrong ? stranger in time ? ) ? hoo hoo hoo debbie reality stands dial easy way went went there ) together me goes from me deep la-la-la complete pocket would cries earth blood o kids\n",
            "crossed hands plane but ... whooping i realize again ? yeah ? yeah '' yeah ... nobody not go '' when surrender plays mammals home ? aside ) hour groove me around ? hey ! '' lend pie too ah ring raw dumb three street ? seven ? '' yeah\n",
            "niggas rejection beef baby outside singing frame close close close now dance it gives me needed mexico goes under it slow again '' again ! again ! '' yeah yeah yeah yeah yeah yeah yeah yeah yeah ? yeah yeah tonight someone ... kemp hostility noon one day else room\n",
            "last time round plan like haze wind trust that times changed alone alone race unfold it bone house ' truth hey going wild horses with me ? and me whatever too slow one left six juarez grin candy black night sun number hot anyway night stands fresh feeling bright did\n",
            "rough flame birthday lord leaving us all night charms veins romance sin right d-a-n-c-e '' again ! stay away to stay out now tight why ? after you walk on tonight ? yeah ! ! ) ooh yeah ! ! '' again '' again ? yeah '' yo slow night\n",
            "tomorrow slow dance ... matters sunrise on thee outside up ! ) cut me loose fever over ' heart away brightly fine distance hello ! '' yeah yeah ... oh '' pie ) there goes followed game play over light on you sing baby ... ) song three rikers thang\n",
            "hey kids nothing fuss hey ) well well yeah houses week know him talk me now seems stuff things change though silly changes ? no more ? long going new real - hot night '' quick began us numb ? no further cares '' ] trouble be brave to business\n",
            "\n",
            "\n",
            "Genre: rock\n",
            "Seed: i love you\n",
            "i love you around me picture now ? is found track recollection war next door '' you send this cock hard town take ! '' darkness tomorrow hurts snow out right on it ! ! ! … baby ? ! ! please ! tomorrow ! ! '' ! ! oh\n",
            "! ! '' dance again now ! ! ! ! ! oh ! ! ” trial ! ! '' integrated ... ! '' yell games distributed ) better dies apartment clear dawn up ... jack dry well right now ? motherfucker leave it moon late streets ? '' again ?\n",
            "but then cruise dlg ! through fingers ! '' memories flock crying… it completely on seul treason shoes on shoes on you high ... yet escape moments tonight ? miss round me round arms strong ? oh-oh-oh-oh ! '' tip happier though ! ! ! mama heart attack it !\n",
            "'' swag girlfriend still love you tonight ? boil music addict stars ) ” you please her now is cadillac power player spine ' me home again ... fast move me ... '' again now ! ! ! ! … leg back someday out ! ! ! away maybe begin\n",
            "again home easy prefab disappears towers apartment dancing apologize by soul pursue knows it now up behind ? sell you can someone yesterday loco you ? yeah ... yo '' nothing ! '' girl ? no word respect ? meat ... ! away keeps blues on twice ! ! ''\n",
            "right ! ! yeah nothing ... snoring '' yeah thing '' jaw ! '' damn crimes found pity sky above eye above water machine sometimes kill linger ' whiskey anymore news cheese ? son 'cause appears for action call me crown compton ? blues sometime ? hey ! '' !\n",
            "? ! sarcophagus wedding mam ) trunk yo ' overhead coat made made strong learned ? g ? me girl ? ' in sympathy ! ) later ' times me raper today ? yeah '' yeah know me ! '' mine nervous army sin pro twice away could find them\n",
            "street again '' judge blanket lobotomize school lust easy ) want you did can touch me please do tonight about it now it price it ? yeah ) 'em on earth '' disguise star space on strangers take chances front heard fails clear unseen play wounds job digital convincing down\n",
            "willing bitches under leaving it get nervous ot now it '' alive ! '' slide stop cocaine sign wondering line save you carolina today ' sink up high heart ? '' find motherfucker know how paid kitten street street ! ” you say it up ? ! out ! !\n",
            "… loose for bus tv ! insane ! ! … ! ! ! ) from you faithful ball saucy now ! ! is slower it just goes from niggas from nowhere from home now ? '' fold it is survived going blind right now ? wild ? '' embrace ?\n",
            "\n",
            "\n",
            "Genre: rap\n",
            "Seed: i love you\n",
            "i love you still soon done had evil bitch of blow ... rebuild girl scene from ! ! ” ) applause when another rhyme sign weeks standing boing embrace twisted hall reputation hurt you here tonight ' now on ice now hard 'cause jesus swing myself caroline inside 'em started\n",
            "suffer ? motherfucker fake it girl grows insane 'cause long time ago porch crossroads tonight inside it himself ? slipping tonight ? .. ! '' sign it ! ! yet ! '' only position ! … fool yo thing heard off work out thing over word ! ! … dry\n",
            "! ! … shut walls ) face ? sets ! saga shredder kids yours '' issue ! ) there 'd ? oh—oh—oh you heal tonight ? '' but group tune ... '' j ? '' ... seats one new truck ! '' whatever works i papi ? '' then when\n",
            "touch you stop midwife to-ny earth baby soon aeroplane changed ! jam ? figure ! ! '' rocks ! — trial dawn out curtains ) ... realize one two time two real motherfucker run around you play in everything leave inside for guillotine bottle well nice now ? yeah ''\n",
            "yeah ? player now uh rails now hide it ! — further string down ! ) there ? torn hot `` ' '' personality ! '' yeah '' eyes rings heard booze murder lost insane cruise now smith child now ... honey ... something stand ? ! ... gritty !\n",
            "'' how about friendless loud disappear ... watching rain next whiskey hard race blade salvation trees jolene lies track hit next mad unselfishly ? hid it ! how ' now ... recognize .. ! '' bleed enough 'em when go fit wasted others meant ? right now ? ... go\n",
            "go in snow bus touch above water answers nardo snow night long time but mellow railings sand things secure it sleeping heard me : ground ! homicidal '' instead inside fuck you walk outside rain apart tonight ? '' over satellite story away pretending wear please written badly about herself\n",
            "rare change consequences shady lace ! anybody pumpin ' crossed ! ! … how ! ! … ! ) ... fuck you rides him down dead '' ! '' care '' hair too long gone done ? son ) now hold free now ! ! movie ! ! … lit\n",
            "me album ) alone ? one appeal '' release ? blues school smash ? ' early dawn ) spit days ... within ... ugly girl ? red chin ' up down below me ? ) look turned cool morn ' would dressed up mad change me wall 'em up high\n",
            "five amar '' ohhhhhh please ink stations me ? rights whatever sunrise you na-naaaaaaaa ? '' day day ? night ... daydreaming night long hot mold ! ! babylon waste day long load done men died free unknown ! out there ! ” ! ! ) boy blow ... underprepared\n",
            "\n",
            "\n"
          ]
        }
      ]
    },
    {
      "cell_type": "markdown",
      "source": [
        "# Using 2 Layer LSTM Model\n",
        "\n"
      ],
      "metadata": {
        "id": "tFUHLPCcGxQT"
      }
    },
    {
      "cell_type": "code",
      "source": [
        "# adding LSTM Layer\n",
        "class LyricsLSTM(nn.Module):\n",
        "    def __init__(self, vocab_size, genre_size, embedding_dim, hidden_dim, output_dim, num_layers=2):\n",
        "        super(LyricsLSTM, self).__init__()\n",
        "        self.embedding = nn.Embedding(vocab_size, embedding_dim)\n",
        "        self.genre_embedding = nn.Embedding(genre_size, embedding_dim)\n",
        "        self.lstm = nn.LSTM(embedding_dim, hidden_dim, num_layers=num_layers, batch_first=True)\n",
        "        self.fc = nn.Linear(hidden_dim, output_dim)\n",
        "\n",
        "    def forward(self, lyrics, genre):\n",
        "        lyrics_embedded = self.embedding(lyrics)\n",
        "        genre_embedded = self.genre_embedding(genre)\n",
        "        combined = lyrics_embedded + genre_embedded.unsqueeze(1)\n",
        "        lstm_out, _ = self.lstm(combined)\n",
        "        out = self.fc(lstm_out[:, -1, :])\n",
        "        return out\n",
        "\n",
        "vocab_size = len(word_to_index)\n",
        "genre_size = 30\n",
        "embedding_dim = 256\n",
        "hidden_dim = 256\n",
        "output_dim = vocab_size\n",
        "num_layers= 2\n",
        "model = LyricsLSTM(vocab_size, genre_size, embedding_dim, hidden_dim, output_dim, num_layers).to(device)\n",
        "print(model)"
      ],
      "metadata": {
        "colab": {
          "base_uri": "https://localhost:8080/"
        },
        "id": "vKYVI_PsHM4j",
        "outputId": "7144abfc-397a-4514-d234-9b2e0c951954"
      },
      "execution_count": 19,
      "outputs": [
        {
          "output_type": "stream",
          "name": "stdout",
          "text": [
            "LyricsLSTM(\n",
            "  (embedding): Embedding(31631, 256)\n",
            "  (genre_embedding): Embedding(30, 256)\n",
            "  (lstm): LSTM(256, 256, num_layers=2, batch_first=True)\n",
            "  (fc): Linear(in_features=256, out_features=31631, bias=True)\n",
            ")\n"
          ]
        }
      ]
    },
    {
      "cell_type": "code",
      "source": [
        "criterion = nn.CrossEntropyLoss()\n",
        "optimizer = torch.optim.Adam(model.parameters(), lr=0.001)\n",
        "num_epochs = 20\n",
        "\n",
        "total_loss_per_epoch = []\n",
        "\n",
        "for epoch in range(num_epochs):\n",
        "    model.train()\n",
        "    total_loss = 0\n",
        "    for lyrics, genre, target in tqdm(train_dataloader):\n",
        "        lyrics = lyrics.to(device)\n",
        "        genre = genre.to(device)\n",
        "        target = target.to(device)\n",
        "\n",
        "        optimizer.zero_grad()\n",
        "        outputs = model(lyrics, genre)\n",
        "        loss = criterion(outputs, target)\n",
        "        loss.backward()\n",
        "        optimizer.step()\n",
        "        total_loss += loss.item()\n",
        "\n",
        "    avg_loss = total_loss / len(train_dataloader)\n",
        "    print(f'Epoch {epoch+1}/{num_epochs}, Loss: {avg_loss:.4f}')\n",
        "    total_loss_per_epoch.append(avg_loss)\n",
        "\n",
        "# plt loss\n",
        "plt.plot(total_loss_per_epoch, label='Training Loss')\n",
        "plt.xlabel('Epoch')\n",
        "plt.ylabel('Loss')\n",
        "plt.title('Training Loss Per Epoch')\n",
        "plt.legend()\n",
        "plt.show()"
      ],
      "metadata": {
        "colab": {
          "base_uri": "https://localhost:8080/",
          "height": 1000
        },
        "id": "TGyAHCkoHyai",
        "outputId": "742effe1-b225-453b-e5cd-1ad9d549501d"
      },
      "execution_count": 20,
      "outputs": [
        {
          "output_type": "stream",
          "name": "stderr",
          "text": [
            "100%|██████████| 4532/4532 [01:49<00:00, 41.40it/s]\n"
          ]
        },
        {
          "output_type": "stream",
          "name": "stdout",
          "text": [
            "Epoch 1/20, Loss: 4.5369\n"
          ]
        },
        {
          "output_type": "stream",
          "name": "stderr",
          "text": [
            "100%|██████████| 4532/4532 [01:47<00:00, 42.10it/s]\n"
          ]
        },
        {
          "output_type": "stream",
          "name": "stdout",
          "text": [
            "Epoch 2/20, Loss: 3.4972\n"
          ]
        },
        {
          "output_type": "stream",
          "name": "stderr",
          "text": [
            "100%|██████████| 4532/4532 [01:49<00:00, 41.53it/s]\n"
          ]
        },
        {
          "output_type": "stream",
          "name": "stdout",
          "text": [
            "Epoch 3/20, Loss: 2.8176\n"
          ]
        },
        {
          "output_type": "stream",
          "name": "stderr",
          "text": [
            "100%|██████████| 4532/4532 [01:47<00:00, 41.97it/s]\n"
          ]
        },
        {
          "output_type": "stream",
          "name": "stdout",
          "text": [
            "Epoch 4/20, Loss: 2.2817\n"
          ]
        },
        {
          "output_type": "stream",
          "name": "stderr",
          "text": [
            "100%|██████████| 4532/4532 [01:49<00:00, 41.50it/s]\n"
          ]
        },
        {
          "output_type": "stream",
          "name": "stdout",
          "text": [
            "Epoch 5/20, Loss: 1.8696\n"
          ]
        },
        {
          "output_type": "stream",
          "name": "stderr",
          "text": [
            "100%|██████████| 4532/4532 [01:48<00:00, 41.86it/s]\n"
          ]
        },
        {
          "output_type": "stream",
          "name": "stdout",
          "text": [
            "Epoch 6/20, Loss: 1.5565\n"
          ]
        },
        {
          "output_type": "stream",
          "name": "stderr",
          "text": [
            "100%|██████████| 4532/4532 [01:49<00:00, 41.54it/s]\n"
          ]
        },
        {
          "output_type": "stream",
          "name": "stdout",
          "text": [
            "Epoch 7/20, Loss: 1.3192\n"
          ]
        },
        {
          "output_type": "stream",
          "name": "stderr",
          "text": [
            "100%|██████████| 4532/4532 [01:48<00:00, 41.82it/s]\n"
          ]
        },
        {
          "output_type": "stream",
          "name": "stdout",
          "text": [
            "Epoch 8/20, Loss: 1.1283\n"
          ]
        },
        {
          "output_type": "stream",
          "name": "stderr",
          "text": [
            "100%|██████████| 4532/4532 [01:49<00:00, 41.56it/s]\n"
          ]
        },
        {
          "output_type": "stream",
          "name": "stdout",
          "text": [
            "Epoch 9/20, Loss: 0.9765\n"
          ]
        },
        {
          "output_type": "stream",
          "name": "stderr",
          "text": [
            "100%|██████████| 4532/4532 [01:47<00:00, 41.97it/s]\n"
          ]
        },
        {
          "output_type": "stream",
          "name": "stdout",
          "text": [
            "Epoch 10/20, Loss: 0.8458\n"
          ]
        },
        {
          "output_type": "stream",
          "name": "stderr",
          "text": [
            "100%|██████████| 4532/4532 [01:49<00:00, 41.54it/s]\n"
          ]
        },
        {
          "output_type": "stream",
          "name": "stdout",
          "text": [
            "Epoch 11/20, Loss: 0.7399\n"
          ]
        },
        {
          "output_type": "stream",
          "name": "stderr",
          "text": [
            "100%|██████████| 4532/4532 [01:48<00:00, 41.95it/s]\n"
          ]
        },
        {
          "output_type": "stream",
          "name": "stdout",
          "text": [
            "Epoch 12/20, Loss: 0.6515\n"
          ]
        },
        {
          "output_type": "stream",
          "name": "stderr",
          "text": [
            "100%|██████████| 4532/4532 [01:48<00:00, 41.73it/s]\n"
          ]
        },
        {
          "output_type": "stream",
          "name": "stdout",
          "text": [
            "Epoch 13/20, Loss: 0.5773\n"
          ]
        },
        {
          "output_type": "stream",
          "name": "stderr",
          "text": [
            "100%|██████████| 4532/4532 [01:47<00:00, 42.04it/s]\n"
          ]
        },
        {
          "output_type": "stream",
          "name": "stdout",
          "text": [
            "Epoch 14/20, Loss: 0.5182\n"
          ]
        },
        {
          "output_type": "stream",
          "name": "stderr",
          "text": [
            "100%|██████████| 4532/4532 [01:48<00:00, 41.64it/s]\n"
          ]
        },
        {
          "output_type": "stream",
          "name": "stdout",
          "text": [
            "Epoch 15/20, Loss: 0.4726\n"
          ]
        },
        {
          "output_type": "stream",
          "name": "stderr",
          "text": [
            "100%|██████████| 4532/4532 [01:48<00:00, 41.77it/s]\n"
          ]
        },
        {
          "output_type": "stream",
          "name": "stdout",
          "text": [
            "Epoch 16/20, Loss: 0.4348\n"
          ]
        },
        {
          "output_type": "stream",
          "name": "stderr",
          "text": [
            "100%|██████████| 4532/4532 [01:49<00:00, 41.55it/s]\n"
          ]
        },
        {
          "output_type": "stream",
          "name": "stdout",
          "text": [
            "Epoch 17/20, Loss: 0.3956\n"
          ]
        },
        {
          "output_type": "stream",
          "name": "stderr",
          "text": [
            "100%|██████████| 4532/4532 [01:47<00:00, 42.19it/s]\n"
          ]
        },
        {
          "output_type": "stream",
          "name": "stdout",
          "text": [
            "Epoch 18/20, Loss: 0.3686\n"
          ]
        },
        {
          "output_type": "stream",
          "name": "stderr",
          "text": [
            "100%|██████████| 4532/4532 [01:49<00:00, 41.53it/s]\n"
          ]
        },
        {
          "output_type": "stream",
          "name": "stdout",
          "text": [
            "Epoch 19/20, Loss: 0.3513\n"
          ]
        },
        {
          "output_type": "stream",
          "name": "stderr",
          "text": [
            "100%|██████████| 4532/4532 [01:48<00:00, 41.86it/s]\n"
          ]
        },
        {
          "output_type": "stream",
          "name": "stdout",
          "text": [
            "Epoch 20/20, Loss: 0.3317\n"
          ]
        },
        {
          "output_type": "display_data",
          "data": {
            "text/plain": [
              "<Figure size 640x480 with 1 Axes>"
            ],
            "image/png": "[encoded data removed]"
          },
          "metadata": {}
        }
      ]
    },
    {
      "cell_type": "code",
      "source": [
        "with open('2LSTM_model_20.pkl', 'wb') as f:\n",
        "    pickle.dump(model, f)"
      ],
      "metadata": {
        "id": "1CjFwpqVMJzF"
      },
      "execution_count": 24,
      "outputs": []
    },
    {
      "cell_type": "code",
      "source": [
        "def generate_lyrics(model, seed, genre, word_to_index, index_to_word, genre_to_index, max_length=1000, max_sentence_length=50, temperature=1.5):\n",
        "    model.eval()\n",
        "\n",
        "    generated_lyrics = seed\n",
        "    current_sentence_length = 0\n",
        "    current_text = [word_to_index.get(word, word_to_index[\"<UNK>\"]) for word in seed.split()]\n",
        "    genre_index = genre_to_index[genre]\n",
        "\n",
        "    for _ in range(max_length):\n",
        "        if current_sentence_length >= max_sentence_length:\n",
        "            current_text = [word_to_index.get(\"<s>\", word_to_index[\"<UNK>\"])]\n",
        "            current_sentence_length = 0\n",
        "\n",
        "        input_seq = torch.tensor([current_text], dtype=torch.long).to(device)\n",
        "        genre_seq = torch.tensor([genre_index], dtype=torch.long).to(device)\n",
        "\n",
        "        with torch.no_grad():\n",
        "            output = model(input_seq, genre_seq)\n",
        "            logits = output[0]\n",
        "            next_word_idx = softmax_sampling(logits, temperature)\n",
        "\n",
        "        next_word = index_to_word.get(next_word_idx, \"<UNK>\")\n",
        "        generated_lyrics += \" \" + next_word\n",
        "        current_text.append(next_word_idx)\n",
        "        current_sentence_length += 1\n",
        "\n",
        "        if next_word == \"</s>\" or len(generated_lyrics.split()) >= max_length:\n",
        "            break\n",
        "\n",
        "    return generated_lyrics\n",
        "\n",
        "seed_text = \"i love you\"\n",
        "genre1 = \"soul\"\n",
        "genre2 = \"rock\"\n",
        "genre3 = 'rap'\n",
        "generated_lyrics_soul = generate_lyrics(model, seed_text, genre1, word_to_index, index_to_word, genre_to_index, max_length=500, max_sentence_length=50, temperature=0.8)\n",
        "generated_lyrics_rock = generate_lyrics(model, seed_text, genre2, word_to_index, index_to_word, genre_to_index, max_length=500, max_sentence_length=50, temperature=0.8)\n",
        "generated_lyrics_rap = generate_lyrics(model, seed_text, genre2, word_to_index, index_to_word, genre_to_index, max_length=500, max_sentence_length=50, temperature=0.8)\n",
        "\n",
        "show_lyrics(generated_lyrics_soul, genre1, seed_text)\n",
        "show_lyrics(generated_lyrics_rock, genre2, seed_text)\n",
        "show_lyrics(generated_lyrics_rap, genre3, seed_text)"
      ],
      "metadata": {
        "colab": {
          "base_uri": "https://localhost:8080/"
        },
        "id": "06YaPnfcMW5r",
        "outputId": "82cc0c0a-eac2-469d-eba6-41c42934d1ff"
      },
      "execution_count": 36,
      "outputs": [
        {
          "output_type": "stream",
          "name": "stdout",
          "text": [
            "Genre: soul\n",
            "Seed: i love you\n",
            "i love you too much : it mean ? ) high things comes inside you caused call me arriving you involved is giving me out after all around you standing around us all day long : yesterday is giving us on down on me now women ah ah ah !\n",
            "! ! ! two ? ) then understand society sticks cars change him is 3:27 hype beyond eyes is silent remain heat together soon white boots pie frame chance clouds ones ' homes stuff is at that door dogs night away does n't see anyone cry ? no ! ''\n",
            "thing ! ! two ? ) then dance is so restless ground t goes blue slow down tight down ... ! ” ! ) ah ah ah ah ah ah ah ah ah ah ah ah ah ah ah ah ah ah ah ah ah ah ah ah ah ah\n",
            "ah ah ah care ? yeah yeah yeah yeah yeah yeah yeah yeah yeah yeah yeah yeah yeah yeah yeah yeah yeah yeah yeah yeah yeah yeah yeah yeah yeah yeah yeah yeah yeah yeah yeah yeah yeah yeah yeah yeah woo ) you ) me ) you leave me\n",
            "alone ? ) dirty beat heat is jaded ' away ? yea ’ t find us together away with you ? ) confusion degrees hate ... fan mines water stranger is found to you scream ! ) uh-huh ! ! ! ! ! ) science women } ? ooh )\n",
            "oh…oh… ... electric home in water eyes leaves times two women was banned stuff pools tonight us fits low : mines with me so tight so loud ? ' ! '' ! } ! ! ! ! ! ! ! ! ! ! ! ) ! ! ! ! !\n",
            "! ! ! yeah you oh i do oh girl ) you another world time on you to change ? ) you stare : fly away : see you soar ? ) uh-huh ! ) uh-huh ! ) uh-huh ! ! — ! } ) uh-huh girl ! ) uh-huh\n",
            "bar uh uh two ) shit bar * radio * ... hoo ! ! ! ! ! ) ! ... ! ! ! ) ah ... and yeah ! ) ! ) ! ) ah ... ooh ooh ooh ooh ) ... ... huh ! ! yeah ! yeah !\n",
            "} ) ... you smoke his hero taller ? but throne grass scenes together instead shits : ahh mines us does n't miss them all ! ) oh-oh ! } ! ! ! ! ! ! ! ! ! ! ! ! ! ! ! ! ! ! ! ''\n",
            "! ) liars beat control him blow ? ' him together again ' ? ) it all electric ... hey ! ! ! '' ! ! ! ! ! '' ! ooh ! ! ! '' ... ooh ! ) ah ... ooh ) alright ! yeah ! ! !\n",
            "\n",
            "\n",
            "Genre: rock\n",
            "Seed: i love you\n",
            "i love you ? '' yeah ... ) you ... today ! ! ! ! ! ) ! ! ! ! ! ! ! ! ! ! ! ! ! ! ! ! ! ! ! ! ! ! ! ! ! ! ! ! ! ! ! ! ...\n",
            "... ! ! bee me sick them pass me free oh no ! ! oh ! ! ! ! ! ! ! ! ! ! '' ! '' ! '' ! '' ! '' ! '' ! '' ! oh '' ! ) ! ! ! ! ! '' !\n",
            "'' ! '' strangelove thoughts sound realised tv thick tall brain ' red pound dice men together with dew together together again ? ' shows ' at end ” he hide it stood blue rhyme morning blue morning '' cold morning sky above us low over with me ) time\n",
            "five ghosts lose bee me dance with you standing n't miss me why why ? oh oh oh oh oh yeah ... oh ... oh ) ... ... ... oh ! ! ! ! ! ! ! ! ! ! ! ! ! ! ! ! ! ! ! !\n",
            "! ! ! shinobi faith dark saturday night comes blue morning ' door ? ah ! ) ! ! ! ! ! ! ! ! ! ! ! ! ! ! ! ! ! ! ! ! ! ! ! ! ! ! ! ! ! ! ! '' !\n",
            "! ! ! scared another means thing alone ; you ! ! ! ! ! ! ! ! ! ! ! ! ! ! ! ! ! ! ! ! ! ! ! ! ! ! ! ! ! ! ! ! ! ! ! ! ! ! ! !\n",
            "! ! ! glass america glass ways bar '' guitars will burn these streets mines this mud heat sheets flow together with laughs cecilia destruction ! '' ! bah-dah-bah-bah ! ! ! ! ! ! ! ! ! ! ! ! ! ! ! ! ! ! ! ! !\n",
            "! ! ! now thing ! '' ! ] world ! '' ! ! '' ! gloom ! ! ! '' ! '' ! ooh '' ! '' ! '' ! '' ! ! ) ! ! ! '' ! '' ! ! '' ! '' ! '' ! ''\n",
            "! '' day voudi sound clearly more cover ? ) time with free blow everything okay is like yesterday now is : from me exactly said again ! ! ! ! ! ! ! ! ! ! ! ! ! ! ! ! ! ! ! ! ! ! !\n",
            "! ! ! style bars up blow together in circles high seem old white sign bar boom moon boom moon comes down down shore down 3rd night again '' ! ! ! ! ! ! ! ! ! ! ! ! ! ! ! ! ! ! ! ! !\n",
            "\n",
            "\n",
            "Genre: rap\n",
            "Seed: i love you\n",
            "i love you ? '' yeah ) yeah ! oh yeah ... yeah ! ! ! ! ! ! ! ! ! ! ! '' ! ) it all out again ! ! ! ! ! ! ! ! ! ! ! ! ! ! ! ! ! ! !\n",
            "! ! ! listen away tonight tonight '' ! ooh ! ! ! ! ! ! ! ! ! ! '' ! huh ! '' ! '' ! '' ! '' ! '' ! '' ! '' ! '' ! '' ! '' ! ) ! ! ! ! !\n",
            "! ! ! man her everything real i real sure of yesterday ? oh yes ) time is mine today from it wrong ? oh oh oh ! oh oh ... ) ... ... ... ... ! oh oh ... ... oh oh oh oh oh oh yeah unh oh\n",
            "oh oh oh sound sorry is fun t mean - t scream - no ! '' ! '' ! '' ! turn on '' air ! '' ! ! ! ! ! ! ! ! '' ! ! ) ! ! ! ! ! ! ! ! ! ! !\n",
            "! ! ! sound dance do do do do do do do do do do do do do do do do do do do do ? ) tonight ! are over today ? ) oh no no no no no no no no no ! ! ) now ! )\n",
            "time .. ’ * ! ] disguise ! ! ! ! ! ! ! ! ! ! ! ! ! ! ! ! '' ! ! ! ! '' ! '' ! '' ! '' ! '' ! ! ! '' ! ! '' ! '' ! ! '' !\n",
            "'' day ... time we can pass to you so long ago '' games ? ) oh yeah ! oh ... ... ) ... ... ! ! ! ! ! ! ! ! ! ! ! ! ! ! ! ! ! ! ! ! ! ! ! ! !\n",
            "! ! ! dance why '' ] disguise god on ten shore odd odds with ice peep ball dice he mean track innocent after nine drums dogs does completely entwined ' on me to tonight on time : now ! '' ! '' ! '' ! ooh ! ! !\n",
            "! '' ! never rings ... shit '' lived nothing wouldbeen cool at all about us all : remain it slow ? ' still high town ? oh no no no no no no no no no no no no no no no no no no no no no no\n",
            "! no ! and i agree shit never heal affection naughty in play past '' fan woman but nails is thunder t bend on me on earth ' you in me lately ... ... ... do oh '' ! ) y'all people is coming apart now : shit is done\n",
            "\n",
            "\n"
          ]
        }
      ]
    }
  ]
}