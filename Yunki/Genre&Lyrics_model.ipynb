{
  "nbformat": 4,
  "nbformat_minor": 0,
  "metadata": {
    "colab": {
      "provenance": [],
      "toc_visible": true,
      "gpuType": "T4"
    },
    "kernelspec": {
      "name": "python3",
      "display_name": "Python 3"
    },
    "language_info": {
      "name": "python"
    },
    "accelerator": "GPU"
  },
  "cells": [
    {
      "cell_type": "markdown",
      "source": [
        "# Required package"
      ],
      "metadata": {
        "id": "lYTZJyHRLYTM"
      }
    },
    {
      "cell_type": "code",
      "source": [
        "import string\n",
        "import re\n",
        "import nltk\n",
        "from nltk.tokenize import word_tokenize, sent_tokenize\n",
        "from collections import defaultdict, Counter\n",
        "import numpy as np\n",
        "import pickle\n",
        "import pandas as pd\n",
        "# from sklearn.feature_extraction.text import TfidfVectorizer\n",
        "# from sklearn.preprocessing import StandardScaler, LabelEncoder\n",
        "# from sklearn.model_selection import train_test_split\n",
        "from torch.utils.data import Dataset, DataLoader, random_split\n",
        "import torch\n",
        "import torch.nn as nn\n",
        "import torch.nn.functional as F\n",
        "import torch.optim as optim\n",
        "from collections import Counter\n",
        "import numpy as np\n",
        "import matplotlib.pyplot as plt\n",
        "from tqdm import tqdm\n"
      ],
      "metadata": {
        "id": "dHK-eiPLFQNg"
      },
      "execution_count": 1,
      "outputs": []
    },
    {
      "cell_type": "code",
      "source": [
        "nltk.download('punkt')"
      ],
      "metadata": {
        "colab": {
          "base_uri": "https://localhost:8080/"
        },
        "id": "mjmwkHsrN0vx",
        "outputId": "fbd27da2-e4d8-4447-f7fb-72f4c77d9519"
      },
      "execution_count": 2,
      "outputs": [
        {
          "output_type": "stream",
          "name": "stderr",
          "text": [
            "[nltk_data] Downloading package punkt to /root/nltk_data...\n",
            "[nltk_data]   Unzipping tokenizers/punkt.zip.\n"
          ]
        },
        {
          "output_type": "execute_result",
          "data": {
            "text/plain": [
              "True"
            ]
          },
          "metadata": {},
          "execution_count": 2
        }
      ]
    },
    {
      "cell_type": "code",
      "source": [
        "from google.colab import drive\n",
        "drive.mount('/content/drive')\n",
        "\n",
        "folder_path = '/content/drive/My Drive/data/preprocessed-data'"
      ],
      "metadata": {
        "colab": {
          "base_uri": "https://localhost:8080/"
        },
        "id": "4Gh7GFT0-oxq",
        "outputId": "6c59fb91-e55e-493a-b118-3a946845873d"
      },
      "execution_count": 3,
      "outputs": [
        {
          "output_type": "stream",
          "name": "stdout",
          "text": [
            "Mounted at /content/drive\n"
          ]
        }
      ]
    },
    {
      "cell_type": "markdown",
      "source": [
        "# Load data"
      ],
      "metadata": {
        "id": "giCK2VDO_PZP"
      }
    },
    {
      "cell_type": "code",
      "source": [
        "df_lyrics = pd.read_csv(f\"{folder_path}/song_tokenized_lyrics.csv\")\n",
        "df_metadata = pd.read_csv(f\"{folder_path}/song_metadata.csv\")\n",
        "df_genre = df_metadata.drop(columns=['artist', 'name', 'popularity', 'release_date','explicit', 'duration_ms', 'featured_artists'])\n",
        "# df_genre.head()\n",
        "# df_metadata.head()\n",
        "\n",
        "df_music = pd.merge(df_genre,df_lyrics,on='spotify_id')\n",
        "df_music = df_music.drop(columns=['spotify_id','Unnamed: 0'])\n",
        "\n",
        "# drop song without lyrics\n",
        "df_music = df_music[df_music['lyrics'] != '[]']\n",
        "df_music.drop_duplicates(subset=['lyrics'], inplace=True)"
      ],
      "metadata": {
        "id": "4wnv09G7_UVH"
      },
      "execution_count": 4,
      "outputs": []
    },
    {
      "cell_type": "code",
      "source": [
        "list(df_music['genre'].value_counts())[:10]\n",
        "# get top 10 genre\n",
        "top_10_genres = df_music['genre'].value_counts()\n",
        "# top_10_genre = top_10_genre.index[:10]\n",
        "top_10_genres.iloc[0:10]"
      ],
      "metadata": {
        "colab": {
          "base_uri": "https://localhost:8080/"
        },
        "id": "KCyKZXAvB_5O",
        "outputId": "1c57f647-7546-4ede-a8f0-6f330181959f"
      },
      "execution_count": 5,
      "outputs": [
        {
          "output_type": "execute_result",
          "data": {
            "text/plain": [
              "rock                 769\n",
              "pop                  753\n",
              "indie                532\n",
              "soul                 373\n",
              "alternative          297\n",
              "folk                 281\n",
              "hip-hop              242\n",
              "acoustic             164\n",
              "classic rock         159\n",
              "singer-songwriter    143\n",
              "Name: genre, dtype: int64"
            ]
          },
          "metadata": {},
          "execution_count": 5
        }
      ]
    },
    {
      "cell_type": "code",
      "source": [
        "# get datafram only in top_10_genres\n",
        "df_music_top_10 = df_music[df_music['genre'].isin(top_10_genres.index[:10])]\n",
        "df_music_top_10['genre'].unique()"
      ],
      "metadata": {
        "colab": {
          "base_uri": "https://localhost:8080/"
        },
        "id": "xwBcg6qxFpmf",
        "outputId": "46dbc768-71b7-4fd5-c1b3-b519855d48e1"
      },
      "execution_count": 6,
      "outputs": [
        {
          "output_type": "execute_result",
          "data": {
            "text/plain": [
              "array(['hip-hop', 'singer-songwriter', 'classic rock', 'rock', 'pop',\n",
              "       'alternative', 'soul', 'indie', 'folk', 'acoustic'], dtype=object)"
            ]
          },
          "metadata": {},
          "execution_count": 6
        }
      ]
    },
    {
      "cell_type": "code",
      "source": [
        "\n",
        "# def tokenize(lyrics):\n",
        "#     # lines = lyrics.split('\\n')\n",
        "#     words = word_tokenize(lyrics)\n",
        "#     print(words[:100])\n",
        "#     print(len(words))\n",
        "\n",
        "\n",
        "\n",
        "# tokenize(rock[0])\n",
        "# len(genre_tokenLyrics['rock'])"
      ],
      "metadata": {
        "id": "xdobDJKmU7Y8"
      },
      "execution_count": 7,
      "outputs": []
    },
    {
      "cell_type": "code",
      "source": [
        "def clean_text(song):\n",
        "    song = re.sub('\\'m', ' am', song)\n",
        "    song = re.sub('\\'ve', ' have', song)\n",
        "    song = re.sub('\\'d ', ' would', song)\n",
        "    song =re.sub('\\'ll', ' will', song)\n",
        "    song = re.sub('\\'s', ' is', song)\n",
        "    song = re.sub('\\'re', ' are', song)\n",
        "\n",
        "    song = song.lower()\n",
        "\n",
        "    return song\n",
        "\n",
        "genre_lyrics = defaultdict(list)\n",
        "\n",
        "for genre, lyrics in zip(df_music_top_10['genre'], df_music_top_10['lyrics']):\n",
        "    genre_lyrics[genre].append(lyrics)\n",
        "\n",
        "rock = genre_lyrics['rock']\n",
        "\n",
        "genre_tokenLyrics = defaultdict(list)\n",
        "for genre, lyrics in genre_lyrics.items():\n",
        "    tokenized_lyric = []\n",
        "    for song in lyrics:\n",
        "        song = clean_text(song)\n",
        "        lines = song.split('\\n')\n",
        "        for line in lines:\n",
        "            words = word_tokenize(line)\n",
        "            tokenized_lyric.append(words)\n",
        "    # if genre == 'rock':\n",
        "    #     print(tokenized_lyric[:100])\n",
        "    #     print(len(tokenized_lyric))\n",
        "    genre_tokenLyrics[genre] = tokenized_lyric\n"
      ],
      "metadata": {
        "id": "S1uhWh85HQis"
      },
      "execution_count": 8,
      "outputs": []
    },
    {
      "cell_type": "markdown",
      "source": [
        "# Create DataFrame"
      ],
      "metadata": {
        "id": "uyFQDdAAfNds"
      }
    },
    {
      "cell_type": "code",
      "source": [
        "def pad_sentence(sentence):\n",
        "    padding_sentence = np.full(50, 'pad', dtype='U50')\n",
        "    length = len(sentence)\n",
        "    if length < 50:\n",
        "        padding_sentence[(50-length):] = sentence\n",
        "    else:\n",
        "        padding_sentence = sentence[(length-50):]\n",
        "    return padding_sentence\n",
        "\n",
        "# x = ['iaaa','iaaa','iaaa','iiaaa','iiaaa','iiaaa','iiaaa','iiaaa','iiaaa','iiaaa','iiaaa','iiaaa']\n",
        "# y = pad_sentence(x)\n",
        "# print(y)"
      ],
      "metadata": {
        "id": "A6m6JHvurhxP"
      },
      "execution_count": 9,
      "outputs": []
    },
    {
      "cell_type": "code",
      "source": [
        "genres = []\n",
        "input_lyrics = []\n",
        "output_words = []\n",
        "\n",
        "for genre, lyrics in genre_tokenLyrics.items():\n",
        "    for sentence in lyrics:\n",
        "        if len(sentence) > 1:\n",
        "            sentence = pad_sentence(sentence)\n",
        "            input_sentence = sentence[:-1]\n",
        "            output_word = sentence[-1]\n",
        "\n",
        "            genres.append(genre)\n",
        "            input_lyrics.append(input_sentence)\n",
        "            output_words.append(output_word)\n",
        "\n",
        "\n",
        "df_music_cleaned = pd.DataFrame({\n",
        "    'genre': genres,\n",
        "    'input_lyrics': input_lyrics,\n",
        "    'output_word': output_words\n",
        "})"
      ],
      "metadata": {
        "id": "bvT5MFI6fM6h"
      },
      "execution_count": 10,
      "outputs": []
    },
    {
      "cell_type": "code",
      "source": [
        "# output_words[0] in string.punctuation\n",
        "output_words\n",
        "len(output_words)"
      ],
      "metadata": {
        "colab": {
          "base_uri": "https://localhost:8080/"
        },
        "id": "f8KdOtzvgZZF",
        "outputId": "90be51e3-0a4f-4fe7-cf18-f85cfb4b99e3"
      },
      "execution_count": 11,
      "outputs": [
        {
          "output_type": "execute_result",
          "data": {
            "text/plain": [
              "181987"
            ]
          },
          "metadata": {},
          "execution_count": 11
        }
      ]
    },
    {
      "cell_type": "code",
      "source": [
        "x = 0\n",
        "for word in output_words:\n",
        "    if word in string.punctuation:\n",
        "        x += 1\n",
        "print(x)"
      ],
      "metadata": {
        "colab": {
          "base_uri": "https://localhost:8080/"
        },
        "id": "dcWtkll8gYSi",
        "outputId": "99ef1687-36bb-4dba-d0ff-3ca7ee1531ec"
      },
      "execution_count": 12,
      "outputs": [
        {
          "output_type": "stream",
          "name": "stdout",
          "text": [
            "45368\n"
          ]
        }
      ]
    },
    {
      "cell_type": "code",
      "source": [
        "df_music_cleaned"
      ],
      "metadata": {
        "colab": {
          "base_uri": "https://localhost:8080/",
          "height": 424
        },
        "id": "TFDRNfxWv1lu",
        "outputId": "34a78fa2-e510-4d87-e34f-5431f1fae3d3"
      },
      "execution_count": 13,
      "outputs": [
        {
          "output_type": "execute_result",
          "data": {
            "text/plain": [
              "           genre                                       input_lyrics  \\\n",
              "0        hip-hop  [pad, pad, pad, pad, pad, pad, pad, pad, pad, ...   \n",
              "1        hip-hop  [pad, pad, pad, pad, pad, pad, pad, pad, pad, ...   \n",
              "2        hip-hop  [pad, pad, pad, pad, pad, pad, pad, pad, pad, ...   \n",
              "3        hip-hop  [pad, pad, pad, pad, pad, pad, pad, pad, pad, ...   \n",
              "4        hip-hop  [pad, pad, pad, pad, pad, pad, pad, pad, pad, ...   \n",
              "...          ...                                                ...   \n",
              "181982  acoustic  [pad, pad, pad, pad, pad, pad, pad, pad, pad, ...   \n",
              "181983  acoustic  [pad, pad, pad, pad, pad, pad, pad, pad, pad, ...   \n",
              "181984  acoustic  [pad, pad, pad, pad, pad, pad, pad, pad, pad, ...   \n",
              "181985  acoustic  [pad, pad, pad, pad, pad, pad, pad, pad, pad, ...   \n",
              "181986  acoustic  [pad, pad, pad, pad, pad, pad, pad, pad, pad, ...   \n",
              "\n",
              "          output_word  \n",
              "0                   ]  \n",
              "1                   ?  \n",
              "2                   ?  \n",
              "3                  up  \n",
              "4               paper  \n",
              "...               ...  \n",
              "181982  misunderstood  \n",
              "181983              ]  \n",
              "181984          world  \n",
              "181985          night  \n",
              "181986          light  \n",
              "\n",
              "[181987 rows x 3 columns]"
            ],
            "text/html": [
              "\n",
              "  <div id=\"df-8d78847c-4a2b-4c7c-93f0-40011cdd4a12\" class=\"colab-df-container\">\n",
              "    <div>\n",
              "<style scoped>\n",
              "    .dataframe tbody tr th:only-of-type {\n",
              "        vertical-align: middle;\n",
              "    }\n",
              "\n",
              "    .dataframe tbody tr th {\n",
              "        vertical-align: top;\n",
              "    }\n",
              "\n",
              "    .dataframe thead th {\n",
              "        text-align: right;\n",
              "    }\n",
              "</style>\n",
              "<table border=\"1\" class=\"dataframe\">\n",
              "  <thead>\n",
              "    <tr style=\"text-align: right;\">\n",
              "      <th></th>\n",
              "      <th>genre</th>\n",
              "      <th>input_lyrics</th>\n",
              "      <th>output_word</th>\n",
              "    </tr>\n",
              "  </thead>\n",
              "  <tbody>\n",
              "    <tr>\n",
              "      <th>0</th>\n",
              "      <td>hip-hop</td>\n",
              "      <td>[pad, pad, pad, pad, pad, pad, pad, pad, pad, ...</td>\n",
              "      <td>]</td>\n",
              "    </tr>\n",
              "    <tr>\n",
              "      <th>1</th>\n",
              "      <td>hip-hop</td>\n",
              "      <td>[pad, pad, pad, pad, pad, pad, pad, pad, pad, ...</td>\n",
              "      <td>?</td>\n",
              "    </tr>\n",
              "    <tr>\n",
              "      <th>2</th>\n",
              "      <td>hip-hop</td>\n",
              "      <td>[pad, pad, pad, pad, pad, pad, pad, pad, pad, ...</td>\n",
              "      <td>?</td>\n",
              "    </tr>\n",
              "    <tr>\n",
              "      <th>3</th>\n",
              "      <td>hip-hop</td>\n",
              "      <td>[pad, pad, pad, pad, pad, pad, pad, pad, pad, ...</td>\n",
              "      <td>up</td>\n",
              "    </tr>\n",
              "    <tr>\n",
              "      <th>4</th>\n",
              "      <td>hip-hop</td>\n",
              "      <td>[pad, pad, pad, pad, pad, pad, pad, pad, pad, ...</td>\n",
              "      <td>paper</td>\n",
              "    </tr>\n",
              "    <tr>\n",
              "      <th>...</th>\n",
              "      <td>...</td>\n",
              "      <td>...</td>\n",
              "      <td>...</td>\n",
              "    </tr>\n",
              "    <tr>\n",
              "      <th>181982</th>\n",
              "      <td>acoustic</td>\n",
              "      <td>[pad, pad, pad, pad, pad, pad, pad, pad, pad, ...</td>\n",
              "      <td>misunderstood</td>\n",
              "    </tr>\n",
              "    <tr>\n",
              "      <th>181983</th>\n",
              "      <td>acoustic</td>\n",
              "      <td>[pad, pad, pad, pad, pad, pad, pad, pad, pad, ...</td>\n",
              "      <td>]</td>\n",
              "    </tr>\n",
              "    <tr>\n",
              "      <th>181984</th>\n",
              "      <td>acoustic</td>\n",
              "      <td>[pad, pad, pad, pad, pad, pad, pad, pad, pad, ...</td>\n",
              "      <td>world</td>\n",
              "    </tr>\n",
              "    <tr>\n",
              "      <th>181985</th>\n",
              "      <td>acoustic</td>\n",
              "      <td>[pad, pad, pad, pad, pad, pad, pad, pad, pad, ...</td>\n",
              "      <td>night</td>\n",
              "    </tr>\n",
              "    <tr>\n",
              "      <th>181986</th>\n",
              "      <td>acoustic</td>\n",
              "      <td>[pad, pad, pad, pad, pad, pad, pad, pad, pad, ...</td>\n",
              "      <td>light</td>\n",
              "    </tr>\n",
              "  </tbody>\n",
              "</table>\n",
              "<p>181987 rows × 3 columns</p>\n",
              "</div>\n",
              "    <div class=\"colab-df-buttons\">\n",
              "\n",
              "  <div class=\"colab-df-container\">\n",
              "    <button class=\"colab-df-convert\" onclick=\"convertToInteractive('df-8d78847c-4a2b-4c7c-93f0-40011cdd4a12')\"\n",
              "            title=\"Convert this dataframe to an interactive table.\"\n",
              "            style=\"display:none;\">\n",
              "\n",
              "  <svg xmlns=\"http://www.w3.org/2000/svg\" height=\"24px\" viewBox=\"0 -960 960 960\">\n",
              "    <path d=\"M120-120v-720h720v720H120Zm60-500h600v-160H180v160Zm220 220h160v-160H400v160Zm0 220h160v-160H400v160ZM180-400h160v-160H180v160Zm440 0h160v-160H620v160ZM180-180h160v-160H180v160Zm440 0h160v-160H620v160Z\"/>\n",
              "  </svg>\n",
              "    </button>\n",
              "\n",
              "  <style>\n",
              "    .colab-df-container {\n",
              "      display:flex;\n",
              "      gap: 12px;\n",
              "    }\n",
              "\n",
              "    .colab-df-convert {\n",
              "      background-color: #E8F0FE;\n",
              "      border: none;\n",
              "      border-radius: 50%;\n",
              "      cursor: pointer;\n",
              "      display: none;\n",
              "      fill: #1967D2;\n",
              "      height: 32px;\n",
              "      padding: 0 0 0 0;\n",
              "      width: 32px;\n",
              "    }\n",
              "\n",
              "    .colab-df-convert:hover {\n",
              "      background-color: #E2EBFA;\n",
              "      box-shadow: 0px 1px 2px rgba(60, 64, 67, 0.3), 0px 1px 3px 1px rgba(60, 64, 67, 0.15);\n",
              "      fill: #174EA6;\n",
              "    }\n",
              "\n",
              "    .colab-df-buttons div {\n",
              "      margin-bottom: 4px;\n",
              "    }\n",
              "\n",
              "    [theme=dark] .colab-df-convert {\n",
              "      background-color: #3B4455;\n",
              "      fill: #D2E3FC;\n",
              "    }\n",
              "\n",
              "    [theme=dark] .colab-df-convert:hover {\n",
              "      background-color: #434B5C;\n",
              "      box-shadow: 0px 1px 3px 1px rgba(0, 0, 0, 0.15);\n",
              "      filter: drop-shadow(0px 1px 2px rgba(0, 0, 0, 0.3));\n",
              "      fill: #FFFFFF;\n",
              "    }\n",
              "  </style>\n",
              "\n",
              "    <script>\n",
              "      const buttonEl =\n",
              "        document.querySelector('#df-8d78847c-4a2b-4c7c-93f0-40011cdd4a12 button.colab-df-convert');\n",
              "      buttonEl.style.display =\n",
              "        google.colab.kernel.accessAllowed ? 'block' : 'none';\n",
              "\n",
              "      async function convertToInteractive(key) {\n",
              "        const element = document.querySelector('#df-8d78847c-4a2b-4c7c-93f0-40011cdd4a12');\n",
              "        const dataTable =\n",
              "          await google.colab.kernel.invokeFunction('convertToInteractive',\n",
              "                                                    [key], {});\n",
              "        if (!dataTable) return;\n",
              "\n",
              "        const docLinkHtml = 'Like what you see? Visit the ' +\n",
              "          '<a target=\"_blank\" href=https://colab.research.google.com/notebooks/data_table.ipynb>data table notebook</a>'\n",
              "          + ' to learn more about interactive tables.';\n",
              "        element.innerHTML = '';\n",
              "        dataTable['output_type'] = 'display_data';\n",
              "        await google.colab.output.renderOutput(dataTable, element);\n",
              "        const docLink = document.createElement('div');\n",
              "        docLink.innerHTML = docLinkHtml;\n",
              "        element.appendChild(docLink);\n",
              "      }\n",
              "    </script>\n",
              "  </div>\n",
              "\n",
              "\n",
              "<div id=\"df-a8848cdf-f78e-4b73-8e9c-a94dd9674bf3\">\n",
              "  <button class=\"colab-df-quickchart\" onclick=\"quickchart('df-a8848cdf-f78e-4b73-8e9c-a94dd9674bf3')\"\n",
              "            title=\"Suggest charts\"\n",
              "            style=\"display:none;\">\n",
              "\n",
              "<svg xmlns=\"http://www.w3.org/2000/svg\" height=\"24px\"viewBox=\"0 0 24 24\"\n",
              "     width=\"24px\">\n",
              "    <g>\n",
              "        <path d=\"M19 3H5c-1.1 0-2 .9-2 2v14c0 1.1.9 2 2 2h14c1.1 0 2-.9 2-2V5c0-1.1-.9-2-2-2zM9 17H7v-7h2v7zm4 0h-2V7h2v10zm4 0h-2v-4h2v4z\"/>\n",
              "    </g>\n",
              "</svg>\n",
              "  </button>\n",
              "\n",
              "<style>\n",
              "  .colab-df-quickchart {\n",
              "      --bg-color: #E8F0FE;\n",
              "      --fill-color: #1967D2;\n",
              "      --hover-bg-color: #E2EBFA;\n",
              "      --hover-fill-color: #174EA6;\n",
              "      --disabled-fill-color: #AAA;\n",
              "      --disabled-bg-color: #DDD;\n",
              "  }\n",
              "\n",
              "  [theme=dark] .colab-df-quickchart {\n",
              "      --bg-color: #3B4455;\n",
              "      --fill-color: #D2E3FC;\n",
              "      --hover-bg-color: #434B5C;\n",
              "      --hover-fill-color: #FFFFFF;\n",
              "      --disabled-bg-color: #3B4455;\n",
              "      --disabled-fill-color: #666;\n",
              "  }\n",
              "\n",
              "  .colab-df-quickchart {\n",
              "    background-color: var(--bg-color);\n",
              "    border: none;\n",
              "    border-radius: 50%;\n",
              "    cursor: pointer;\n",
              "    display: none;\n",
              "    fill: var(--fill-color);\n",
              "    height: 32px;\n",
              "    padding: 0;\n",
              "    width: 32px;\n",
              "  }\n",
              "\n",
              "  .colab-df-quickchart:hover {\n",
              "    background-color: var(--hover-bg-color);\n",
              "    box-shadow: 0 1px 2px rgba(60, 64, 67, 0.3), 0 1px 3px 1px rgba(60, 64, 67, 0.15);\n",
              "    fill: var(--button-hover-fill-color);\n",
              "  }\n",
              "\n",
              "  .colab-df-quickchart-complete:disabled,\n",
              "  .colab-df-quickchart-complete:disabled:hover {\n",
              "    background-color: var(--disabled-bg-color);\n",
              "    fill: var(--disabled-fill-color);\n",
              "    box-shadow: none;\n",
              "  }\n",
              "\n",
              "  .colab-df-spinner {\n",
              "    border: 2px solid var(--fill-color);\n",
              "    border-color: transparent;\n",
              "    border-bottom-color: var(--fill-color);\n",
              "    animation:\n",
              "      spin 1s steps(1) infinite;\n",
              "  }\n",
              "\n",
              "  @keyframes spin {\n",
              "    0% {\n",
              "      border-color: transparent;\n",
              "      border-bottom-color: var(--fill-color);\n",
              "      border-left-color: var(--fill-color);\n",
              "    }\n",
              "    20% {\n",
              "      border-color: transparent;\n",
              "      border-left-color: var(--fill-color);\n",
              "      border-top-color: var(--fill-color);\n",
              "    }\n",
              "    30% {\n",
              "      border-color: transparent;\n",
              "      border-left-color: var(--fill-color);\n",
              "      border-top-color: var(--fill-color);\n",
              "      border-right-color: var(--fill-color);\n",
              "    }\n",
              "    40% {\n",
              "      border-color: transparent;\n",
              "      border-right-color: var(--fill-color);\n",
              "      border-top-color: var(--fill-color);\n",
              "    }\n",
              "    60% {\n",
              "      border-color: transparent;\n",
              "      border-right-color: var(--fill-color);\n",
              "    }\n",
              "    80% {\n",
              "      border-color: transparent;\n",
              "      border-right-color: var(--fill-color);\n",
              "      border-bottom-color: var(--fill-color);\n",
              "    }\n",
              "    90% {\n",
              "      border-color: transparent;\n",
              "      border-bottom-color: var(--fill-color);\n",
              "    }\n",
              "  }\n",
              "</style>\n",
              "\n",
              "  <script>\n",
              "    async function quickchart(key) {\n",
              "      const quickchartButtonEl =\n",
              "        document.querySelector('#' + key + ' button');\n",
              "      quickchartButtonEl.disabled = true;  // To prevent multiple clicks.\n",
              "      quickchartButtonEl.classList.add('colab-df-spinner');\n",
              "      try {\n",
              "        const charts = await google.colab.kernel.invokeFunction(\n",
              "            'suggestCharts', [key], {});\n",
              "      } catch (error) {\n",
              "        console.error('Error during call to suggestCharts:', error);\n",
              "      }\n",
              "      quickchartButtonEl.classList.remove('colab-df-spinner');\n",
              "      quickchartButtonEl.classList.add('colab-df-quickchart-complete');\n",
              "    }\n",
              "    (() => {\n",
              "      let quickchartButtonEl =\n",
              "        document.querySelector('#df-a8848cdf-f78e-4b73-8e9c-a94dd9674bf3 button');\n",
              "      quickchartButtonEl.style.display =\n",
              "        google.colab.kernel.accessAllowed ? 'block' : 'none';\n",
              "    })();\n",
              "  </script>\n",
              "</div>\n",
              "\n",
              "  <div id=\"id_a99f1c6c-d11f-4a44-9ec5-2e4cd404dc8b\">\n",
              "    <style>\n",
              "      .colab-df-generate {\n",
              "        background-color: #E8F0FE;\n",
              "        border: none;\n",
              "        border-radius: 50%;\n",
              "        cursor: pointer;\n",
              "        display: none;\n",
              "        fill: #1967D2;\n",
              "        height: 32px;\n",
              "        padding: 0 0 0 0;\n",
              "        width: 32px;\n",
              "      }\n",
              "\n",
              "      .colab-df-generate:hover {\n",
              "        background-color: #E2EBFA;\n",
              "        box-shadow: 0px 1px 2px rgba(60, 64, 67, 0.3), 0px 1px 3px 1px rgba(60, 64, 67, 0.15);\n",
              "        fill: #174EA6;\n",
              "      }\n",
              "\n",
              "      [theme=dark] .colab-df-generate {\n",
              "        background-color: #3B4455;\n",
              "        fill: #D2E3FC;\n",
              "      }\n",
              "\n",
              "      [theme=dark] .colab-df-generate:hover {\n",
              "        background-color: #434B5C;\n",
              "        box-shadow: 0px 1px 3px 1px rgba(0, 0, 0, 0.15);\n",
              "        filter: drop-shadow(0px 1px 2px rgba(0, 0, 0, 0.3));\n",
              "        fill: #FFFFFF;\n",
              "      }\n",
              "    </style>\n",
              "    <button class=\"colab-df-generate\" onclick=\"generateWithVariable('df_music_cleaned')\"\n",
              "            title=\"Generate code using this dataframe.\"\n",
              "            style=\"display:none;\">\n",
              "\n",
              "  <svg xmlns=\"http://www.w3.org/2000/svg\" height=\"24px\"viewBox=\"0 0 24 24\"\n",
              "       width=\"24px\">\n",
              "    <path d=\"M7,19H8.4L18.45,9,17,7.55,7,17.6ZM5,21V16.75L18.45,3.32a2,2,0,0,1,2.83,0l1.4,1.43a1.91,1.91,0,0,1,.58,1.4,1.91,1.91,0,0,1-.58,1.4L9.25,21ZM18.45,9,17,7.55Zm-12,3A5.31,5.31,0,0,0,4.9,8.1,5.31,5.31,0,0,0,1,6.5,5.31,5.31,0,0,0,4.9,4.9,5.31,5.31,0,0,0,6.5,1,5.31,5.31,0,0,0,8.1,4.9,5.31,5.31,0,0,0,12,6.5,5.46,5.46,0,0,0,6.5,12Z\"/>\n",
              "  </svg>\n",
              "    </button>\n",
              "    <script>\n",
              "      (() => {\n",
              "      const buttonEl =\n",
              "        document.querySelector('#id_a99f1c6c-d11f-4a44-9ec5-2e4cd404dc8b button.colab-df-generate');\n",
              "      buttonEl.style.display =\n",
              "        google.colab.kernel.accessAllowed ? 'block' : 'none';\n",
              "\n",
              "      buttonEl.onclick = () => {\n",
              "        google.colab.notebook.generateWithVariable('df_music_cleaned');\n",
              "      }\n",
              "      })();\n",
              "    </script>\n",
              "  </div>\n",
              "\n",
              "    </div>\n",
              "  </div>\n"
            ]
          },
          "metadata": {},
          "execution_count": 13
        }
      ]
    },
    {
      "cell_type": "markdown",
      "source": [
        "# DataSet"
      ],
      "metadata": {
        "id": "SxY_5pzxl7Yj"
      }
    },
    {
      "cell_type": "code",
      "source": [
        "word_counts = Counter()\n",
        "for _, tokenLyric in genre_tokenLyrics.items():\n",
        "    for song in tokenLyric:\n",
        "        word_counts.update(song)\n",
        "    words = list(word_counts.keys())\n",
        "    word_to_index = {w: idx for idx, w in enumerate(words)}\n",
        "    index_to_word = {idx: w for idx, w in enumerate(words)}\n",
        "\n",
        "# some words can't be found in Dictionary\n",
        "word_to_index[\"<UNK>\"] = len(word_to_index)\n",
        "\n",
        "# word_to_index\n",
        "genres = genre_tokenLyrics.keys()\n",
        "genre_to_index = {genre: idx for idx, genre in enumerate(genres)}\n",
        "index_to_genre = {idx: genre for idx, genre in enumerate(genres)}\n",
        "\n",
        "# genre_to_index"
      ],
      "metadata": {
        "id": "RJQ8AKAUjN-N"
      },
      "execution_count": 14,
      "outputs": []
    },
    {
      "cell_type": "code",
      "source": [
        "class LyricsDataset(Dataset):\n",
        "    def __init__(self, dataframe, word_to_index, genre_to_index):\n",
        "        self.dataframe = dataframe\n",
        "        self.word_to_index = word_to_index\n",
        "        self.genre_to_index = genre_to_index\n",
        "\n",
        "    def __len__(self):\n",
        "        return len(self.dataframe)\n",
        "\n",
        "    def __getitem__(self, idx):\n",
        "        row = self.dataframe.iloc[idx]\n",
        "        genre = self.genre_to_index[row['genre']]\n",
        "        input_lyrics = [self.word_to_index.get(word, self.word_to_index[\"<UNK>\"]) for word in row['input_lyrics']]\n",
        "        output_word = self.word_to_index.get(row['output_word'], self.word_to_index[\"<UNK>\"])\n",
        "        return torch.tensor(input_lyrics, dtype=torch.long), torch.tensor(genre, dtype=torch.long), torch.tensor(output_word, dtype=torch.long)\n",
        "\n",
        "train_dataset = LyricsDataset(df_music_cleaned, word_to_index, genre_to_index)\n",
        "train_dataloader = DataLoader(train_dataset, batch_size=64, shuffle=True)"
      ],
      "metadata": {
        "id": "UnkJyVGVl_ZK"
      },
      "execution_count": 15,
      "outputs": []
    },
    {
      "cell_type": "markdown",
      "source": [
        "# Train model"
      ],
      "metadata": {
        "id": "nLdUgkLAjJv3"
      }
    },
    {
      "cell_type": "code",
      "source": [
        "device = torch.device('cuda' if torch.cuda.is_available() else 'cpu')\n",
        "device"
      ],
      "metadata": {
        "colab": {
          "base_uri": "https://localhost:8080/"
        },
        "id": "wuzHssBDytTm",
        "outputId": "5647cf26-43c2-49c2-c0ec-302ac0c70758"
      },
      "execution_count": 16,
      "outputs": [
        {
          "output_type": "execute_result",
          "data": {
            "text/plain": [
              "device(type='cuda')"
            ]
          },
          "metadata": {},
          "execution_count": 16
        }
      ]
    },
    {
      "cell_type": "code",
      "source": [
        "class LyricsLSTM(nn.Module):\n",
        "    def __init__(self, vocab_size, genre_size, embedding_dim, hidden_dim, output_dim):\n",
        "        super(LyricsLSTM, self).__init__()\n",
        "        self.embedding = nn.Embedding(vocab_size, embedding_dim)\n",
        "        self.genre_embedding = nn.Embedding(genre_size, embedding_dim)\n",
        "        self.lstm = nn.LSTM(embedding_dim, hidden_dim, batch_first=True)\n",
        "        self.fc = nn.Linear(hidden_dim, output_dim)\n",
        "\n",
        "    def forward(self, lyrics, genre):\n",
        "        lyrics_embedded = self.embedding(lyrics)\n",
        "        genre_embedded = self.genre_embedding(genre)\n",
        "        combined = lyrics_embedded + genre_embedded.unsqueeze(1)\n",
        "        lstm_out, _ = self.lstm(combined)\n",
        "        out = self.fc(lstm_out[:, -1, :])\n",
        "        return out\n",
        "\n",
        "vocab_size = len(word_to_index)\n",
        "genre_size = 10\n",
        "embedding_dim = 128\n",
        "hidden_dim = 128\n",
        "output_dim = vocab_size\n",
        "model = LyricsLSTM(vocab_size, genre_size, embedding_dim, hidden_dim, output_dim).to(device)\n",
        "print(model)"
      ],
      "metadata": {
        "colab": {
          "base_uri": "https://localhost:8080/"
        },
        "id": "IOicJ7tposPB",
        "outputId": "a0af1039-af31-412a-fd60-547f415b4422"
      },
      "execution_count": 17,
      "outputs": [
        {
          "output_type": "stream",
          "name": "stdout",
          "text": [
            "LyricsLSTM(\n",
            "  (embedding): Embedding(25124, 128)\n",
            "  (genre_embedding): Embedding(10, 128)\n",
            "  (lstm): LSTM(128, 128, batch_first=True)\n",
            "  (fc): Linear(in_features=128, out_features=25124, bias=True)\n",
            ")\n"
          ]
        }
      ]
    },
    {
      "cell_type": "code",
      "source": [
        "def train_model(model, train_loader, criterion, optimizer, num_epochs):\n",
        "    total_loss_per_epoch = []\n",
        "\n",
        "    for epoch in range(num_epochs):\n",
        "        model.train()\n",
        "        total_loss = 0\n",
        "        for lyrics, genre, target in tqdm(train_loader):\n",
        "            lyrics = lyrics.to(device)\n",
        "            genre = genre.to(device)\n",
        "            target = target.to(device)\n",
        "\n",
        "            optimizer.zero_grad()\n",
        "            outputs = model(lyrics, genre)\n",
        "            loss = criterion(outputs, target)\n",
        "            loss.backward()\n",
        "            optimizer.step()\n",
        "            total_loss += loss.item()\n",
        "\n",
        "        avg_loss = total_loss / len(train_loader)\n",
        "        total_loss_per_epoch.append(avg_loss)\n",
        "\n",
        "\n",
        "    plt.plot(total_loss_per_epoch, label='Training Loss')\n",
        "    plt.xlabel('Epoch')\n",
        "    plt.ylabel('Loss')\n",
        "    plt.title('Training Loss Per Epoch')\n",
        "    plt.legend()\n",
        "    plt.show()\n",
        "\n",
        "\n",
        "criterion = nn.CrossEntropyLoss()\n",
        "optimizer = torch.optim.Adam(model.parameters(), lr=0.001)\n",
        "num_epochs = 10\n",
        "train_model(model, train_dataloader, criterion, optimizer, num_epochs)"
      ],
      "metadata": {
        "colab": {
          "base_uri": "https://localhost:8080/",
          "height": 646
        },
        "id": "cDpaWnyg3guQ",
        "outputId": "204016e5-a63b-4bbb-b56b-80f6b42672e4"
      },
      "execution_count": 18,
      "outputs": [
        {
          "output_type": "stream",
          "name": "stderr",
          "text": [
            "100%|██████████| 2844/2844 [00:39<00:00, 71.60it/s]\n",
            "100%|██████████| 2844/2844 [00:38<00:00, 73.62it/s]\n",
            "100%|██████████| 2844/2844 [00:39<00:00, 71.87it/s]\n",
            "100%|██████████| 2844/2844 [00:38<00:00, 73.07it/s]\n",
            "100%|██████████| 2844/2844 [00:38<00:00, 73.02it/s]\n",
            "100%|██████████| 2844/2844 [00:39<00:00, 72.84it/s]\n",
            "100%|██████████| 2844/2844 [00:40<00:00, 69.77it/s]\n",
            "100%|██████████| 2844/2844 [00:39<00:00, 72.81it/s]\n",
            "100%|██████████| 2844/2844 [00:38<00:00, 73.58it/s]\n",
            "100%|██████████| 2844/2844 [00:38<00:00, 73.44it/s]\n"
          ]
        },
        {
          "output_type": "display_data",
          "data": {
            "text/plain": [
              "<Figure size 640x480 with 1 Axes>"
            ],
            "image/png": "[encoded data removed]"
          },
          "metadata": {}
        }
      ]
    },
    {
      "cell_type": "markdown",
      "source": [
        "## Pickle model"
      ],
      "metadata": {
        "id": "oeE3nge4pfhf"
      }
    },
    {
      "cell_type": "code",
      "source": [
        "with open('lyrics_model_10.pkl', 'wb') as f:\n",
        "    pickle.dump(model, f)"
      ],
      "metadata": {
        "id": "Q9vb1nLYpl-c"
      },
      "execution_count": 19,
      "outputs": []
    },
    {
      "cell_type": "code",
      "source": [
        "# def train_model(model, train_loader, criterion, optimizer, num_epochs):\n",
        "#     for epoch in range(num_epochs):\n",
        "#         model.train()\n",
        "#         total_loss = 0\n",
        "#         for lyrics, genre, target in tqdm(train_loader):\n",
        "#             lyrics = lyrics.to(device)\n",
        "#             genre = genre.to(device)\n",
        "#             target = target.to(device)\n",
        "\n",
        "#             optimizer.zero_grad()\n",
        "#             outputs = model(lyrics, genre)\n",
        "#             loss = criterion(outputs, target)\n",
        "#             loss.backward()\n",
        "#             optimizer.step()\n",
        "#             total_loss += loss.item()\n",
        "#         print(f'Epoch {epoch+1}/{num_epochs}, Loss: {total_loss / len(train_loader)}')\n",
        "\n",
        "# criterion = nn.CrossEntropyLoss()\n",
        "# optimizer = torch.optim.Adam(model.parameters(), lr=0.001)\n",
        "# num_epochs = 3\n",
        "# train_model(model, train_dataloader, criterion, optimizer, num_epochs)\n"
      ],
      "metadata": {
        "id": "kmoKrQUYped1"
      },
      "execution_count": 89,
      "outputs": []
    },
    {
      "cell_type": "markdown",
      "source": [
        "## epoch 20"
      ],
      "metadata": {
        "id": "bnqdJ5RGB2NY"
      }
    },
    {
      "cell_type": "code",
      "source": [
        "def train_model(model, train_loader, criterion, optimizer, num_epochs):\n",
        "    total_loss_per_epoch = []\n",
        "\n",
        "    for epoch in range(num_epochs):\n",
        "        model.train()\n",
        "        total_loss = 0\n",
        "        for lyrics, genre, target in tqdm(train_loader):\n",
        "            lyrics = lyrics.to(device)\n",
        "            genre = genre.to(device)\n",
        "            target = target.to(device)\n",
        "\n",
        "            optimizer.zero_grad()\n",
        "            outputs = model(lyrics, genre)\n",
        "            loss = criterion(outputs, target)\n",
        "            loss.backward()\n",
        "            optimizer.step()\n",
        "            total_loss += loss.item()\n",
        "\n",
        "        avg_loss = total_loss / len(train_loader)\n",
        "        total_loss_per_epoch.append(avg_loss)\n",
        "\n",
        "\n",
        "    plt.plot(total_loss_per_epoch, label='Training Loss')\n",
        "    plt.xlabel('Epoch')\n",
        "    plt.ylabel('Loss')\n",
        "    plt.title('Training Loss Per Epoch')\n",
        "    plt.legend()\n",
        "    plt.show()\n",
        "\n",
        "\n",
        "criterion = nn.CrossEntropyLoss()\n",
        "optimizer = torch.optim.Adam(model.parameters(), lr=0.001)\n",
        "num_epochs = 20\n",
        "train_model(model, train_dataloader, criterion, optimizer, num_epochs)\n",
        "with open('lyrics_model20epoch.pkl', 'wb') as f:\n",
        "    pickle.dump(model, f)"
      ],
      "metadata": {
        "id": "MXYaUDgZ9W8h"
      },
      "execution_count": null,
      "outputs": []
    },
    {
      "cell_type": "markdown",
      "source": [
        "## epoch 30"
      ],
      "metadata": {
        "id": "tgAcmioNB7d5"
      }
    },
    {
      "cell_type": "code",
      "source": [
        "def train_model(model, train_loader, criterion, optimizer, num_epochs):\n",
        "    total_loss_per_epoch = []\n",
        "\n",
        "    for epoch in range(num_epochs):\n",
        "        model.train()\n",
        "        total_loss = 0\n",
        "        for lyrics, genre, target in tqdm(train_loader):\n",
        "            lyrics = lyrics.to(device)\n",
        "            genre = genre.to(device)\n",
        "            target = target.to(device)\n",
        "\n",
        "            optimizer.zero_grad()\n",
        "            outputs = model(lyrics, genre)\n",
        "            loss = criterion(outputs, target)\n",
        "            loss.backward()\n",
        "            optimizer.step()\n",
        "            total_loss += loss.item()\n",
        "\n",
        "        avg_loss = total_loss / len(train_loader)\n",
        "        total_loss_per_epoch.append(avg_loss)\n",
        "\n",
        "\n",
        "    plt.plot(total_loss_per_epoch, label='Training Loss')\n",
        "    plt.xlabel('Epoch')\n",
        "    plt.ylabel('Loss')\n",
        "    plt.title('Training Loss Per Epoch')\n",
        "    plt.legend()\n",
        "    plt.show()\n",
        "\n",
        "\n",
        "criterion = nn.CrossEntropyLoss()\n",
        "optimizer = torch.optim.Adam(model.parameters(), lr=0.001)\n",
        "num_epochs = 30\n",
        "train_model(model, train_dataloader, criterion, optimizer, num_epochs)\n",
        "with open('lyrics_model30epoch.pkl', 'wb') as f:\n",
        "    pickle.dump(model, f)"
      ],
      "metadata": {
        "id": "E_afROgz9go4"
      },
      "execution_count": null,
      "outputs": []
    },
    {
      "cell_type": "markdown",
      "source": [
        "# Generator Lyrics"
      ],
      "metadata": {
        "id": "-Uh6qEk1B-Bu"
      }
    },
    {
      "cell_type": "code",
      "source": [
        "def generate_lyrics(model, seed_text, genre, word_to_index, index_to_word, genre_to_index, max_length=50):\n",
        "    model.eval()\n",
        "\n",
        "    current_text = [word_to_index.get(word, word_to_index[\"<UNK>\"]) for word in seed_text.split()]\n",
        "    genre_index = genre_to_index[genre]\n",
        "\n",
        "    for _ in range(max_length):\n",
        "        input_seq = torch.tensor([current_text], dtype=torch.long)\n",
        "        genre_seq = torch.tensor([genre_index], dtype=torch.long)\n",
        "\n",
        "        with torch.no_grad():\n",
        "            output = model(input_seq, genre_seq)\n",
        "            next_word_idx = torch.argmax(output, dim=1)[-1].item()\n",
        "\n",
        "        current_text.append(next_word_idx)\n",
        "        if next_word_idx == word_to_index[\"</s>\"]:  # 假设 \"</s>\" 是结束符\n",
        "            break\n",
        "\n",
        "    # 将索引转换回单词\n",
        "    generated_words = [index_to_word[idx] for idx in current_text]\n",
        "\n",
        "    return ' '.join(generated_words)\n",
        "\n",
        "# 使用示例\n",
        "seed_text = \"Sun shines today\"\n",
        "genre = \"rock\"\n",
        "generated_lyrics = generate_lyrics(model, seed_text, genre, word_to_index, index_to_word, genre_to_index)\n",
        "print(generated_lyrics)\n"
      ],
      "metadata": {
        "id": "GXUATD19CCV5"
      },
      "execution_count": null,
      "outputs": []
    }
  ]
}