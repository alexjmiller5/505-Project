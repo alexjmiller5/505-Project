{
  "nbformat": 4,
  "nbformat_minor": 0,
  "metadata": {
    "colab": {
      "provenance": [],
      "gpuType": "T4"
    },
    "kernelspec": {
      "name": "python3",
      "display_name": "Python 3"
    },
    "language_info": {
      "name": "python"
    },
    "accelerator": "GPU"
  },
  "cells": [
    {
      "cell_type": "markdown",
      "source": [
        "# Required package"
      ],
      "metadata": {
        "id": "lYTZJyHRLYTM"
      }
    },
    {
      "cell_type": "code",
      "source": [
        "import string\n",
        "import math\n",
        "import re\n",
        "import nltk\n",
        "from nltk.tokenize import word_tokenize, sent_tokenize\n",
        "from collections import defaultdict, Counter\n",
        "import numpy as np\n",
        "import pickle\n",
        "import pandas as pd\n",
        "# from sklearn.feature_extraction.text import TfidfVectorizer\n",
        "# from sklearn.preprocessing import StandardScaler, LabelEncoder\n",
        "# from sklearn.model_selection import train_test_split\n",
        "from torch.utils.data import Dataset, DataLoader, random_split\n",
        "import torch\n",
        "import torch.nn as nn\n",
        "import torch.nn.functional as F\n",
        "import torch.optim as optim\n",
        "from collections import Counter\n",
        "import numpy as np\n",
        "import matplotlib.pyplot as plt\n",
        "from tqdm import tqdm\n"
      ],
      "metadata": {
        "id": "dHK-eiPLFQNg"
      },
      "execution_count": 163,
      "outputs": []
    },
    {
      "cell_type": "code",
      "source": [
        "nltk.download('punkt')"
      ],
      "metadata": {
        "colab": {
          "base_uri": "https://localhost:8080/"
        },
        "id": "mjmwkHsrN0vx",
        "outputId": "0af7db01-736c-4169-d694-a1b304b34b98"
      },
      "execution_count": 2,
      "outputs": [
        {
          "output_type": "stream",
          "name": "stderr",
          "text": [
            "[nltk_data] Downloading package punkt to /root/nltk_data...\n",
            "[nltk_data]   Package punkt is already up-to-date!\n"
          ]
        },
        {
          "output_type": "execute_result",
          "data": {
            "text/plain": [
              "True"
            ]
          },
          "metadata": {},
          "execution_count": 2
        }
      ]
    },
    {
      "cell_type": "code",
      "source": [
        "from google.colab import drive\n",
        "drive.mount('/content/drive')\n",
        "\n",
        "folder_path = '/content/drive/My Drive/data/preprocessed-data'"
      ],
      "metadata": {
        "colab": {
          "base_uri": "https://localhost:8080/"
        },
        "id": "4Gh7GFT0-oxq",
        "outputId": "0bd8f236-c5dc-4a0e-9fbe-68eb5861a3d8"
      },
      "execution_count": 3,
      "outputs": [
        {
          "output_type": "stream",
          "name": "stdout",
          "text": [
            "Drive already mounted at /content/drive; to attempt to forcibly remount, call drive.mount(\"/content/drive\", force_remount=True).\n"
          ]
        }
      ]
    },
    {
      "cell_type": "markdown",
      "source": [
        "# Load data"
      ],
      "metadata": {
        "id": "giCK2VDO_PZP"
      }
    },
    {
      "cell_type": "code",
      "source": [
        "df_lyrics = pd.read_csv(f\"{folder_path}/song_tokenized_lyrics.csv\")\n",
        "df_metadata = pd.read_csv(f\"{folder_path}/song_metadata.csv\")\n",
        "df_genre = df_metadata.drop(columns=['artist', 'name', 'popularity', 'release_date','explicit', 'duration_ms', 'featured_artists'])\n",
        "# df_genre.head()\n",
        "# df_metadata.head()\n",
        "\n",
        "df_music = pd.merge(df_genre,df_lyrics,on='spotify_id')\n",
        "df_music = df_music.drop(columns=['spotify_id','Unnamed: 0'])\n",
        "\n",
        "# drop song without lyrics\n",
        "df_music = df_music[df_music['lyrics'] != '[]']\n",
        "df_music.drop_duplicates(subset=['lyrics'], inplace=True)"
      ],
      "metadata": {
        "id": "4wnv09G7_UVH",
        "colab": {
          "base_uri": "https://localhost:8080/"
        },
        "outputId": "8ee7c7ff-5e5b-4d1a-bc14-346f20710a4f"
      },
      "execution_count": 4,
      "outputs": [
        {
          "output_type": "stream",
          "name": "stderr",
          "text": [
            "<ipython-input-4-83722b0f6109>:12: SettingWithCopyWarning: \n",
            "A value is trying to be set on a copy of a slice from a DataFrame\n",
            "\n",
            "See the caveats in the documentation: https://pandas.pydata.org/pandas-docs/stable/user_guide/indexing.html#returning-a-view-versus-a-copy\n",
            "  df_music.drop_duplicates(subset=['lyrics'], inplace=True)\n"
          ]
        }
      ]
    },
    {
      "cell_type": "code",
      "source": [
        "list(df_music['genre'].value_counts())[:10]\n",
        "# get top 30 genre since some genre only have 1-2 songs\n",
        "top_30_genres = df_music['genre'].value_counts()\n",
        "# top_10_genre = top_10_genre.index[:10]\n",
        "top_30_genres.iloc[0:30]"
      ],
      "metadata": {
        "colab": {
          "base_uri": "https://localhost:8080/"
        },
        "id": "KCyKZXAvB_5O",
        "outputId": "7d03b2c2-7ae9-4feb-b619-5a87f5bc0eab"
      },
      "execution_count": 5,
      "outputs": [
        {
          "output_type": "execute_result",
          "data": {
            "text/plain": [
              "rock                 769\n",
              "pop                  753\n",
              "indie                532\n",
              "soul                 373\n",
              "alternative          297\n",
              "folk                 281\n",
              "hip-hop              242\n",
              "acoustic             164\n",
              "classic rock         159\n",
              "singer-songwriter    143\n",
              "electronic           131\n",
              "country              126\n",
              "jazz                 123\n",
              "alternative rock     120\n",
              "rap                  107\n",
              "soundtrack           105\n",
              "indie rock           101\n",
              "punk                  89\n",
              "hard rock             68\n",
              "new wave              64\n",
              "progressive rock      62\n",
              "hip hop               56\n",
              "blues                 52\n",
              "metal                 47\n",
              "emo                   45\n",
              "post-punk             44\n",
              "shoegaze              44\n",
              "piano                 42\n",
              "industrial            40\n",
              "r&b                   40\n",
              "Name: genre, dtype: int64"
            ]
          },
          "metadata": {},
          "execution_count": 5
        }
      ]
    },
    {
      "cell_type": "code",
      "source": [
        "# get datafram only in top_30_genres\n",
        "df_music_top_30 = df_music[df_music['genre'].isin(top_30_genres.index[:30])]\n",
        "df_music_top_30['genre'].unique()"
      ],
      "metadata": {
        "colab": {
          "base_uri": "https://localhost:8080/"
        },
        "id": "xwBcg6qxFpmf",
        "outputId": "ec1a4e82-29c6-4a39-ff41-82537174fbde"
      },
      "execution_count": 6,
      "outputs": [
        {
          "output_type": "execute_result",
          "data": {
            "text/plain": [
              "array(['rap', 'metal', 'hip-hop', 'singer-songwriter', 'punk',\n",
              "       'classic rock', 'rock', 'pop', 'post-punk', 'alternative rock',\n",
              "       'hard rock', 'electronic', 'hip hop', 'alternative', 'country',\n",
              "       'industrial', 'soul', 'soundtrack', 'indie', 'emo', 'folk',\n",
              "       'indie rock', 'piano', 'new wave', 'jazz', 'blues', 'r&b',\n",
              "       'shoegaze', 'acoustic', 'progressive rock'], dtype=object)"
            ]
          },
          "metadata": {},
          "execution_count": 6
        }
      ]
    },
    {
      "cell_type": "code",
      "source": [
        "\n",
        "# def tokenize(lyrics):\n",
        "#     # lines = lyrics.split('\\n')\n",
        "#     words = word_tokenize(lyrics)\n",
        "#     print(words[:100])\n",
        "#     print(len(words))\n",
        "\n",
        "\n",
        "\n",
        "# tokenize(rock[0])\n",
        "# len(genre_tokenLyrics['rock'])"
      ],
      "metadata": {
        "id": "xdobDJKmU7Y8"
      },
      "execution_count": 7,
      "outputs": []
    },
    {
      "cell_type": "markdown",
      "source": [
        "## Tokenization"
      ],
      "metadata": {
        "id": "A56JwmZvXcwL"
      }
    },
    {
      "cell_type": "code",
      "source": [
        "def clean_text(song):\n",
        "    song = re.sub('\\'m', ' am', song)\n",
        "    song = re.sub('\\'ve', ' have', song)\n",
        "    song = re.sub('\\'d ', ' would', song)\n",
        "    song =re.sub('\\'ll', ' will', song)\n",
        "    song = re.sub('\\'s', ' is', song)\n",
        "    song = re.sub('\\'re', ' are', song)\n",
        "\n",
        "    song = song.lower()\n",
        "    return song\n",
        "\n",
        "genre_lyrics = defaultdict(list)\n",
        "\n",
        "for genre, lyrics in zip(df_music_top_30['genre'], df_music_top_30['lyrics']):\n",
        "    genre_lyrics[genre].append(lyrics)\n",
        "\n",
        "rock = genre_lyrics['rock']\n",
        "\n",
        "genre_tokenLyrics = defaultdict(list)\n",
        "for genre, lyrics in genre_lyrics.items():\n",
        "    tokenized_lyric = []\n",
        "    for song in lyrics:\n",
        "        song = clean_text(song)\n",
        "        lines = song.split('\\n')\n",
        "        for line in lines:\n",
        "            words = word_tokenize(line)\n",
        "            bracket_sent = []\n",
        "            for i in range(len(words)+2):\n",
        "                if i == 0:\n",
        "                    bracket_sent.append('<s>')\n",
        "                elif i == len(words)+1:\n",
        "                    bracket_sent.append('</s>')\n",
        "                else:\n",
        "                    bracket_sent.append(words[i-1])\n",
        "            # print(bracket_sent)\n",
        "            tokenized_lyric.append(bracket_sent)\n",
        "    # if genre == 'rock':\n",
        "    #     print(tokenized_lyric[:100])\n",
        "    #     print(len(tokenized_lyric))\n",
        "    genre_tokenLyrics[genre] = tokenized_lyric\n",
        "genre_tokenLyrics['rock'][0]"
      ],
      "metadata": {
        "colab": {
          "base_uri": "https://localhost:8080/"
        },
        "id": "S1uhWh85HQis",
        "outputId": "fe941879-7820-4757-bfb2-1294d499b93d"
      },
      "execution_count": 8,
      "outputs": [
        {
          "output_type": "execute_result",
          "data": {
            "text/plain": [
              "['<s>', '[', 'verse', '1', ']', '</s>']"
            ]
          },
          "metadata": {},
          "execution_count": 8
        }
      ]
    },
    {
      "cell_type": "markdown",
      "source": [
        "# Create DataFrame"
      ],
      "metadata": {
        "id": "uyFQDdAAfNds"
      }
    },
    {
      "cell_type": "code",
      "source": [
        "def pad_sentence(sentence):\n",
        "    padding_sentence = np.full(50, 'pad', dtype='U50')\n",
        "    length = len(sentence)\n",
        "    if length < 50:\n",
        "        padding_sentence[(50-length):] = sentence\n",
        "    else:\n",
        "        padding_sentence = sentence[(length-50):]\n",
        "    return padding_sentence\n",
        "\n",
        "# x = ['iaaa','iaaa','iaaa','iiaaa','iiaaa','iiaaa','iiaaa','iiaaa','iiaaa','iiaaa','iiaaa','iiaaa']\n",
        "# y = pad_sentence(x)\n",
        "# print(y)"
      ],
      "metadata": {
        "id": "A6m6JHvurhxP"
      },
      "execution_count": 74,
      "outputs": []
    },
    {
      "cell_type": "code",
      "source": [
        "genres = []\n",
        "input_lyrics = []\n",
        "output_words = []\n",
        "\n",
        "for genre, lyrics in genre_tokenLyrics.items():\n",
        "    for sentence in lyrics:\n",
        "        if len(sentence) > 1:\n",
        "            sentence = pad_sentence(sentence)\n",
        "            input_sentence = sentence[:-2]\n",
        "            output_word = sentence[-2]\n",
        "\n",
        "            genres.append(genre)\n",
        "            input_lyrics.append(input_sentence)\n",
        "            output_words.append(output_word)\n",
        "\n",
        "\n",
        "df_music_cleaned = pd.DataFrame({\n",
        "    'genre': genres,\n",
        "    'input_lyrics': input_lyrics,\n",
        "    'output_word': output_words\n",
        "})"
      ],
      "metadata": {
        "id": "bvT5MFI6fM6h"
      },
      "execution_count": 79,
      "outputs": []
    },
    {
      "cell_type": "code",
      "source": [
        "# output_words[0] in string.punctuation\n",
        "output_words[0]\n",
        "# len(output_words)"
      ],
      "metadata": {
        "colab": {
          "base_uri": "https://localhost:8080/",
          "height": 35
        },
        "id": "f8KdOtzvgZZF",
        "outputId": "150f3830-214a-404b-bf9a-ba34023753d9"
      },
      "execution_count": 80,
      "outputs": [
        {
          "output_type": "execute_result",
          "data": {
            "text/plain": [
              "']'"
            ],
            "application/vnd.google.colaboratory.intrinsic+json": {
              "type": "string"
            }
          },
          "metadata": {},
          "execution_count": 80
        }
      ]
    },
    {
      "cell_type": "code",
      "source": [
        "input_lyrics[0]"
      ],
      "metadata": {
        "colab": {
          "base_uri": "https://localhost:8080/"
        },
        "id": "6ZsHf9ba4u1b",
        "outputId": "5925e181-7698-4794-d854-3eef4207ac5a"
      },
      "execution_count": 82,
      "outputs": [
        {
          "output_type": "execute_result",
          "data": {
            "text/plain": [
              "array(['pad', 'pad', 'pad', 'pad', 'pad', 'pad', 'pad', 'pad', 'pad',\n",
              "       'pad', 'pad', 'pad', 'pad', 'pad', 'pad', 'pad', 'pad', 'pad',\n",
              "       'pad', 'pad', 'pad', 'pad', 'pad', 'pad', 'pad', 'pad', 'pad',\n",
              "       'pad', 'pad', 'pad', 'pad', 'pad', 'pad', 'pad', 'pad', 'pad',\n",
              "       'pad', 'pad', 'pad', 'pad', 'pad', 'pad', 'pad', '<s>', '[',\n",
              "       'intro', ':', 'eminem'], dtype='<U50')"
            ]
          },
          "metadata": {},
          "execution_count": 82
        }
      ]
    },
    {
      "cell_type": "code",
      "source": [
        "genre_tokenLyrics['rap'][0]"
      ],
      "metadata": {
        "colab": {
          "base_uri": "https://localhost:8080/"
        },
        "id": "9483ZFNi4VFq",
        "outputId": "f51d3f64-321b-443e-ef95-b433dfbd1747"
      },
      "execution_count": 81,
      "outputs": [
        {
          "output_type": "execute_result",
          "data": {
            "text/plain": [
              "['<s>', '[', 'intro', ':', 'eminem', ']', '</s>']"
            ]
          },
          "metadata": {},
          "execution_count": 81
        }
      ]
    },
    {
      "cell_type": "code",
      "source": [
        "x = 0\n",
        "for word in output_words:\n",
        "    if word in string.punctuation:\n",
        "        x += 1\n",
        "print(x)"
      ],
      "metadata": {
        "colab": {
          "base_uri": "https://localhost:8080/"
        },
        "id": "dcWtkll8gYSi",
        "outputId": "4f0e8197-064f-453a-8b21-67347a4d74fc"
      },
      "execution_count": 12,
      "outputs": [
        {
          "output_type": "stream",
          "name": "stdout",
          "text": [
            "61921\n"
          ]
        }
      ]
    },
    {
      "cell_type": "code",
      "source": [
        "df_music_cleaned"
      ],
      "metadata": {
        "colab": {
          "base_uri": "https://localhost:8080/",
          "height": 424
        },
        "id": "TFDRNfxWv1lu",
        "outputId": "75151494-32d9-445c-dc44-e747fcc468c5"
      },
      "execution_count": 83,
      "outputs": [
        {
          "output_type": "execute_result",
          "data": {
            "text/plain": [
              "                   genre                                       input_lyrics  \\\n",
              "0                    rap  [pad, pad, pad, pad, pad, pad, pad, pad, pad, ...   \n",
              "1                    rap  [pad, pad, pad, pad, pad, pad, pad, pad, pad, ...   \n",
              "2                    rap  [pad, pad, pad, pad, pad, pad, pad, pad, pad, ...   \n",
              "3                    rap  [pad, pad, pad, pad, pad, pad, pad, pad, pad, ...   \n",
              "4                    rap  [pad, pad, pad, pad, pad, pad, pad, pad, pad, ...   \n",
              "...                  ...                                                ...   \n",
              "289998  progressive rock  [pad, pad, pad, pad, pad, pad, pad, pad, pad, ...   \n",
              "289999  progressive rock  [pad, pad, pad, pad, pad, pad, pad, pad, pad, ...   \n",
              "290000  progressive rock  [pad, pad, pad, pad, pad, pad, pad, pad, pad, ...   \n",
              "290001  progressive rock  [pad, pad, pad, pad, pad, pad, pad, pad, pad, ...   \n",
              "290002  progressive rock  [pad, pad, pad, pad, pad, pad, pad, pad, pad, ...   \n",
              "\n",
              "       output_word  \n",
              "0                ]  \n",
              "1            tired  \n",
              "2             left  \n",
              "3             weak  \n",
              "4             left  \n",
              "...            ...  \n",
              "289998         <s>  \n",
              "289999           ]  \n",
              "290000  ho-ho-home  \n",
              "290001         <s>  \n",
              "290002           ]  \n",
              "\n",
              "[290003 rows x 3 columns]"
            ],
            "text/html": [
              "\n",
              "  <div id=\"df-cce7ea21-a221-477c-ba27-a8a316ca8b75\" class=\"colab-df-container\">\n",
              "    <div>\n",
              "<style scoped>\n",
              "    .dataframe tbody tr th:only-of-type {\n",
              "        vertical-align: middle;\n",
              "    }\n",
              "\n",
              "    .dataframe tbody tr th {\n",
              "        vertical-align: top;\n",
              "    }\n",
              "\n",
              "    .dataframe thead th {\n",
              "        text-align: right;\n",
              "    }\n",
              "</style>\n",
              "<table border=\"1\" class=\"dataframe\">\n",
              "  <thead>\n",
              "    <tr style=\"text-align: right;\">\n",
              "      <th></th>\n",
              "      <th>genre</th>\n",
              "      <th>input_lyrics</th>\n",
              "      <th>output_word</th>\n",
              "    </tr>\n",
              "  </thead>\n",
              "  <tbody>\n",
              "    <tr>\n",
              "      <th>0</th>\n",
              "      <td>rap</td>\n",
              "      <td>[pad, pad, pad, pad, pad, pad, pad, pad, pad, ...</td>\n",
              "      <td>]</td>\n",
              "    </tr>\n",
              "    <tr>\n",
              "      <th>1</th>\n",
              "      <td>rap</td>\n",
              "      <td>[pad, pad, pad, pad, pad, pad, pad, pad, pad, ...</td>\n",
              "      <td>tired</td>\n",
              "    </tr>\n",
              "    <tr>\n",
              "      <th>2</th>\n",
              "      <td>rap</td>\n",
              "      <td>[pad, pad, pad, pad, pad, pad, pad, pad, pad, ...</td>\n",
              "      <td>left</td>\n",
              "    </tr>\n",
              "    <tr>\n",
              "      <th>3</th>\n",
              "      <td>rap</td>\n",
              "      <td>[pad, pad, pad, pad, pad, pad, pad, pad, pad, ...</td>\n",
              "      <td>weak</td>\n",
              "    </tr>\n",
              "    <tr>\n",
              "      <th>4</th>\n",
              "      <td>rap</td>\n",
              "      <td>[pad, pad, pad, pad, pad, pad, pad, pad, pad, ...</td>\n",
              "      <td>left</td>\n",
              "    </tr>\n",
              "    <tr>\n",
              "      <th>...</th>\n",
              "      <td>...</td>\n",
              "      <td>...</td>\n",
              "      <td>...</td>\n",
              "    </tr>\n",
              "    <tr>\n",
              "      <th>289998</th>\n",
              "      <td>progressive rock</td>\n",
              "      <td>[pad, pad, pad, pad, pad, pad, pad, pad, pad, ...</td>\n",
              "      <td>&lt;s&gt;</td>\n",
              "    </tr>\n",
              "    <tr>\n",
              "      <th>289999</th>\n",
              "      <td>progressive rock</td>\n",
              "      <td>[pad, pad, pad, pad, pad, pad, pad, pad, pad, ...</td>\n",
              "      <td>]</td>\n",
              "    </tr>\n",
              "    <tr>\n",
              "      <th>290000</th>\n",
              "      <td>progressive rock</td>\n",
              "      <td>[pad, pad, pad, pad, pad, pad, pad, pad, pad, ...</td>\n",
              "      <td>ho-ho-home</td>\n",
              "    </tr>\n",
              "    <tr>\n",
              "      <th>290001</th>\n",
              "      <td>progressive rock</td>\n",
              "      <td>[pad, pad, pad, pad, pad, pad, pad, pad, pad, ...</td>\n",
              "      <td>&lt;s&gt;</td>\n",
              "    </tr>\n",
              "    <tr>\n",
              "      <th>290002</th>\n",
              "      <td>progressive rock</td>\n",
              "      <td>[pad, pad, pad, pad, pad, pad, pad, pad, pad, ...</td>\n",
              "      <td>]</td>\n",
              "    </tr>\n",
              "  </tbody>\n",
              "</table>\n",
              "<p>290003 rows × 3 columns</p>\n",
              "</div>\n",
              "    <div class=\"colab-df-buttons\">\n",
              "\n",
              "  <div class=\"colab-df-container\">\n",
              "    <button class=\"colab-df-convert\" onclick=\"convertToInteractive('df-cce7ea21-a221-477c-ba27-a8a316ca8b75')\"\n",
              "            title=\"Convert this dataframe to an interactive table.\"\n",
              "            style=\"display:none;\">\n",
              "\n",
              "  <svg xmlns=\"http://www.w3.org/2000/svg\" height=\"24px\" viewBox=\"0 -960 960 960\">\n",
              "    <path d=\"M120-120v-720h720v720H120Zm60-500h600v-160H180v160Zm220 220h160v-160H400v160Zm0 220h160v-160H400v160ZM180-400h160v-160H180v160Zm440 0h160v-160H620v160ZM180-180h160v-160H180v160Zm440 0h160v-160H620v160Z\"/>\n",
              "  </svg>\n",
              "    </button>\n",
              "\n",
              "  <style>\n",
              "    .colab-df-container {\n",
              "      display:flex;\n",
              "      gap: 12px;\n",
              "    }\n",
              "\n",
              "    .colab-df-convert {\n",
              "      background-color: #E8F0FE;\n",
              "      border: none;\n",
              "      border-radius: 50%;\n",
              "      cursor: pointer;\n",
              "      display: none;\n",
              "      fill: #1967D2;\n",
              "      height: 32px;\n",
              "      padding: 0 0 0 0;\n",
              "      width: 32px;\n",
              "    }\n",
              "\n",
              "    .colab-df-convert:hover {\n",
              "      background-color: #E2EBFA;\n",
              "      box-shadow: 0px 1px 2px rgba(60, 64, 67, 0.3), 0px 1px 3px 1px rgba(60, 64, 67, 0.15);\n",
              "      fill: #174EA6;\n",
              "    }\n",
              "\n",
              "    .colab-df-buttons div {\n",
              "      margin-bottom: 4px;\n",
              "    }\n",
              "\n",
              "    [theme=dark] .colab-df-convert {\n",
              "      background-color: #3B4455;\n",
              "      fill: #D2E3FC;\n",
              "    }\n",
              "\n",
              "    [theme=dark] .colab-df-convert:hover {\n",
              "      background-color: #434B5C;\n",
              "      box-shadow: 0px 1px 3px 1px rgba(0, 0, 0, 0.15);\n",
              "      filter: drop-shadow(0px 1px 2px rgba(0, 0, 0, 0.3));\n",
              "      fill: #FFFFFF;\n",
              "    }\n",
              "  </style>\n",
              "\n",
              "    <script>\n",
              "      const buttonEl =\n",
              "        document.querySelector('#df-cce7ea21-a221-477c-ba27-a8a316ca8b75 button.colab-df-convert');\n",
              "      buttonEl.style.display =\n",
              "        google.colab.kernel.accessAllowed ? 'block' : 'none';\n",
              "\n",
              "      async function convertToInteractive(key) {\n",
              "        const element = document.querySelector('#df-cce7ea21-a221-477c-ba27-a8a316ca8b75');\n",
              "        const dataTable =\n",
              "          await google.colab.kernel.invokeFunction('convertToInteractive',\n",
              "                                                    [key], {});\n",
              "        if (!dataTable) return;\n",
              "\n",
              "        const docLinkHtml = 'Like what you see? Visit the ' +\n",
              "          '<a target=\"_blank\" href=https://colab.research.google.com/notebooks/data_table.ipynb>data table notebook</a>'\n",
              "          + ' to learn more about interactive tables.';\n",
              "        element.innerHTML = '';\n",
              "        dataTable['output_type'] = 'display_data';\n",
              "        await google.colab.output.renderOutput(dataTable, element);\n",
              "        const docLink = document.createElement('div');\n",
              "        docLink.innerHTML = docLinkHtml;\n",
              "        element.appendChild(docLink);\n",
              "      }\n",
              "    </script>\n",
              "  </div>\n",
              "\n",
              "\n",
              "<div id=\"df-951bd0d1-a647-407b-a71a-15608b216fd1\">\n",
              "  <button class=\"colab-df-quickchart\" onclick=\"quickchart('df-951bd0d1-a647-407b-a71a-15608b216fd1')\"\n",
              "            title=\"Suggest charts\"\n",
              "            style=\"display:none;\">\n",
              "\n",
              "<svg xmlns=\"http://www.w3.org/2000/svg\" height=\"24px\"viewBox=\"0 0 24 24\"\n",
              "     width=\"24px\">\n",
              "    <g>\n",
              "        <path d=\"M19 3H5c-1.1 0-2 .9-2 2v14c0 1.1.9 2 2 2h14c1.1 0 2-.9 2-2V5c0-1.1-.9-2-2-2zM9 17H7v-7h2v7zm4 0h-2V7h2v10zm4 0h-2v-4h2v4z\"/>\n",
              "    </g>\n",
              "</svg>\n",
              "  </button>\n",
              "\n",
              "<style>\n",
              "  .colab-df-quickchart {\n",
              "      --bg-color: #E8F0FE;\n",
              "      --fill-color: #1967D2;\n",
              "      --hover-bg-color: #E2EBFA;\n",
              "      --hover-fill-color: #174EA6;\n",
              "      --disabled-fill-color: #AAA;\n",
              "      --disabled-bg-color: #DDD;\n",
              "  }\n",
              "\n",
              "  [theme=dark] .colab-df-quickchart {\n",
              "      --bg-color: #3B4455;\n",
              "      --fill-color: #D2E3FC;\n",
              "      --hover-bg-color: #434B5C;\n",
              "      --hover-fill-color: #FFFFFF;\n",
              "      --disabled-bg-color: #3B4455;\n",
              "      --disabled-fill-color: #666;\n",
              "  }\n",
              "\n",
              "  .colab-df-quickchart {\n",
              "    background-color: var(--bg-color);\n",
              "    border: none;\n",
              "    border-radius: 50%;\n",
              "    cursor: pointer;\n",
              "    display: none;\n",
              "    fill: var(--fill-color);\n",
              "    height: 32px;\n",
              "    padding: 0;\n",
              "    width: 32px;\n",
              "  }\n",
              "\n",
              "  .colab-df-quickchart:hover {\n",
              "    background-color: var(--hover-bg-color);\n",
              "    box-shadow: 0 1px 2px rgba(60, 64, 67, 0.3), 0 1px 3px 1px rgba(60, 64, 67, 0.15);\n",
              "    fill: var(--button-hover-fill-color);\n",
              "  }\n",
              "\n",
              "  .colab-df-quickchart-complete:disabled,\n",
              "  .colab-df-quickchart-complete:disabled:hover {\n",
              "    background-color: var(--disabled-bg-color);\n",
              "    fill: var(--disabled-fill-color);\n",
              "    box-shadow: none;\n",
              "  }\n",
              "\n",
              "  .colab-df-spinner {\n",
              "    border: 2px solid var(--fill-color);\n",
              "    border-color: transparent;\n",
              "    border-bottom-color: var(--fill-color);\n",
              "    animation:\n",
              "      spin 1s steps(1) infinite;\n",
              "  }\n",
              "\n",
              "  @keyframes spin {\n",
              "    0% {\n",
              "      border-color: transparent;\n",
              "      border-bottom-color: var(--fill-color);\n",
              "      border-left-color: var(--fill-color);\n",
              "    }\n",
              "    20% {\n",
              "      border-color: transparent;\n",
              "      border-left-color: var(--fill-color);\n",
              "      border-top-color: var(--fill-color);\n",
              "    }\n",
              "    30% {\n",
              "      border-color: transparent;\n",
              "      border-left-color: var(--fill-color);\n",
              "      border-top-color: var(--fill-color);\n",
              "      border-right-color: var(--fill-color);\n",
              "    }\n",
              "    40% {\n",
              "      border-color: transparent;\n",
              "      border-right-color: var(--fill-color);\n",
              "      border-top-color: var(--fill-color);\n",
              "    }\n",
              "    60% {\n",
              "      border-color: transparent;\n",
              "      border-right-color: var(--fill-color);\n",
              "    }\n",
              "    80% {\n",
              "      border-color: transparent;\n",
              "      border-right-color: var(--fill-color);\n",
              "      border-bottom-color: var(--fill-color);\n",
              "    }\n",
              "    90% {\n",
              "      border-color: transparent;\n",
              "      border-bottom-color: var(--fill-color);\n",
              "    }\n",
              "  }\n",
              "</style>\n",
              "\n",
              "  <script>\n",
              "    async function quickchart(key) {\n",
              "      const quickchartButtonEl =\n",
              "        document.querySelector('#' + key + ' button');\n",
              "      quickchartButtonEl.disabled = true;  // To prevent multiple clicks.\n",
              "      quickchartButtonEl.classList.add('colab-df-spinner');\n",
              "      try {\n",
              "        const charts = await google.colab.kernel.invokeFunction(\n",
              "            'suggestCharts', [key], {});\n",
              "      } catch (error) {\n",
              "        console.error('Error during call to suggestCharts:', error);\n",
              "      }\n",
              "      quickchartButtonEl.classList.remove('colab-df-spinner');\n",
              "      quickchartButtonEl.classList.add('colab-df-quickchart-complete');\n",
              "    }\n",
              "    (() => {\n",
              "      let quickchartButtonEl =\n",
              "        document.querySelector('#df-951bd0d1-a647-407b-a71a-15608b216fd1 button');\n",
              "      quickchartButtonEl.style.display =\n",
              "        google.colab.kernel.accessAllowed ? 'block' : 'none';\n",
              "    })();\n",
              "  </script>\n",
              "</div>\n",
              "\n",
              "  <div id=\"id_2dde0044-c354-4c21-94ca-9f5a5fd64074\">\n",
              "    <style>\n",
              "      .colab-df-generate {\n",
              "        background-color: #E8F0FE;\n",
              "        border: none;\n",
              "        border-radius: 50%;\n",
              "        cursor: pointer;\n",
              "        display: none;\n",
              "        fill: #1967D2;\n",
              "        height: 32px;\n",
              "        padding: 0 0 0 0;\n",
              "        width: 32px;\n",
              "      }\n",
              "\n",
              "      .colab-df-generate:hover {\n",
              "        background-color: #E2EBFA;\n",
              "        box-shadow: 0px 1px 2px rgba(60, 64, 67, 0.3), 0px 1px 3px 1px rgba(60, 64, 67, 0.15);\n",
              "        fill: #174EA6;\n",
              "      }\n",
              "\n",
              "      [theme=dark] .colab-df-generate {\n",
              "        background-color: #3B4455;\n",
              "        fill: #D2E3FC;\n",
              "      }\n",
              "\n",
              "      [theme=dark] .colab-df-generate:hover {\n",
              "        background-color: #434B5C;\n",
              "        box-shadow: 0px 1px 3px 1px rgba(0, 0, 0, 0.15);\n",
              "        filter: drop-shadow(0px 1px 2px rgba(0, 0, 0, 0.3));\n",
              "        fill: #FFFFFF;\n",
              "      }\n",
              "    </style>\n",
              "    <button class=\"colab-df-generate\" onclick=\"generateWithVariable('df_music_cleaned')\"\n",
              "            title=\"Generate code using this dataframe.\"\n",
              "            style=\"display:none;\">\n",
              "\n",
              "  <svg xmlns=\"http://www.w3.org/2000/svg\" height=\"24px\"viewBox=\"0 0 24 24\"\n",
              "       width=\"24px\">\n",
              "    <path d=\"M7,19H8.4L18.45,9,17,7.55,7,17.6ZM5,21V16.75L18.45,3.32a2,2,0,0,1,2.83,0l1.4,1.43a1.91,1.91,0,0,1,.58,1.4,1.91,1.91,0,0,1-.58,1.4L9.25,21ZM18.45,9,17,7.55Zm-12,3A5.31,5.31,0,0,0,4.9,8.1,5.31,5.31,0,0,0,1,6.5,5.31,5.31,0,0,0,4.9,4.9,5.31,5.31,0,0,0,6.5,1,5.31,5.31,0,0,0,8.1,4.9,5.31,5.31,0,0,0,12,6.5,5.46,5.46,0,0,0,6.5,12Z\"/>\n",
              "  </svg>\n",
              "    </button>\n",
              "    <script>\n",
              "      (() => {\n",
              "      const buttonEl =\n",
              "        document.querySelector('#id_2dde0044-c354-4c21-94ca-9f5a5fd64074 button.colab-df-generate');\n",
              "      buttonEl.style.display =\n",
              "        google.colab.kernel.accessAllowed ? 'block' : 'none';\n",
              "\n",
              "      buttonEl.onclick = () => {\n",
              "        google.colab.notebook.generateWithVariable('df_music_cleaned');\n",
              "      }\n",
              "      })();\n",
              "    </script>\n",
              "  </div>\n",
              "\n",
              "    </div>\n",
              "  </div>\n"
            ]
          },
          "metadata": {},
          "execution_count": 83
        }
      ]
    },
    {
      "cell_type": "markdown",
      "source": [
        "# DataSet"
      ],
      "metadata": {
        "id": "SxY_5pzxl7Yj"
      }
    },
    {
      "cell_type": "code",
      "source": [
        "word_counts = Counter()\n",
        "for _, tokenLyric in genre_tokenLyrics.items():\n",
        "    for song in tokenLyric:\n",
        "        word_counts.update(song)\n",
        "    words = list(word_counts.keys())\n",
        "    word_to_index = {w: idx for idx, w in enumerate(words)}\n",
        "    index_to_word = {idx: w for idx, w in enumerate(words)}\n",
        "\n",
        "# some words can't be found in Dictionary\n",
        "word_to_index[\"<UNK>\"] = len(word_to_index)\n",
        "# index_to_word[len(word_to_index)] = [\"UNK\"]\n",
        "index_to_word[word_to_index[\"<UNK>\"]] = \"<UNK>\"\n",
        "\n",
        "# word_to_index\n",
        "genres = genre_tokenLyrics.keys()\n",
        "genre_to_index = {genre: idx for idx, genre in enumerate(genres)}\n",
        "index_to_genre = {idx: genre for idx, genre in enumerate(genres)}\n",
        "\n",
        "# genre_to_index"
      ],
      "metadata": {
        "id": "RJQ8AKAUjN-N"
      },
      "execution_count": 84,
      "outputs": []
    },
    {
      "cell_type": "code",
      "source": [
        "class LyricsDataset(Dataset):\n",
        "    def __init__(self, dataframe, word_to_index, genre_to_index):\n",
        "        self.dataframe = dataframe\n",
        "        self.word_to_index = word_to_index\n",
        "        self.genre_to_index = genre_to_index\n",
        "\n",
        "    def __len__(self):\n",
        "        return len(self.dataframe)\n",
        "\n",
        "    def __getitem__(self, idx):\n",
        "        row = self.dataframe.iloc[idx]\n",
        "        genre = self.genre_to_index[row['genre']]\n",
        "        input_lyrics = [self.word_to_index.get(word, self.word_to_index[\"<UNK>\"]) for word in row['input_lyrics']]\n",
        "        output_word = self.word_to_index.get(row['output_word'], self.word_to_index[\"<UNK>\"])\n",
        "        return torch.tensor(input_lyrics, dtype=torch.long), torch.tensor(genre, dtype=torch.long), torch.tensor(output_word, dtype=torch.long)\n",
        "\n",
        "train_dataset = LyricsDataset(df_music_cleaned, word_to_index, genre_to_index)\n",
        "train_dataloader = DataLoader(train_dataset, batch_size=64, shuffle=True)"
      ],
      "metadata": {
        "id": "UnkJyVGVl_ZK"
      },
      "execution_count": 85,
      "outputs": []
    },
    {
      "cell_type": "markdown",
      "source": [
        "# Train model"
      ],
      "metadata": {
        "id": "nLdUgkLAjJv3"
      }
    },
    {
      "cell_type": "code",
      "source": [
        "device = torch.device('cuda' if torch.cuda.is_available() else 'cpu')\n",
        "device"
      ],
      "metadata": {
        "colab": {
          "base_uri": "https://localhost:8080/"
        },
        "id": "wuzHssBDytTm",
        "outputId": "93e157f7-4636-4c30-f17b-ed051153c5bc"
      },
      "execution_count": 86,
      "outputs": [
        {
          "output_type": "execute_result",
          "data": {
            "text/plain": [
              "device(type='cuda')"
            ]
          },
          "metadata": {},
          "execution_count": 86
        }
      ]
    },
    {
      "cell_type": "code",
      "source": [
        "class LyricsLSTM(nn.Module):\n",
        "    def __init__(self, vocab_size, genre_size, embedding_dim, hidden_dim, output_dim):\n",
        "        super(LyricsLSTM, self).__init__()\n",
        "        self.embedding = nn.Embedding(vocab_size, embedding_dim)\n",
        "        self.genre_embedding = nn.Embedding(genre_size, embedding_dim)\n",
        "        self.lstm = nn.LSTM(embedding_dim, hidden_dim, batch_first=True)\n",
        "        self.fc = nn.Linear(hidden_dim, output_dim)\n",
        "\n",
        "    def forward(self, lyrics, genre):\n",
        "        lyrics_embedded = self.embedding(lyrics)\n",
        "        genre_embedded = self.genre_embedding(genre)\n",
        "        combined = lyrics_embedded + genre_embedded.unsqueeze(1)\n",
        "        lstm_out, _ = self.lstm(combined)\n",
        "        out = self.fc(lstm_out[:, -1, :])\n",
        "        return out\n",
        "\n",
        "vocab_size = len(word_to_index)\n",
        "genre_size = 30\n",
        "embedding_dim = 128\n",
        "hidden_dim = 128\n",
        "output_dim = vocab_size\n",
        "model = LyricsLSTM(vocab_size, genre_size, embedding_dim, hidden_dim, output_dim).to(device)\n",
        "print(model)"
      ],
      "metadata": {
        "colab": {
          "base_uri": "https://localhost:8080/"
        },
        "id": "IOicJ7tposPB",
        "outputId": "38d38fe8-9000-47ff-bd5f-7a9d44c2f239"
      },
      "execution_count": 87,
      "outputs": [
        {
          "output_type": "stream",
          "name": "stdout",
          "text": [
            "LyricsLSTM(\n",
            "  (embedding): Embedding(31631, 128)\n",
            "  (genre_embedding): Embedding(30, 128)\n",
            "  (lstm): LSTM(128, 128, batch_first=True)\n",
            "  (fc): Linear(in_features=128, out_features=31631, bias=True)\n",
            ")\n"
          ]
        }
      ]
    },
    {
      "cell_type": "markdown",
      "source": [
        "## epoch 20"
      ],
      "metadata": {
        "id": "08PrE1ZYn5TY"
      }
    },
    {
      "cell_type": "code",
      "source": [
        "def train_model(model, train_loader, criterion, optimizer, num_epochs):\n",
        "    total_loss_per_epoch = []\n",
        "\n",
        "    for epoch in range(num_epochs):\n",
        "        model.train()\n",
        "        total_loss = 0\n",
        "        for lyrics, genre, target in tqdm(train_loader):\n",
        "            lyrics = lyrics.to(device)\n",
        "            genre = genre.to(device)\n",
        "            target = target.to(device)\n",
        "\n",
        "            optimizer.zero_grad()\n",
        "            outputs = model(lyrics, genre)\n",
        "            loss = criterion(outputs, target)\n",
        "            loss.backward()\n",
        "            optimizer.step()\n",
        "            total_loss += loss.item()\n",
        "\n",
        "        avg_loss = total_loss / len(train_loader)\n",
        "        print(f'Epoch {epoch+1}/{num_epochs}, Loss: {avg_loss:.4f}')\n",
        "        total_loss_per_epoch.append(avg_loss)\n",
        "\n",
        "\n",
        "    plt.plot(total_loss_per_epoch, label='Training Loss')\n",
        "    plt.xlabel('Epoch')\n",
        "    plt.ylabel('Loss')\n",
        "    plt.title('Training Loss Per Epoch')\n",
        "    plt.legend()\n",
        "    plt.show()\n",
        "\n",
        "\n",
        "criterion = nn.CrossEntropyLoss()\n",
        "optimizer = torch.optim.Adam(model.parameters(), lr=0.001)\n",
        "num_epochs = 20\n",
        "train_model(model, train_dataloader, criterion, optimizer, num_epochs)"
      ],
      "metadata": {
        "colab": {
          "base_uri": "https://localhost:8080/",
          "height": 1000
        },
        "id": "Fkj1yDn7n6Ko",
        "outputId": "c4ed4387-79f1-4469-998f-2df20c30ac90"
      },
      "execution_count": 89,
      "outputs": [
        {
          "output_type": "stream",
          "name": "stderr",
          "text": [
            "100%|██████████| 4532/4532 [01:08<00:00, 65.89it/s]\n"
          ]
        },
        {
          "output_type": "stream",
          "name": "stdout",
          "text": [
            "Epoch 1/20, Loss: 4.4472\n"
          ]
        },
        {
          "output_type": "stream",
          "name": "stderr",
          "text": [
            "100%|██████████| 4532/4532 [01:07<00:00, 67.22it/s]\n"
          ]
        },
        {
          "output_type": "stream",
          "name": "stdout",
          "text": [
            "Epoch 2/20, Loss: 3.4339\n"
          ]
        },
        {
          "output_type": "stream",
          "name": "stderr",
          "text": [
            "100%|██████████| 4532/4532 [01:06<00:00, 67.76it/s]\n"
          ]
        },
        {
          "output_type": "stream",
          "name": "stdout",
          "text": [
            "Epoch 3/20, Loss: 2.8634\n"
          ]
        },
        {
          "output_type": "stream",
          "name": "stderr",
          "text": [
            "100%|██████████| 4532/4532 [01:09<00:00, 65.05it/s]\n"
          ]
        },
        {
          "output_type": "stream",
          "name": "stdout",
          "text": [
            "Epoch 4/20, Loss: 2.4751\n"
          ]
        },
        {
          "output_type": "stream",
          "name": "stderr",
          "text": [
            "100%|██████████| 4532/4532 [01:07<00:00, 67.59it/s]\n"
          ]
        },
        {
          "output_type": "stream",
          "name": "stdout",
          "text": [
            "Epoch 5/20, Loss: 2.1829\n"
          ]
        },
        {
          "output_type": "stream",
          "name": "stderr",
          "text": [
            "100%|██████████| 4532/4532 [01:07<00:00, 67.40it/s]\n"
          ]
        },
        {
          "output_type": "stream",
          "name": "stdout",
          "text": [
            "Epoch 6/20, Loss: 1.9530\n"
          ]
        },
        {
          "output_type": "stream",
          "name": "stderr",
          "text": [
            "100%|██████████| 4532/4532 [01:09<00:00, 65.57it/s]\n"
          ]
        },
        {
          "output_type": "stream",
          "name": "stdout",
          "text": [
            "Epoch 7/20, Loss: 1.7613\n"
          ]
        },
        {
          "output_type": "stream",
          "name": "stderr",
          "text": [
            "100%|██████████| 4532/4532 [01:07<00:00, 67.05it/s]\n"
          ]
        },
        {
          "output_type": "stream",
          "name": "stdout",
          "text": [
            "Epoch 8/20, Loss: 1.6014\n"
          ]
        },
        {
          "output_type": "stream",
          "name": "stderr",
          "text": [
            "100%|██████████| 4532/4532 [01:07<00:00, 66.99it/s]\n"
          ]
        },
        {
          "output_type": "stream",
          "name": "stdout",
          "text": [
            "Epoch 9/20, Loss: 1.4660\n"
          ]
        },
        {
          "output_type": "stream",
          "name": "stderr",
          "text": [
            "100%|██████████| 4532/4532 [01:07<00:00, 67.07it/s]\n"
          ]
        },
        {
          "output_type": "stream",
          "name": "stdout",
          "text": [
            "Epoch 10/20, Loss: 1.3480\n"
          ]
        },
        {
          "output_type": "stream",
          "name": "stderr",
          "text": [
            "100%|██████████| 4532/4532 [01:08<00:00, 65.86it/s]\n"
          ]
        },
        {
          "output_type": "stream",
          "name": "stdout",
          "text": [
            "Epoch 11/20, Loss: 1.2465\n"
          ]
        },
        {
          "output_type": "stream",
          "name": "stderr",
          "text": [
            "100%|██████████| 4532/4532 [01:07<00:00, 66.75it/s]\n"
          ]
        },
        {
          "output_type": "stream",
          "name": "stdout",
          "text": [
            "Epoch 12/20, Loss: 1.1580\n"
          ]
        },
        {
          "output_type": "stream",
          "name": "stderr",
          "text": [
            "100%|██████████| 4532/4532 [01:07<00:00, 67.15it/s]\n"
          ]
        },
        {
          "output_type": "stream",
          "name": "stdout",
          "text": [
            "Epoch 13/20, Loss: 1.0792\n"
          ]
        },
        {
          "output_type": "stream",
          "name": "stderr",
          "text": [
            "100%|██████████| 4532/4532 [01:10<00:00, 64.69it/s]\n"
          ]
        },
        {
          "output_type": "stream",
          "name": "stdout",
          "text": [
            "Epoch 14/20, Loss: 1.0123\n"
          ]
        },
        {
          "output_type": "stream",
          "name": "stderr",
          "text": [
            "100%|██████████| 4532/4532 [01:07<00:00, 67.10it/s]\n"
          ]
        },
        {
          "output_type": "stream",
          "name": "stdout",
          "text": [
            "Epoch 15/20, Loss: 0.9519\n"
          ]
        },
        {
          "output_type": "stream",
          "name": "stderr",
          "text": [
            "100%|██████████| 4532/4532 [01:07<00:00, 67.51it/s]\n"
          ]
        },
        {
          "output_type": "stream",
          "name": "stdout",
          "text": [
            "Epoch 16/20, Loss: 0.8981\n"
          ]
        },
        {
          "output_type": "stream",
          "name": "stderr",
          "text": [
            "100%|██████████| 4532/4532 [01:09<00:00, 65.31it/s]\n"
          ]
        },
        {
          "output_type": "stream",
          "name": "stdout",
          "text": [
            "Epoch 17/20, Loss: 0.8521\n"
          ]
        },
        {
          "output_type": "stream",
          "name": "stderr",
          "text": [
            "100%|██████████| 4532/4532 [01:08<00:00, 66.17it/s]\n"
          ]
        },
        {
          "output_type": "stream",
          "name": "stdout",
          "text": [
            "Epoch 18/20, Loss: 0.8079\n"
          ]
        },
        {
          "output_type": "stream",
          "name": "stderr",
          "text": [
            "100%|██████████| 4532/4532 [01:07<00:00, 66.93it/s]\n"
          ]
        },
        {
          "output_type": "stream",
          "name": "stdout",
          "text": [
            "Epoch 19/20, Loss: 0.7709\n"
          ]
        },
        {
          "output_type": "stream",
          "name": "stderr",
          "text": [
            "100%|██████████| 4532/4532 [01:09<00:00, 65.53it/s]\n"
          ]
        },
        {
          "output_type": "stream",
          "name": "stdout",
          "text": [
            "Epoch 20/20, Loss: 0.7368\n"
          ]
        },
        {
          "output_type": "display_data",
          "data": {
            "text/plain": [
              "<Figure size 640x480 with 1 Axes>"
            ],
            "image/png": "[encoded data removed]"
          },
          "metadata": {}
        }
      ]
    },
    {
      "cell_type": "markdown",
      "source": [
        "## Pickle model"
      ],
      "metadata": {
        "id": "LCAP-F3poBBu"
      }
    },
    {
      "cell_type": "code",
      "source": [
        "with open('lyrics_model_20epoch.pkl', 'wb') as f:\n",
        "    pickle.dump(model, f)"
      ],
      "metadata": {
        "id": "fUy6q-xOoBB6"
      },
      "execution_count": 91,
      "outputs": []
    },
    {
      "cell_type": "markdown",
      "source": [
        "## epoch 30"
      ],
      "metadata": {
        "id": "5jkDDcyCegZT"
      }
    },
    {
      "cell_type": "code",
      "source": [
        "def train_model(model, train_loader, criterion, optimizer, num_epochs):\n",
        "    total_loss_per_epoch = []\n",
        "\n",
        "    for epoch in range(num_epochs):\n",
        "        model.train()\n",
        "        total_loss = 0\n",
        "        for lyrics, genre, target in tqdm(train_loader):\n",
        "            lyrics = lyrics.to(device)\n",
        "            genre = genre.to(device)\n",
        "            target = target.to(device)\n",
        "\n",
        "            optimizer.zero_grad()\n",
        "            outputs = model(lyrics, genre)\n",
        "            loss = criterion(outputs, target)\n",
        "            loss.backward()\n",
        "            optimizer.step()\n",
        "            total_loss += loss.item()\n",
        "\n",
        "        avg_loss = total_loss / len(train_loader)\n",
        "        # print(f'Epoch {epoch+1}/{num_epochs}, Loss: {avg_loss:.4f}')\n",
        "        total_loss_per_epoch.append(avg_loss)\n",
        "\n",
        "\n",
        "    plt.plot(total_loss_per_epoch, label='Training Loss')\n",
        "    plt.xlabel('Epoch')\n",
        "    plt.ylabel('Loss')\n",
        "    plt.title('Training Loss Per Epoch')\n",
        "    plt.legend()\n",
        "    plt.show()\n",
        "\n",
        "\n",
        "criterion = nn.CrossEntropyLoss()\n",
        "optimizer = torch.optim.Adam(model.parameters(), lr=0.001)\n",
        "num_epochs = 10\n",
        "train_model(model, train_dataloader, criterion, optimizer, num_epochs)"
      ],
      "metadata": {
        "colab": {
          "base_uri": "https://localhost:8080/",
          "height": 651
        },
        "id": "cDpaWnyg3guQ",
        "outputId": "768e78c9-466f-4ee9-9c21-0946d13866e1"
      },
      "execution_count": 92,
      "outputs": [
        {
          "output_type": "stream",
          "name": "stderr",
          "text": [
            "100%|██████████| 4532/4532 [01:08<00:00, 66.25it/s]\n",
            "100%|██████████| 4532/4532 [01:09<00:00, 65.64it/s]\n",
            "100%|██████████| 4532/4532 [01:08<00:00, 66.43it/s]\n",
            "100%|██████████| 4532/4532 [01:07<00:00, 66.95it/s]\n",
            "100%|██████████| 4532/4532 [01:09<00:00, 65.35it/s]\n",
            "100%|██████████| 4532/4532 [01:08<00:00, 66.44it/s]\n",
            "100%|██████████| 4532/4532 [01:07<00:00, 66.75it/s]\n",
            "100%|██████████| 4532/4532 [01:09<00:00, 65.17it/s]\n",
            "100%|██████████| 4532/4532 [01:08<00:00, 66.41it/s]\n",
            "100%|██████████| 4532/4532 [01:08<00:00, 66.14it/s]\n"
          ]
        },
        {
          "output_type": "display_data",
          "data": {
            "text/plain": [
              "<Figure size 640x480 with 1 Axes>"
            ],
            "image/png": "[encoded data removed]"
          },
          "metadata": {}
        }
      ]
    },
    {
      "cell_type": "markdown",
      "source": [
        "## Pickle model"
      ],
      "metadata": {
        "id": "oeE3nge4pfhf"
      }
    },
    {
      "cell_type": "code",
      "source": [
        "with open('lyrics_model_30epoch.pkl', 'wb') as f:\n",
        "    pickle.dump(model, f)"
      ],
      "metadata": {
        "id": "Q9vb1nLYpl-c"
      },
      "execution_count": 94,
      "outputs": []
    },
    {
      "cell_type": "markdown",
      "source": [
        "# Generate words"
      ],
      "metadata": {
        "id": "RZs7EHsYwuVW"
      }
    },
    {
      "cell_type": "code",
      "source": [
        "def softmax_sampling(logits, temperature=1.0):\n",
        "    if logits.dim() == 1:\n",
        "        logits = logits.unsqueeze(0)\n",
        "    probabilities = F.softmax(logits / temperature, dim=-1)\n",
        "    next_word_idx = torch.multinomial(probabilities, num_samples=1)\n",
        "    return next_word_idx.item()\n",
        "\n",
        "seed = 'i love you '\n",
        "genre_seed = 'soul'\n",
        "temperature = 1.0\n",
        "\n",
        "model.eval()\n",
        "\n",
        "current_text = [word_to_index.get(word, word_to_index[\"<UNK>\"]) for word in seed.split()]\n",
        "genre_index = genre_to_index[genre_seed]\n",
        "\n",
        "input_seq = torch.tensor([current_text], dtype=torch.long).to(device)\n",
        "genre_seq = torch.tensor([genre_index], dtype=torch.long).to(device)\n",
        "\n",
        "with torch.no_grad():\n",
        "    output = model(input_seq, genre_seq)\n",
        "    # print(output[0])\n",
        "    logits = output[0]\n",
        "    next_word_idx = softmax_sampling(logits, temperature)\n",
        "    # print(next_word_idx)\n",
        "\n",
        "next_word = index_to_word.get(next_word_idx, \"<UNK>\")\n",
        "print(\"Next word:\", next_word)"
      ],
      "metadata": {
        "colab": {
          "base_uri": "https://localhost:8080/"
        },
        "id": "Pq2lUod0xU3q",
        "outputId": "f50a9c35-8bde-4cf5-fb45-907df19e0b41"
      },
      "execution_count": 198,
      "outputs": [
        {
          "output_type": "stream",
          "name": "stdout",
          "text": [
            "Next word: baby\n"
          ]
        }
      ]
    },
    {
      "cell_type": "markdown",
      "source": [
        "# Generator Lyrics"
      ],
      "metadata": {
        "id": "-Uh6qEk1B-Bu"
      }
    },
    {
      "cell_type": "code",
      "source": [
        "def show_lyrics(generated_lyrics, genre, seed):\n",
        "    generated_lyrics = generated_lyrics.split()\n",
        "    print(f\"Genre: {genre}\")\n",
        "    print(f\"Seed: {seed}\")\n",
        "    rounds = math.ceil(len(generated_lyrics) / 50)\n",
        "    for i in range(rounds):\n",
        "        if i == rounds - 1:\n",
        "            print(' '.join(generated_lyrics[i*50:]))\n",
        "            # print(generated_lyrics[i*100:])\n",
        "            print('\\n')\n",
        "        else:\n",
        "            print(' '.join(generated_lyrics[i*50 : (i+1)*50]))\n",
        "\n",
        "# show_lyrics(generated_lyrics_soul, genre1, seed_text)\n"
      ],
      "metadata": {
        "id": "w0IVk140Kfdm"
      },
      "execution_count": 200,
      "outputs": []
    },
    {
      "cell_type": "code",
      "source": [
        "def generate_lyrics(model, seed, genre, word_to_index, index_to_word, genre_to_index, max_length=1000, max_sentence_length=50, temperature=1.0):\n",
        "    model.eval()\n",
        "\n",
        "    generated_lyrics = seed\n",
        "    current_sentence_length = 0\n",
        "    current_text = [word_to_index.get(word, word_to_index[\"<UNK>\"]) for word in seed.split()]\n",
        "    genre_index = genre_to_index[genre]\n",
        "\n",
        "    for _ in range(max_length):\n",
        "        if current_sentence_length >= max_sentence_length:\n",
        "            current_text = [word_to_index.get(\"<s>\", word_to_index[\"<UNK>\"])]\n",
        "            current_sentence_length = 0\n",
        "\n",
        "        input_seq = torch.tensor([current_text], dtype=torch.long).to(device)\n",
        "        genre_seq = torch.tensor([genre_index], dtype=torch.long).to(device)\n",
        "\n",
        "        with torch.no_grad():\n",
        "            output = model(input_seq, genre_seq)\n",
        "            logits = output[0]\n",
        "            next_word_idx = softmax_sampling(logits, temperature)\n",
        "\n",
        "        next_word = index_to_word.get(next_word_idx, \"<UNK>\")\n",
        "        generated_lyrics += \" \" + next_word\n",
        "        current_text.append(next_word_idx)\n",
        "        current_sentence_length += 1\n",
        "\n",
        "        if next_word == \"</s>\" or len(generated_lyrics.split()) >= max_length:\n",
        "            break\n",
        "\n",
        "    return generated_lyrics\n",
        "\n",
        "seed_text = \"sun will shine again\"\n",
        "genre1 = \"soul\"\n",
        "genre2 = \"rock\"\n",
        "genre3 = 'rap'\n",
        "generated_lyrics_soul = generate_lyrics(model, seed_text, genre1, word_to_index, index_to_word, genre_to_index, max_length=500, max_sentence_length=50, temperature=1.0)\n",
        "generated_lyrics_rock = generate_lyrics(model, seed_text, genre2, word_to_index, index_to_word, genre_to_index, max_length=500, max_sentence_length=50, temperature=1.0)\n",
        "generated_lyrics_rap = generate_lyrics(model, seed_text, genre2, word_to_index, index_to_word, genre_to_index, max_length=500, max_sentence_length=50, temperature=1.0)\n",
        "\n",
        "show_lyrics(generated_lyrics_soul, genre1, seed_text)\n",
        "show_lyrics(generated_lyrics_rock, genre2, seed_text)\n",
        "show_lyrics(generated_lyrics_rap, genre3, seed_text)"
      ],
      "metadata": {
        "colab": {
          "base_uri": "https://localhost:8080/"
        },
        "id": "dB7phjvsGJy8",
        "outputId": "c7bec232-5ba9-49e4-d324-f130de13e804"
      },
      "execution_count": 204,
      "outputs": [
        {
          "output_type": "stream",
          "name": "stdout",
          "text": [
            "Genre: soul\n",
            "Seed: sun will shine again\n",
            "sun will shine again ? yeah '' leave you leave me lonely up ! '' hide now ... next summer rain ... sign here clap like me ? hoo hoo hoo hoo hoo hoo hoo hoo hoo hoo hoo hoo hoo hoo hoo hoo hoo hoo hoo hoo hoo hoo\n",
            "hoo hoo hoo hoo no regrets need involved college for town ? '' uhh loud ! '' yeah there mars tonight 'em now woo anyhow uhh uhh uhh uhh uhh uhh uhh uhh uhh uhh uhh uhh uhh uhh flight calls ends change that guy over again ! will go\n",
            "go '' '' again make nice bed tasted town bust glow ya down down down outside ! away task ! ! '' pumps teeth '' world see you yeah ? '' bruises arms card strong sunrise by light on me tonight tour tonight up you down within and key another\n",
            "chance behave still believes paris alright ... ) oh ... oh hey oh ) oh then i did keep ... ) did smiles to me never knew me now now now now ' on fire before before last night nice 'cause ah-yeah-yeah-yeah-yeah-yeah words dirty heart is breaking kisses there is\n",
            "disguise girl dreams sometimes company sadness tomorrow scenes handle practice ' boo ' lady tonight : new soldier yesterday fits through thin minds '' flame waters him slow down down choice us now together now there goes by down everyone believes life coming ... ) remember my baby my mind\n",
            "uh uhh ? ah places ' ) too long ago now of me too late late sunday before romance before you sad teeth ' tight above mine too weak come true so long tables too long ago room another home alone there was true for you tonight is true so\n",
            "no-no days tonight tonight i am truly it takes again ? no no no ) as good enough in joy and grin me open wide blue eyes around her home please hide me tonight ? yeah '' uhh time wasted day else around you smile '' again '' again ?\n",
            "'' journey ! lord listen diamonds me only tapsy times else better last night long people tomorrow out ... w-o-m-a-n ya tell him betty exist this '' tear feather tone about everything changed cocaine surprise lines everyday around you walk away saints ? oh yeah ? yeah ! '' yeah\n",
            "clouds everyday three ways ooh ... baby destined ... '' yeah '' soft i am— uh uh uh huh huh '' easy man woman - me that cool '' night * * t led ? yeah ? chances '' night like you back ! ” pain ! '' pumps )\n",
            "affair away ! is desire together too long together ... actress '' right worse more through it all mine now ? yeah yeah yeah yeah yeah yeah yeah yeah yeah yeah yeah yeah yeah yeah yeah yeah ... baby yeah tonight tonight things closer again ? yeah '' profit rock\n",
            "\n",
            "\n",
            "Genre: rock\n",
            "Seed: sun will shine again\n",
            "sun will shine again ! well go on yo world ! '' some kicks control you think drunk kids ! ? ! ! … in ! ! ) clearly down long baby ? yeah up tails legs stations chair skies ) twisted plain strong wild tight ... yet jelly na-naaa\n",
            "in ice cube ... hoo-ha morning comes worm deck wouldunderstand ago sunday pillow road around ! ! away ! ! … dishonestly ! ! ! ! ” ! ! … ! '' ! ! ! ! away high ! ! … in ! ! ) ... desire drugs on !\n",
            "'' ! ! ! feed disgrace beds ! '' yell ! oooo ! '' ! '' ! '' yell ! '' yell arms night sunset sally '' wizard play us solo more half up ... tom like carpet on yourself ? '' kicks head down through bam-ba-lam ? no more\n",
            "round them ! '' calm down ! ) high ! mexico ! ) now ! ! ) ! '' ! ” ! ! '' yell ! ! '' yell ! '' yell attitude rosetta '' dashed fantasy on easy high car ! thoroughbred on games ! '' yeah ! ''\n",
            "! ! '' some wise mouth something rocked scent curtains girl ) there cheek away right twenty-four ' how laugh ' called excuses insane tears ' crazy ? ' ) too soon fall apart ? boiling dawn off open road song to paris out high water ' ' on begun\n",
            "' up high car please somebody else right nine now ! ! ! '' focus ! ! '' some feeling feeling good ! '' magic ! '' focus ! ! away '' ... goes on it ! '' focus ! '' focus song open doors ! '' focus ! !\n",
            "… whatever ... for even debts finger times roll around curse '' colors ' overtime sun shines two thee '' dial when school decide right right now ! please hot high face ? '' call you ! ! ) heart ! '' ! ! ” '' ! ! '' dollar\n",
            "hands ! ! '' oh oh oh oh oh oh oh oh oh oh oh oh oh oh ) cares '' night ! homicidal '' yell commitment tonight '' now seems pray too surrender but did do n't know me now yet why it is true again ? '' you\n",
            "keep inside ? souvenir though music die appeal but broken bones leaves them nine vanish ' horse lights ? ' on ... freight day on ) now ? ! '' ! ! ! … like ! '' ! ! jam ! ! ! '' ! ! '' focus ! !\n",
            "'' ! ! '' leaving 'em then when straight us straight hurricane by fights easy way out 'cause with— when school deserve this long tonight long goodbye rule night long tonight goes long tonight ' tonight for three highway here boulevard wrong when me home tonight tonight tonight about us\n",
            "\n",
            "\n",
            "Genre: rap\n",
            "Seed: sun will shine again\n",
            "sun will shine again ! gangsta again ! ) ? yeah ! '' goodnight one train ways ! fool away '' again ! '' again ! ! '' ! '' ! '' ! '' ! '' ! sarcophagus ! '' ! ! ! '' focus ! — are photos ''\n",
            "yell ... cup on know me now anyway ? '' again ... idiot please sky above me ! '' ! ) behind you ? mmmmmmmm ) came late time film art deep insane stage wild castle hat came out bound ! ! ! … ! ! ” ! ! away\n",
            "fair ! ! ! today ! ! '' ! '' ! ” ! ! '' ! '' ! ! ! '' ! — '' hide ! ! '' yell ! '' yell arms '' again '' omniscient ... yet above only mistakes begun ! ! behind ! ! ! …\n",
            "! '' ! ! even 'd ? blues hurts rides wrench wild heart crown cup shop fountain : tread tea paid different business large fist ' up lesson black son legend never lake ? ) ? player decay mistaken '' action : cold ground ! ” you were mine !\n",
            "'' some kicks why ready when you come along and satellite wrote ? ! ” ! ! how ! how are no no no no goodbye '' yell ... '' ! '' fool ) now too long ago now ? '' call ... blast around love ? ? fuck !\n",
            "! … ! ! worry ! up ! '' ! '' look ! '' focus heart ! '' focus man ! '' focus man day ! '' focus again ! ! '' focus ! away well right now ! '' ? hey ! '' r-o-m-e-o ! '' escape ! ''\n",
            "tie sore things up ooh movie shine silently black street again ? ... so right ? '' right ? flawless fold ... ? cruise rock fair stand with me ? '' bam-ba-lam cook affair it linger on cash ? ) ! '' sign now ! well ! '' whatever ...\n",
            "haha inside '' daddy hands up up says screaming hands up up boots fader river week shine burned up tails light up on 'em home work stage play out dancing by yourself down unseen uh across games uh along behind me ! ! ! '' ... note ! '' ...\n",
            "replaced hurricane easy ) eyes over laughing ways home town home sometime '' destruction pills underneath me underground seas song ... subside dangerous top it down down it in rain down free surprise two path us go long down here ' down here anyway ) ” you please giggle by\n",
            "easy down live for dope slip attention ) want to please himself ? patiently ! '' yeah ! '' whatever works upon mom to around me please 'em ? ” why ? '' how i who choice is true after y'all ; i do ? '' yeah anyway ? ''\n",
            "\n",
            "\n"
          ]
        }
      ]
    }
  ]
}