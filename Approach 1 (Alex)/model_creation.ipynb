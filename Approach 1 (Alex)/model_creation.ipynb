{
 "cells": [
  {
   "cell_type": "markdown",
   "metadata": {},
   "source": [
    "# Model Creation"
   ]
  },
  {
   "cell_type": "markdown",
   "metadata": {},
   "source": [
    "## Load the data and convert it into a format the network can understand"
   ]
  },
  {
   "cell_type": "code",
   "execution_count": 56,
   "metadata": {},
   "outputs": [],
   "source": [
    "import pandas as pd\n",
    "\n",
    "# Load the dataframes\n",
    "song_metadata_df = pd.read_csv('data/preprocessed-data/song_metadata.csv')\n",
    "song_sentiment_df = pd.read_csv('data/preprocessed-data/song_sentiment.csv')\n",
    "song_lyrics_df = pd.read_csv('data/preprocessed-data/song_lyrics.csv')\n",
    "song_lyrics_tokenized = pd.read_csv('data/processed-data/song_lyrics_tokenized.csv')\n",
    "\n",
    "# Numeric features from song_sentiment_df\n",
    "numeric_features_df = song_sentiment_df[['valence', 'danceability', 'energy', 'tempo', 'loudness', 'speechiness', 'acousticness', 'instrumentalness', 'liveness']]\n",
    "num_numeric_features = numeric_features_df.shape[1]\n",
    "\n",
    "# Genre features from song_metadata_df (One-hot encode genres)\n",
    "genres_df = pd.get_dummies(song_metadata_df['genre'])\n",
    "num_genres = genres_df.shape[1]"
   ]
  },
  {
   "cell_type": "code",
   "execution_count": 58,
   "metadata": {},
   "outputs": [],
   "source": [
    "from collections import Counter\n",
    "import numpy as np\n",
    "\n",
    "# Flatten all the tokenized lyrics into one large list\n",
    "all_lyrics = [word for sublist in song_lyrics_tokenized['tokenized_lyrics'].str.split() for word in sublist]\n",
    "\n",
    "# Create a counter of all words\n",
    "word_counter = Counter(all_lyrics)\n",
    "\n",
    "# Create a vocabulary and assign an index to each word\n",
    "vocab = {word: i + 1 for i, (word, _) in enumerate(word_counter.most_common())}  # start indexing from 1\n",
    "vocab['<PAD>'] = 0  # PAD token\n",
    "\n",
    "# vocab_size is the total number of unique tokens in your corpus\n",
    "vocab_size = len(vocab)"
   ]
  },
  {
   "cell_type": "code",
   "execution_count": 59,
   "metadata": {},
   "outputs": [],
   "source": [
    "# Convert the lyrics to sequences of integers\n",
    "sequences = [[vocab[word] for word in lyric.split()] for lyric in song_lyrics_tokenized['tokenized_lyrics']]\n",
    "\n",
    "# Define a function for padding sequences\n",
    "def pad_sequences(sequences, maxlen):\n",
    "    padded_sequences = np.zeros((len(sequences), maxlen))\n",
    "    for i, seq in enumerate(sequences):\n",
    "        if len(seq) < maxlen:\n",
    "            padded_sequences[i, -len(seq):] = seq\n",
    "        else:\n",
    "            padded_sequences[i, :] = seq[:maxlen]\n",
    "    return padded_sequences\n",
    "\n",
    "# Pad sequences\n",
    "sequence_length = 50\n",
    "X_train_seq = pad_sequences(sequences, maxlen=sequence_length)\n",
    "\n",
    "# Extract labels (you might want to convert these to one-hot encodings)\n",
    "y_train = np.array([seq[-1] for seq in sequences])"
   ]
  },
  {
   "cell_type": "code",
   "execution_count": 60,
   "metadata": {},
   "outputs": [],
   "source": [
    "from sklearn.preprocessing import MinMaxScaler\n",
    "\n",
    "# Normalize numeric features\n",
    "scaler = MinMaxScaler()\n",
    "X_train_num = scaler.fit_transform(numeric_features_df)\n",
    "\n",
    "# Prepare genre data\n",
    "X_train_cat = genres_df.values"
   ]
  },
  {
   "cell_type": "code",
   "execution_count": 61,
   "metadata": {},
   "outputs": [],
   "source": [
    "assert len(X_train_seq) == len(X_train_num) == len(X_train_cat) == len(y_train), \"Mismatch in dataset lengths.\""
   ]
  },
  {
   "cell_type": "markdown",
   "metadata": {},
   "source": [
    "## Define the Model"
   ]
  },
  {
   "cell_type": "code",
   "execution_count": 62,
   "metadata": {},
   "outputs": [],
   "source": [
    "import torch\n",
    "import torch.nn as nn\n",
    "import torch.nn.functional as F\n",
    "from torch.utils.data import Dataset, DataLoader\n",
    "\n",
    "class LyricsGeneratorModel(nn.Module):\n",
    "    def __init__(self, vocab_size, num_genres, num_numeric_features):\n",
    "        super(LyricsGeneratorModel, self).__init__()\n",
    "        # Define the layers and their dimensions\n",
    "        self.embedding = nn.Embedding(vocab_size, 128)\n",
    "        self.lstm = nn.LSTM(128, 128, batch_first=True)\n",
    "        self.dense_numeric = nn.Linear(num_numeric_features, 32)\n",
    "        self.dense_genre = nn.Linear(num_genres, 32)\n",
    "        self.dense_combined = nn.Linear(128 + 32 + 32, 128)\n",
    "        self.output_layer = nn.Linear(128, vocab_size)\n",
    "\n",
    "    def forward(self, lyrics_input, numeric_input, genre_input):\n",
    "        # Define the forward pass\n",
    "        embedded_lyrics = self.embedding(lyrics_input)\n",
    "        lstm_out, _ = self.lstm(embedded_lyrics)\n",
    "        lstm_out = lstm_out[:, -1, :]  # Get the output of the last LSTM cell\n",
    "\n",
    "        numeric_out = F.relu(self.dense_numeric(numeric_input))\n",
    "        genre_out = F.relu(self.dense_genre(genre_input))\n",
    "\n",
    "        combined = torch.cat((lstm_out, numeric_out, genre_out), dim=1)\n",
    "        combined = F.relu(self.dense_combined(combined))\n",
    "        output = self.output_layer(combined)\n",
    "        return output"
   ]
  },
  {
   "cell_type": "markdown",
   "metadata": {},
   "source": [
    "## Dataloader"
   ]
  },
  {
   "cell_type": "code",
   "execution_count": 63,
   "metadata": {},
   "outputs": [],
   "source": [
    "class LyricsDataset(Dataset):\n",
    "    def __init__(self, lyrics_sequences, numeric_features, genre_features, labels):\n",
    "        self.lyrics_sequences = lyrics_sequences\n",
    "        self.numeric_features = numeric_features\n",
    "        self.genre_features = genre_features\n",
    "        self.labels = labels\n",
    "\n",
    "    def __len__(self):\n",
    "        return len(self.labels)\n",
    "\n",
    "    def __getitem__(self, idx):\n",
    "        return self.lyrics_sequences[idx], self.numeric_features[idx], self.genre_features[idx], self.labels[idx]\n",
    "\n",
    "# Convert your preprocessed data to PyTorch tensors and create a dataset\n",
    "train_dataset = LyricsDataset(X_train_seq, X_train_num, X_train_cat, y_train)\n",
    "train_loader = DataLoader(train_dataset, batch_size=32, shuffle=True)\n"
   ]
  },
  {
   "cell_type": "markdown",
   "metadata": {},
   "source": [
    "## Training"
   ]
  },
  {
   "cell_type": "code",
   "execution_count": 66,
   "metadata": {},
   "outputs": [
    {
     "name": "stderr",
     "output_type": "stream",
     "text": [
      "Epoch 1/30: 100%|██████████| 199/199 [00:17<00:00, 11.32it/s]\n"
     ]
    },
    {
     "name": "stdout",
     "output_type": "stream",
     "text": [
      "Epoch 1/30, Average Loss: 7.853093707980822\n"
     ]
    },
    {
     "name": "stderr",
     "output_type": "stream",
     "text": [
      "Epoch 2/30: 100%|██████████| 199/199 [00:16<00:00, 11.80it/s]\n"
     ]
    },
    {
     "name": "stdout",
     "output_type": "stream",
     "text": [
      "Epoch 2/30, Average Loss: 6.414848960224708\n"
     ]
    },
    {
     "name": "stderr",
     "output_type": "stream",
     "text": [
      "Epoch 3/30: 100%|██████████| 199/199 [00:16<00:00, 11.90it/s]\n"
     ]
    },
    {
     "name": "stdout",
     "output_type": "stream",
     "text": [
      "Epoch 3/30, Average Loss: 6.227576092859009\n"
     ]
    },
    {
     "name": "stderr",
     "output_type": "stream",
     "text": [
      "Epoch 4/30: 100%|██████████| 199/199 [00:20<00:00,  9.70it/s]\n"
     ]
    },
    {
     "name": "stdout",
     "output_type": "stream",
     "text": [
      "Epoch 4/30, Average Loss: 6.115018075435006\n"
     ]
    },
    {
     "name": "stderr",
     "output_type": "stream",
     "text": [
      "Epoch 5/30: 100%|██████████| 199/199 [00:29<00:00,  6.84it/s]\n"
     ]
    },
    {
     "name": "stdout",
     "output_type": "stream",
     "text": [
      "Epoch 5/30, Average Loss: 5.966381288653043\n"
     ]
    },
    {
     "name": "stderr",
     "output_type": "stream",
     "text": [
      "Epoch 6/30: 100%|██████████| 199/199 [00:21<00:00,  9.10it/s]\n"
     ]
    },
    {
     "name": "stdout",
     "output_type": "stream",
     "text": [
      "Epoch 6/30, Average Loss: 5.761180743500216\n"
     ]
    },
    {
     "name": "stderr",
     "output_type": "stream",
     "text": [
      "Epoch 7/30: 100%|██████████| 199/199 [00:18<00:00, 10.49it/s]\n"
     ]
    },
    {
     "name": "stdout",
     "output_type": "stream",
     "text": [
      "Epoch 7/30, Average Loss: 5.494866356777785\n"
     ]
    },
    {
     "name": "stderr",
     "output_type": "stream",
     "text": [
      "Epoch 8/30: 100%|██████████| 199/199 [00:17<00:00, 11.09it/s]\n"
     ]
    },
    {
     "name": "stdout",
     "output_type": "stream",
     "text": [
      "Epoch 8/30, Average Loss: 5.189944892672438\n"
     ]
    },
    {
     "name": "stderr",
     "output_type": "stream",
     "text": [
      "Epoch 9/30: 100%|██████████| 199/199 [00:17<00:00, 11.34it/s]\n"
     ]
    },
    {
     "name": "stdout",
     "output_type": "stream",
     "text": [
      "Epoch 9/30, Average Loss: 4.826535942566455\n"
     ]
    },
    {
     "name": "stderr",
     "output_type": "stream",
     "text": [
      "Epoch 10/30: 100%|██████████| 199/199 [00:17<00:00, 11.20it/s]\n"
     ]
    },
    {
     "name": "stdout",
     "output_type": "stream",
     "text": [
      "Epoch 10/30, Average Loss: 4.397998267082713\n"
     ]
    },
    {
     "name": "stderr",
     "output_type": "stream",
     "text": [
      "Epoch 11/30: 100%|██████████| 199/199 [00:18<00:00, 10.93it/s]\n"
     ]
    },
    {
     "name": "stdout",
     "output_type": "stream",
     "text": [
      "Epoch 11/30, Average Loss: 3.9032168939485024\n"
     ]
    },
    {
     "name": "stderr",
     "output_type": "stream",
     "text": [
      "Epoch 12/30: 100%|██████████| 199/199 [00:18<00:00, 10.87it/s]\n"
     ]
    },
    {
     "name": "stdout",
     "output_type": "stream",
     "text": [
      "Epoch 12/30, Average Loss: 3.338624048472649\n"
     ]
    },
    {
     "name": "stderr",
     "output_type": "stream",
     "text": [
      "Epoch 13/30: 100%|██████████| 199/199 [00:18<00:00, 10.80it/s]\n"
     ]
    },
    {
     "name": "stdout",
     "output_type": "stream",
     "text": [
      "Epoch 13/30, Average Loss: 2.699718259087759\n"
     ]
    },
    {
     "name": "stderr",
     "output_type": "stream",
     "text": [
      "Epoch 14/30: 100%|██████████| 199/199 [00:19<00:00, 10.22it/s]\n"
     ]
    },
    {
     "name": "stdout",
     "output_type": "stream",
     "text": [
      "Epoch 14/30, Average Loss: 2.060391099608723\n"
     ]
    },
    {
     "name": "stderr",
     "output_type": "stream",
     "text": [
      "Epoch 15/30: 100%|██████████| 199/199 [00:19<00:00, 10.31it/s]\n"
     ]
    },
    {
     "name": "stdout",
     "output_type": "stream",
     "text": [
      "Epoch 15/30, Average Loss: 1.4906671032234653\n"
     ]
    },
    {
     "name": "stderr",
     "output_type": "stream",
     "text": [
      "Epoch 16/30: 100%|██████████| 199/199 [00:18<00:00, 11.00it/s]\n"
     ]
    },
    {
     "name": "stdout",
     "output_type": "stream",
     "text": [
      "Epoch 16/30, Average Loss: 1.0690631405193003\n"
     ]
    },
    {
     "name": "stderr",
     "output_type": "stream",
     "text": [
      "Epoch 17/30: 100%|██████████| 199/199 [00:19<00:00, 10.05it/s]\n"
     ]
    },
    {
     "name": "stdout",
     "output_type": "stream",
     "text": [
      "Epoch 17/30, Average Loss: 0.7471100253675451\n"
     ]
    },
    {
     "name": "stderr",
     "output_type": "stream",
     "text": [
      "Epoch 18/30: 100%|██████████| 199/199 [00:19<00:00,  9.98it/s]\n"
     ]
    },
    {
     "name": "stdout",
     "output_type": "stream",
     "text": [
      "Epoch 18/30, Average Loss: 0.5211642577720048\n"
     ]
    },
    {
     "name": "stderr",
     "output_type": "stream",
     "text": [
      "Epoch 19/30: 100%|██████████| 199/199 [00:19<00:00, 10.34it/s]\n"
     ]
    },
    {
     "name": "stdout",
     "output_type": "stream",
     "text": [
      "Epoch 19/30, Average Loss: 0.341743405477785\n"
     ]
    },
    {
     "name": "stderr",
     "output_type": "stream",
     "text": [
      "Epoch 20/30: 100%|██████████| 199/199 [00:18<00:00, 10.48it/s]\n"
     ]
    },
    {
     "name": "stdout",
     "output_type": "stream",
     "text": [
      "Epoch 20/30, Average Loss: 0.22634980434448876\n"
     ]
    },
    {
     "name": "stderr",
     "output_type": "stream",
     "text": [
      "Epoch 21/30: 100%|██████████| 199/199 [00:18<00:00, 10.84it/s]\n"
     ]
    },
    {
     "name": "stdout",
     "output_type": "stream",
     "text": [
      "Epoch 21/30, Average Loss: 0.14669074193017567\n"
     ]
    },
    {
     "name": "stderr",
     "output_type": "stream",
     "text": [
      "Epoch 22/30: 100%|██████████| 199/199 [00:18<00:00, 11.00it/s]\n"
     ]
    },
    {
     "name": "stdout",
     "output_type": "stream",
     "text": [
      "Epoch 22/30, Average Loss: 0.08912356605931143\n"
     ]
    },
    {
     "name": "stderr",
     "output_type": "stream",
     "text": [
      "Epoch 23/30: 100%|██████████| 199/199 [00:17<00:00, 11.16it/s]\n"
     ]
    },
    {
     "name": "stdout",
     "output_type": "stream",
     "text": [
      "Epoch 23/30, Average Loss: 0.0580937937182847\n"
     ]
    },
    {
     "name": "stderr",
     "output_type": "stream",
     "text": [
      "Epoch 24/30: 100%|██████████| 199/199 [00:17<00:00, 11.23it/s]\n"
     ]
    },
    {
     "name": "stdout",
     "output_type": "stream",
     "text": [
      "Epoch 24/30, Average Loss: 0.038142576682657456\n"
     ]
    },
    {
     "name": "stderr",
     "output_type": "stream",
     "text": [
      "Epoch 25/30: 100%|██████████| 199/199 [00:17<00:00, 11.35it/s]\n"
     ]
    },
    {
     "name": "stdout",
     "output_type": "stream",
     "text": [
      "Epoch 25/30, Average Loss: 0.02488745118598992\n"
     ]
    },
    {
     "name": "stderr",
     "output_type": "stream",
     "text": [
      "Epoch 26/30: 100%|██████████| 199/199 [00:17<00:00, 11.43it/s]\n"
     ]
    },
    {
     "name": "stdout",
     "output_type": "stream",
     "text": [
      "Epoch 26/30, Average Loss: 0.018097190331461743\n"
     ]
    },
    {
     "name": "stderr",
     "output_type": "stream",
     "text": [
      "Epoch 27/30: 100%|██████████| 199/199 [00:17<00:00, 11.46it/s]\n"
     ]
    },
    {
     "name": "stdout",
     "output_type": "stream",
     "text": [
      "Epoch 27/30, Average Loss: 0.014009777828583016\n"
     ]
    },
    {
     "name": "stderr",
     "output_type": "stream",
     "text": [
      "Epoch 28/30: 100%|██████████| 199/199 [00:18<00:00, 11.01it/s]\n"
     ]
    },
    {
     "name": "stdout",
     "output_type": "stream",
     "text": [
      "Epoch 28/30, Average Loss: 0.011333165844743276\n"
     ]
    },
    {
     "name": "stderr",
     "output_type": "stream",
     "text": [
      "Epoch 29/30: 100%|██████████| 199/199 [00:18<00:00, 10.90it/s]\n"
     ]
    },
    {
     "name": "stdout",
     "output_type": "stream",
     "text": [
      "Epoch 29/30, Average Loss: 0.00932857975242051\n"
     ]
    },
    {
     "name": "stderr",
     "output_type": "stream",
     "text": [
      "Epoch 30/30: 100%|██████████| 199/199 [00:18<00:00, 10.64it/s]"
     ]
    },
    {
     "name": "stdout",
     "output_type": "stream",
     "text": [
      "Epoch 30/30, Average Loss: 0.007713646298021677\n"
     ]
    },
    {
     "name": "stderr",
     "output_type": "stream",
     "text": [
      "\n"
     ]
    },
    {
     "data": {
      "image/png": "[encoded data removed]",
      "text/plain": [
       "<Figure size 1000x500 with 1 Axes>"
      ]
     },
     "metadata": {},
     "output_type": "display_data"
    }
   ],
   "source": [
    "from tqdm import tqdm\n",
    "import matplotlib.pyplot as plt\n",
    "\n",
    "device = torch.device('cuda' if torch.cuda.is_available() else 'cpu')\n",
    "\n",
    "model = LyricsGeneratorModel(vocab_size, num_genres, num_numeric_features).to(device)\n",
    "criterion = nn.CrossEntropyLoss()\n",
    "optimizer = torch.optim.Adam(model.parameters(), lr=0.001)\n",
    "\n",
    "num_epochs = 30\n",
    "train_losses = []\n",
    "\n",
    "for epoch in range(num_epochs):\n",
    "    model.train()\n",
    "    total_loss = 0\n",
    "    # Wrap your training loader with tqdm for a progress bar\n",
    "    for lyrics, numeric, genre, labels in tqdm(train_loader, desc=f\"Epoch {epoch+1}/{num_epochs}\"):\n",
    "        lyrics, numeric, genre, labels = lyrics.long().to(device), numeric.float().to(device), genre.float().to(device), labels.long().to(device)\n",
    "\n",
    "        optimizer.zero_grad()\n",
    "        outputs = model(lyrics, numeric, genre)\n",
    "        loss = criterion(outputs, labels)\n",
    "        loss.backward()\n",
    "        optimizer.step()\n",
    "\n",
    "        total_loss += loss.item()\n",
    "    \n",
    "    avg_loss = total_loss / len(train_loader)\n",
    "    train_losses.append(avg_loss)\n",
    "    print(f'Epoch {epoch+1}/{num_epochs}, Average Loss: {avg_loss}')\n",
    "\n",
    "# Plotting the training loss\n",
    "plt.figure(figsize=(10, 5))\n",
    "plt.plot(train_losses, label='Training Loss')\n",
    "plt.title('Training Loss Across Epochs')\n",
    "plt.xlabel('Epoch')\n",
    "plt.ylabel('Loss')\n",
    "plt.legend()\n",
    "plt.show()"
   ]
  },
  {
   "cell_type": "markdown",
   "metadata": {},
   "source": [
    "## Save the model and its loss"
   ]
  },
  {
   "cell_type": "code",
   "execution_count": null,
   "metadata": {},
   "outputs": [
    {
     "name": "stdout",
     "output_type": "stream",
     "text": [
      "Model saved to models/basic_lyrics_generator/basic_lyrics_generator.pth\n",
      "Loss plot saved to models/basic_lyrics_generator/basic_lyrics_generator_training_loss.png\n"
     ]
    }
   ],
   "source": [
    "import os\n",
    "import matplotlib.pyplot as plt\n",
    "model_name = 'basic_lyrics_generator'\n",
    "\n",
    "# Save the model\n",
    "model_save_path = os.path.join(f\"models/{model_name}\", f'{model_name}.pth')\n",
    "torch.save(model.state_dict(), model_save_path)\n",
    "print(f'Model saved to {model_save_path}')\n",
    "\n",
    "# Save the loss plot as an image\n",
    "loss_plot_path = os.path.join(f\"models/{model_name}\", f'{model_name}_training_loss.png')\n",
    "plt.savefig(loss_plot_path)\n",
    "plt.close()  # Close the plot to avoid displaying it in the notebook/console\n",
    "print(f'Loss plot saved to {loss_plot_path}')"
   ]
  },
  {
   "cell_type": "markdown",
   "metadata": {},
   "source": [
    "# Model Evaluation"
   ]
  },
  {
   "cell_type": "markdown",
   "metadata": {},
   "source": [
    "## Tokenization functions & genre to numeric function"
   ]
  },
  {
   "cell_type": "code",
   "execution_count": 96,
   "metadata": {},
   "outputs": [],
   "source": [
    "import re\n",
    "# NOTE: Musical feature number is preserved in the tokenization process\n",
    "features_pattern = \"(coro|pre-coro|outro|instrumental intro|intro|verso \\d+|hook|post-chorus \\d+|verso|chorus \\d+|verse|interlude \\d+|instrumental outro|pre-coro \\d+|break|bridge|instrumental|instrumental break|outro \\d+|interlude|break \\d+|saxophone solo|instrumental interlude|refrain|bridge \\d+|coro \\d+|intro \\d+|pre-chorus|pre-chorus \\d+|chorus|hook \\d+|verse \\d+|instrumental bridge|spoken|refrain \\d+|guitar solo|post-chorus|breakdown|solo)\"\n",
    "def tokenize_lyrics(lyrics):\n",
    "    # Converting to lowercase\n",
    "    lyrics = lyrics.lower()\n",
    "\n",
    "    # Removing artist names from musical features\n",
    "    lyrics = re.sub(fr\"\\[{features_pattern}:?[^\\]]*?\\]\", r\"[\\1]\", lyrics)\n",
    "\n",
    "    # Splitting the lyrics into lines\n",
    "    lines = lyrics.split('\\n')\n",
    "\n",
    "    # Tokenizing each line\n",
    "    tokens = []\n",
    "    for line in lines:\n",
    "        # Check and skip the [?] token\n",
    "        if '[?]' in line:\n",
    "            line = re.sub(r\"\\[\\?\\]\", \"\", line)  # Ignore the [?] token\n",
    "\n",
    "        # Tokenizing special tokens like [x2] as \"[x2]\"\n",
    "        if '[x2]' in line:\n",
    "            tokens.append(\"[x2]\")\n",
    "            line = re.sub(r\"\\[x2\\]\", \"\", line)  # Remove the special token from the line\n",
    "\n",
    "        # Tokenizing musical features as separate tokens, including those with numbers\n",
    "        musical_features = re.findall(fr\"\\[{features_pattern}(?:\\]|:[^\\]]*\\])\", line)\n",
    "        if musical_features:\n",
    "            for feature in musical_features:\n",
    "                # Capitalize the first letter of each word and add square brackets\n",
    "                capitalized_feature = '[' + ' '.join(word.capitalize() for word in feature.split()) + ']'\n",
    "                tokens.append(capitalized_feature)\n",
    "            line = re.sub(fr\"\\[.*?\\]\", \"\", line).strip()\n",
    "\n",
    "        # Tokenizing words, standalone punctuation, and ellipses as separate tokens\n",
    "        # Added a pattern to capture ellipses before individual periods\n",
    "        line_tokens = re.findall(r\"\\.{3}|[\\w’']+(?:-[a-z’']+)?|[.,!?;]\", line)\n",
    "        tokens.extend(line_tokens)\n",
    "\n",
    "        # Adding a token for line breaks\n",
    "        tokens.append(\"\\n\")\n",
    "\n",
    "    # Removing the last line break token\n",
    "    if tokens and tokens[-1] == \"\\n\":\n",
    "        tokens.pop()\n",
    "\n",
    "    return tokens\n",
    "\n",
    "def detokenize_lyrics(tokenized_lyrics):\n",
    "    return ''.join(f'{s} ' if i < len(tokenized_lyrics) - 1 and s != '\\n' and tokenized_lyrics[i + 1] != '\\n' else s for i, s in enumerate(tokenized_lyrics)).strip()"
   ]
  },
  {
   "cell_type": "code",
   "execution_count": 109,
   "metadata": {},
   "outputs": [
    {
     "name": "stdout",
     "output_type": "stream",
     "text": [
      "The numeric representation of 'rap' is: [[0. 0. 0. 0. 0. 0. 0. 0. 0. 0. 0. 0. 0. 0. 0. 0. 0. 0. 0. 0. 0. 0. 0. 0.\n",
      "  0. 0. 0. 0. 0. 0. 0. 0. 0. 0. 0. 0. 0. 0. 0. 0. 0. 0. 0. 0. 0. 0. 0. 0.\n",
      "  0. 0. 0. 0. 0. 0. 0. 0. 0. 0. 0. 0. 0. 0. 0. 0. 0. 0. 0. 0. 0. 0. 0. 0.\n",
      "  0. 0. 0. 0. 0. 0. 0. 0. 0. 0. 0. 0. 0. 0. 0. 0. 0. 0. 0. 0. 0. 0. 0. 0.\n",
      "  0. 0. 0. 0. 0. 0. 0. 0. 0. 0. 0. 0. 0. 0. 0. 0. 0. 0. 0. 0. 0. 0. 0. 0.\n",
      "  0. 0. 0. 0. 0. 0. 0. 0. 0. 0. 0. 0. 0. 0. 0. 0. 0. 0. 0. 0. 0. 0. 0. 0.\n",
      "  0. 0. 0. 0. 0. 0. 0. 0. 0. 0. 0. 0. 0. 0. 0. 0. 0. 0. 0. 0. 0. 0. 0. 0.\n",
      "  0. 0. 0. 0. 0. 0. 0. 0. 0. 0. 0. 0. 0. 1. 0. 0. 0. 0. 0. 0. 0. 0. 0. 0.\n",
      "  0. 0. 0. 0. 0. 0. 0. 0. 0. 0. 0. 0. 0. 0. 0. 0. 0. 0. 0. 0. 0. 0. 0. 0.\n",
      "  0. 0. 0. 0. 0. 0. 0. 0. 0. 0. 0. 0. 0. 0. 0.]]\n"
     ]
    }
   ],
   "source": [
    "def genre_to_numeric(genre_name):\n",
    "    \"\"\"\n",
    "    Convert a genre name to its corresponding numeric representation (one-hot encoded vector).\n",
    "    \n",
    "    :param genre_name: The name of the genre as a string.\n",
    "    :return: A one-hot encoded numeric representation of the genre as a list.\n",
    "    \"\"\"\n",
    "    if genre_name in genres_df.columns:\n",
    "        # Create a zero-filled list with length equal to the number of genres\n",
    "        numeric_representation = np.zeros((1, num_genres))\n",
    "        \n",
    "        # Find the index of the genre and set it to 1 in the numeric representation\n",
    "        index = list(genres_df.columns).index(genre_name)\n",
    "        numeric_representation[0, index] = 1\n",
    "        \n",
    "        return numeric_representation\n",
    "    else:\n",
    "        # Print an error message if the genre isn't found\n",
    "        print(f\"Error: The genre '{genre_name}' was not found in the dataset.\")\n",
    "        return None  # Return None or handle this case as you see fit\n",
    "\n",
    "# Example usage:\n",
    "genre_name = \"rap\"  # Replace with the genre you want to convert\n",
    "numeric_representation = genre_to_numeric(genre_name)\n",
    "\n",
    "if numeric_representation is not None:\n",
    "    print(f\"The numeric representation of '{genre_name}' is:\", numeric_representation)"
   ]
  },
  {
   "cell_type": "markdown",
   "metadata": {},
   "source": [
    "## Lyric Generation"
   ]
  },
  {
   "cell_type": "code",
   "execution_count": 110,
   "metadata": {},
   "outputs": [],
   "source": [
    "import torch\n",
    "device = torch.device('cuda' if torch.cuda.is_available() else 'cpu')\n",
    "\n",
    "def generate_lyrics(model, seed_text, vocab, numeric_tensor, genre_tensor, max_sequence_len=100, generation_length=50):\n",
    "    model.eval()  # Set the model to evaluation mode\n",
    "\n",
    "    # Tokenize the seed text\n",
    "    tokenized_seed_text = tokenize_lyrics(seed_text)\n",
    "\n",
    "    generated_tokens = tokenized_seed_text  # Start with the tokenized seed text\n",
    "\n",
    "    for _ in range(generation_length):\n",
    "        # print(generated_tokens)\n",
    "        # Convert the tokenized text to a sequence of indices\n",
    "        token_list = [vocab.get(word, 0) for word in generated_tokens]  # 0 is the index for unknown words\n",
    "        token_list = pad_sequences([token_list], maxlen=max_sequence_len)  # Pad the sequence\n",
    "        token_list = torch.tensor(token_list, dtype=torch.long).to(device)\n",
    "\n",
    "        # Predict the next word (as a token)\n",
    "        with torch.no_grad():\n",
    "            predictions = model(token_list, numeric_tensor, genre_tensor).cpu()\n",
    "        predicted_token = torch.argmax(predictions, dim=1)[-1].item()\n",
    "\n",
    "        # Find the word corresponding to the predicted token\n",
    "        # Create a reverse vocabulary for lookup\n",
    "        reverse_vocab = {index: word for word, index in vocab.items()}\n",
    "        predicted_word = reverse_vocab.get(predicted_token, '<UNK>')  # Use '<UNK>' for unknown words\n",
    "\n",
    "        # Append the predicted word to the generated tokens\n",
    "        generated_tokens.append(predicted_word)\n",
    "\n",
    "    # Detokenize the generated lyrics\n",
    "    generated_text = detokenize_lyrics(generated_tokens)\n",
    "\n",
    "    return generated_text\n"
   ]
  },
  {
   "cell_type": "markdown",
   "metadata": {},
   "source": [
    "## Test the generation of lyric"
   ]
  },
  {
   "cell_type": "code",
   "execution_count": 2,
   "metadata": {},
   "outputs": [
    {
     "name": "stdout",
     "output_type": "stream",
     "text": [
      "\n",
      "/usr/local/lib/python3.11/site-packages/sklearn/base.py:465: UserWarning: X does not have valid feature names, but MinMaxScaler was fitted with feature names\n",
      "warnings.warn(\n",
      "Test 1 - Seed Text: '[Intro]...'\n",
      "Generated Lyrics: [Intro] back back back back claire fuck hand out out out out out here fly feel feeling innocent music oooooo soul na song yeah ! ! ! ! ! ! ! ! ! ! ! ! ! ! ! ! ! ! ! ! ! ! ! ! !\n",
      "\n",
      "\n",
      "Test 2 - Seed Text: 'Yo, left, yo, left...'\n",
      "Generated Lyrics: yo , left , yo , left  back back back back claire fuck hand out out out out out here fly feel feeling innocent music oooooo soul na song yeah ! ! ! ! ! ! ! ! ! ! ! ! ! ! ! ! ! ! ! ! ! ! ! ! !\n",
      "\n",
      "\n",
      "Test 3 - Seed Text: 'In the middle of the night...'\n",
      "Generated Lyrics: in the middle of the night back back back back claire fuck hand out out out out out here fly feel feeling innocent music oooooo soul na song yeah ! ! ! ! ! ! ! ! ! ! ! ! ! ! ! ! ! ! ! ! ! ! ! ! !\n",
      "\n",
      "\n",
      "Test 4 - Seed Text: 'Hello...'\n",
      "Generated Lyrics: hello back back back back claire fuck hand out out out out out here fly feel feeling innocent music oooooo soul na song yeah ! ! ! ! ! ! ! ! ! ! ! ! ! ! ! ! ! ! ! ! ! ! ! ! !\n",
      "\n",
      "\n",
      "Test 5 - Seed Text: 'xyz abcdefgh unknownword...'\n",
      "Generated Lyrics: xyz abcdefgh unknownword back back back back claire fuck hand out out out out out here fly feel feeling innocent music oooooo soul na song yeah ! ! ! ! ! ! ! ! ! ! ! ! ! ! ! ! ! ! ! ! ! ! ! ! !\n",
      "\n",
      "\n",
      "Test 6 - Seed Text: 'word word word word word word ...'\n",
      "Generated Lyrics: word word word word word word word word word word word word word word word word word word word word word word word word word word word word word word word word word word word word word word word word word word word word word word word word word word word word word word word word word word word word word word word word word word word word word word word word word word word word word word word word word word word word word word word word word word word word word word word word word word word word word word word word word word word word word word word word word word word word word word word word word word word word word word word word word word word word word word word word word word word word word word word word word word word word word word\n",
      "\n",
      "\n",
      "Test 7 - Seed Text: 'Life is beautiful, isn't it? #...'\n",
      "Generated Lyrics: life is beautiful , isn't it ? wonderful life back back back back claire fuck hand out out out out out here fly feel feeling innocent music oooooo soul na song yeah ! ! ! ! ! ! ! ! ! ! ! ! ! ! ! ! ! ! ! ! ! ! ! ! !\n",
      "\n",
      "\n",
      "Test 8 - Seed Text: 'In the year 2020, something ha...'\n",
      "Generated Lyrics: in the year 2020 , something happened back back back back claire fuck hand out out out out out here fly feel feeling innocent music oooooo soul na song yeah ! ! ! ! ! ! ! ! ! ! ! ! ! ! ! ! ! ! ! ! ! ! ! ! !\n",
      "\n",
      "\n",
      "Test 9 - Seed Text: 'sldkfj slkdjflskj dflskjdf lsk...'\n",
      "Generated Lyrics: sldkfj slkdjflskj dflskjdf lskdjf back back back back claire fuck hand out out out out out here fly feel feeling innocent music oooooo soul na song yeah ! ! ! ! ! ! ! ! ! ! ! ! ! ! ! ! ! ! ! ! ! ! ! ! !\n",
      "\n",
      "\n",
      "Test 10 - Seed Text: 'Silent whispers in the...'\n",
      "Generated Lyrics: silent whispers in the back back back back claire fuck hand out out out out out here fly feel feeling innocent music oooooo soul na song yeah ! ! ! ! ! ! ! ! ! ! ! ! ! ! ! ! ! ! ! ! ! ! ! ! !\n",
      "\n",
      "\n",
      "Test 11 - Seed Text: 'echo echo echo echo echo...'\n",
      "Generated Lyrics: echo echo echo echo echo back back back back claire fuck hand out out out out out here fly feel feeling innocent music oooooo soul na song yeah ! ! ! ! ! ! ! ! ! ! ! ! ! ! ! ! ! ! ! ! ! ! ! ! !\n",
      "\n"
     ]
    }
   ],
   "source": [
    "import numpy as np\n",
    "# Define specific numeric and genre inputs\n",
    "# Example numeric features - replace with actual desired values\n",
    "specific_numeric = np.array([[0.5, 0.6, 0.7, 120, -5, 0.1, 0.2, 0.01, 0.3]])\n",
    "# Normalize the specific numeric features\n",
    "specific_numeric = scaler.transform(specific_numeric)  # Assuming 'scaler' is MinMaxScaler fitted on your numeric data\n",
    "\n",
    "# Example genre input - replace with the actual one-hot encoded vector for the desired genre\n",
    "specific_genre = genre_to_numeric(\"rock\")\n",
    "\n",
    "# Convert to tensors\n",
    "specific_numeric_tensor = torch.tensor(specific_numeric, dtype=torch.float)\n",
    "specific_genre_tensor = torch.tensor(specific_genre, dtype=torch.float)\n",
    "\n",
    "# Test cases\n",
    "def run_test_cases():\n",
    "    test_cases = [\n",
    "        \"[Intro]\",\n",
    "        \"Yo, left, yo, left\",\n",
    "        \"In the middle of the night\",\n",
    "        \"Hello\",\n",
    "        \"xyz abcdefgh unknownword\",\n",
    "        \"word \" * 150,\n",
    "        \"Life is beautiful, isn't it? #wonderful @life\",\n",
    "        \"In the year 2020, something happened\",\n",
    "        \"sldkfj slkdjflskj dflskjdf lskdjf\",\n",
    "        \"Silent whispers in the\",\n",
    "        \"echo echo echo echo echo\"\n",
    "    ]\n",
    "\n",
    "    generation_lengths = [50, 50, 50, 50, 50, 50, 50, 50, 50, 50, 50]  # Adjust lengths as needed\n",
    "\n",
    "    for i, seed_text in enumerate(test_cases):\n",
    "        print(f\"Test {i + 1} - Seed Text: '{seed_text[:30]}...'\")  # Print the first 30 chars of the seed text\n",
    "        generated_text = generate_lyrics(model, seed_text, vocab, specific_numeric_tensor, specific_genre_tensor, generation_length=generation_lengths[i])\n",
    "        print(\"Generated Lyrics:\", generated_text, \"\\n\\n\")\n",
    "\n",
    "# Run all test cases\n",
    "run_test_cases()\n",
    "\n",
    "def genre_to_numeric(genre_name):\n",
    "    \"\"\"\n",
    "    Convert a genre name to its corresponding numeric representation (one-hot encoded vector).\n",
    "    \n",
    "    :param genre_name: The name of the genre as a string.\n",
    "    :return: A one-hot encoded numeric representation of the genre as a list.\n",
    "    \"\"\"\n",
    "    if genre_name in genres_df.columns:\n",
    "        # Create a zero-filled list with length equal to the number of genres\n",
    "        numeric_representation = [0] * len(genres_df.columns)\n",
    "        \n",
    "        # Find the index of the genre and set it to 1 in the numeric representation\n",
    "        index = list(genres_df.columns).index(genre_name)\n",
    "        numeric_representation[index] = 1\n",
    "        \n",
    "        return numeric_representation\n",
    "    else:\n",
    "        # Print an error message if the genre isn't found\n",
    "        print(f\"Error: The genre '{genre_name}' was not found in the dataset.\")\n",
    "        return None  # Return None or handle this case as you see fit"
   ]
  }
 ],
 "metadata": {
  "kernelspec": {
   "display_name": "Python 3",
   "language": "python",
   "name": "python3"
  },
  "language_info": {
   "codemirror_mode": {
    "name": "ipython",
    "version": 3
   },
   "file_extension": ".py",
   "mimetype": "text/x-python",
   "name": "python",
   "nbconvert_exporter": "python",
   "pygments_lexer": "ipython3",
   "version": "3.11.6"
  }
 },
 "nbformat": 4,
 "nbformat_minor": 2
}
