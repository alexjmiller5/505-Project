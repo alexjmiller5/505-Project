{
  "nbformat": 4,
  "nbformat_minor": 0,
  "metadata": {
    "colab": {
      "provenance": []
    },
    "kernelspec": {
      "name": "python3",
      "display_name": "Python 3"
    },
    "language_info": {
      "name": "python"
    }
  },
  "cells": [
    {
      "cell_type": "markdown",
      "source": [
        "# Required package"
      ],
      "metadata": {
        "id": "dGRN7nKv8jz9"
      }
    },
    {
      "cell_type": "code",
      "execution_count": 57,
      "metadata": {
        "id": "27FXwZK08XxB"
      },
      "outputs": [],
      "source": [
        "import pandas as pd\n",
        "import nltk\n",
        "from nltk.tokenize import word_tokenize\n",
        "from nltk.corpus import stopwords\n",
        "import string\n",
        "import re"
      ]
    },
    {
      "cell_type": "code",
      "source": [
        "nltk.download('punkt')\n",
        "nltk.download('stopwords')"
      ],
      "metadata": {
        "colab": {
          "base_uri": "https://localhost:8080/"
        },
        "id": "qN3Dhx5m2ux2",
        "outputId": "00493f2b-3c7e-4b2e-ea2f-e727401dc558"
      },
      "execution_count": 58,
      "outputs": [
        {
          "output_type": "stream",
          "name": "stderr",
          "text": [
            "[nltk_data] Downloading package punkt to /root/nltk_data...\n",
            "[nltk_data]   Package punkt is already up-to-date!\n",
            "[nltk_data] Downloading package stopwords to /root/nltk_data...\n",
            "[nltk_data]   Package stopwords is already up-to-date!\n"
          ]
        },
        {
          "output_type": "execute_result",
          "data": {
            "text/plain": [
              "True"
            ]
          },
          "metadata": {},
          "execution_count": 58
        }
      ]
    },
    {
      "cell_type": "markdown",
      "source": [
        "# Load data"
      ],
      "metadata": {
        "id": "XbvL-bXT8ryr"
      }
    },
    {
      "cell_type": "code",
      "source": [
        "lyrics = pd.read_csv('song_lyrics.csv')\n",
        "sentiment = pd.read_csv('song_sentiment.csv')"
      ],
      "metadata": {
        "id": "fQaP-3kD8vBA"
      },
      "execution_count": 59,
      "outputs": []
    },
    {
      "cell_type": "code",
      "source": [
        "data_music = pd.merge(sentiment, lyrics, on='spotify_id')\n",
        "# data_music.info()"
      ],
      "metadata": {
        "id": "TX0nLlgl9gtM"
      },
      "execution_count": 61,
      "outputs": []
    },
    {
      "cell_type": "markdown",
      "source": [
        "# Tokenize"
      ],
      "metadata": {
        "id": "b3vmSQuz8H16"
      }
    },
    {
      "cell_type": "code",
      "source": [
        "stop_words = set(stopwords.words('english'))\n",
        "punctuations = set(string.punctuation)\n",
        "'would' in stop_words"
      ],
      "metadata": {
        "colab": {
          "base_uri": "https://localhost:8080/"
        },
        "id": "PQI2qCFs28zW",
        "outputId": "443a19d0-6ed8-4097-e0ef-41d956ac69be"
      },
      "execution_count": 62,
      "outputs": [
        {
          "output_type": "execute_result",
          "data": {
            "text/plain": [
              "False"
            ]
          },
          "metadata": {},
          "execution_count": 62
        }
      ]
    },
    {
      "cell_type": "code",
      "source": [
        "# lyric = data_music['lyrics']\n",
        "# text1 = lyric[1]\n",
        "def tokenize_lyrics(text):\n",
        "    #remove some abbreviations\n",
        "    text = re.sub('\\'m', ' am', text)\n",
        "    text = re.sub('\\'ve', ' have', text)\n",
        "    text = re.sub('\\'d ', ' would', text)\n",
        "    text =re.sub('\\'ll', ' will', text)\n",
        "\n",
        "    # remove special tag like [Intro]，[Verse]\n",
        "    cleaned_text = re.sub(r'\\[[^\\]]*\\]', '', text)\n",
        "\n",
        "    # lowercase all word\n",
        "    tokens = word_tokenize(cleaned_text.lower())\n",
        "\n",
        "    # remove punctation and stop_words\n",
        "    filtered_tokens = [word for word in tokens if word not in stop_words and word not in punctuations]\n",
        "    return filtered_tokens\n",
        "\n",
        "# token_1 = tokenize_lyrics(text1)\n",
        "# print(token_1)"
      ],
      "metadata": {
        "id": "a_8T-C7N3k8U"
      },
      "execution_count": 64,
      "outputs": []
    },
    {
      "cell_type": "code",
      "source": [],
      "metadata": {
        "id": "EPCEaX8ADeZ0"
      },
      "execution_count": 54,
      "outputs": []
    },
    {
      "cell_type": "code",
      "source": [
        "# apply tokenize_lyrics on all lyrics in data_music\n",
        "# drop songs without lyrics\n",
        "data_music = data_music[data_music['lyrics'].notna()]\n",
        "data_music['tokenized_lyrics'] = data_music['lyrics'].apply(tokenize_lyrics)\n"
      ],
      "metadata": {
        "id": "AOgozQlkBuZU"
      },
      "execution_count": 74,
      "outputs": []
    },
    {
      "cell_type": "code",
      "source": [
        "data_music.head()"
      ],
      "metadata": {
        "colab": {
          "base_uri": "https://localhost:8080/",
          "height": 417
        },
        "id": "0eGr2sjnF2NV",
        "outputId": "1c15ff19-527a-4281-ed3d-55ff4cd323e1"
      },
      "execution_count": 76,
      "outputs": [
        {
          "output_type": "execute_result",
          "data": {
            "text/plain": [
              "               spotify_id  valence  danceability  energy  \\\n",
              "0  4xkOaSrkexMciUUogZKVTS    0.100         0.548   0.847   \n",
              "1  3fOc9x06lKJBhz435mInlH    0.498         0.249   0.949   \n",
              "2  5bU4KX47KqtDKKaLM4QCzh    0.567         0.657   0.960   \n",
              "3  4Q1w4Ryyi8KNxxaFlOQClK    0.585         0.431   0.962   \n",
              "4  49fT6owWuknekShh9utsjv    0.169         0.811   0.566   \n",
              "\n",
              "   number_of_emotion_tags  valence_tags  arousal_tags  dominance_tags  \\\n",
              "0                       6      4.550000      5.273125        5.690625   \n",
              "1                       8      3.710000      5.833000        5.427250   \n",
              "2                       7      3.771176      5.348235        5.441765   \n",
              "3                       9      2.971389      5.537500        4.726389   \n",
              "4                       1      3.080000      5.870000        5.490000   \n",
              "\n",
              "     tempo  key  mode  instrumentalness  liveness  speechiness  acousticness  \\\n",
              "0  171.447    1     1          0.000000    0.0816       0.1860      0.062200   \n",
              "1  185.252    2     0          0.022800    0.0953       0.0678      0.001310   \n",
              "2  126.020    5     0          0.000997    0.1090       0.0700      0.001690   \n",
              "3  156.103    6     1          0.000005    0.3210       0.0789      0.000008   \n",
              "4  100.224    8     0          0.000000    0.1040       0.5170      0.563000   \n",
              "\n",
              "   loudness                                             lyrics  \\\n",
              "0    -3.237  [Intro: Eminem]\\n'Cause sometimes you just fee...   \n",
              "1    -2.642  [Verse]\\nSaint Anger 'round my neck\\nSaint Ang...   \n",
              "2    -3.524  [Intro]\\nDie!\\n\\n[Verse 1]\\nI don't need your ...   \n",
              "3    -3.269  [Intro]\\nOne, two, three, go!\\n\\n[Verse 1]\\nBr...   \n",
              "4    -6.033  [Chorus]\\nAyy, ya heard about the good news?\\n...   \n",
              "\n",
              "                                    tokenized_lyrics  \n",
              "0  ['cause, sometimes, feel, tired, yo, left, yo,...  \n",
              "1  [saint, anger, 'round, neck, saint, anger, 'ro...  \n",
              "2  [die, n't, need, forgiveness, n't, need, hate,...  \n",
              "3  [one, two, three, go, broken, yeah, living, ed...  \n",
              "4  [ayy, ya, heard, good, news, y'all, sleeping, ...  "
            ],
            "text/html": [
              "\n",
              "  <div id=\"df-0083d512-b646-41bf-b6a0-5f3dae5e62c8\" class=\"colab-df-container\">\n",
              "    <div>\n",
              "<style scoped>\n",
              "    .dataframe tbody tr th:only-of-type {\n",
              "        vertical-align: middle;\n",
              "    }\n",
              "\n",
              "    .dataframe tbody tr th {\n",
              "        vertical-align: top;\n",
              "    }\n",
              "\n",
              "    .dataframe thead th {\n",
              "        text-align: right;\n",
              "    }\n",
              "</style>\n",
              "<table border=\"1\" class=\"dataframe\">\n",
              "  <thead>\n",
              "    <tr style=\"text-align: right;\">\n",
              "      <th></th>\n",
              "      <th>spotify_id</th>\n",
              "      <th>valence</th>\n",
              "      <th>danceability</th>\n",
              "      <th>energy</th>\n",
              "      <th>number_of_emotion_tags</th>\n",
              "      <th>valence_tags</th>\n",
              "      <th>arousal_tags</th>\n",
              "      <th>dominance_tags</th>\n",
              "      <th>tempo</th>\n",
              "      <th>key</th>\n",
              "      <th>mode</th>\n",
              "      <th>instrumentalness</th>\n",
              "      <th>liveness</th>\n",
              "      <th>speechiness</th>\n",
              "      <th>acousticness</th>\n",
              "      <th>loudness</th>\n",
              "      <th>lyrics</th>\n",
              "      <th>tokenized_lyrics</th>\n",
              "    </tr>\n",
              "  </thead>\n",
              "  <tbody>\n",
              "    <tr>\n",
              "      <th>0</th>\n",
              "      <td>4xkOaSrkexMciUUogZKVTS</td>\n",
              "      <td>0.100</td>\n",
              "      <td>0.548</td>\n",
              "      <td>0.847</td>\n",
              "      <td>6</td>\n",
              "      <td>4.550000</td>\n",
              "      <td>5.273125</td>\n",
              "      <td>5.690625</td>\n",
              "      <td>171.447</td>\n",
              "      <td>1</td>\n",
              "      <td>1</td>\n",
              "      <td>0.000000</td>\n",
              "      <td>0.0816</td>\n",
              "      <td>0.1860</td>\n",
              "      <td>0.062200</td>\n",
              "      <td>-3.237</td>\n",
              "      <td>[Intro: Eminem]\\n'Cause sometimes you just fee...</td>\n",
              "      <td>['cause, sometimes, feel, tired, yo, left, yo,...</td>\n",
              "    </tr>\n",
              "    <tr>\n",
              "      <th>1</th>\n",
              "      <td>3fOc9x06lKJBhz435mInlH</td>\n",
              "      <td>0.498</td>\n",
              "      <td>0.249</td>\n",
              "      <td>0.949</td>\n",
              "      <td>8</td>\n",
              "      <td>3.710000</td>\n",
              "      <td>5.833000</td>\n",
              "      <td>5.427250</td>\n",
              "      <td>185.252</td>\n",
              "      <td>2</td>\n",
              "      <td>0</td>\n",
              "      <td>0.022800</td>\n",
              "      <td>0.0953</td>\n",
              "      <td>0.0678</td>\n",
              "      <td>0.001310</td>\n",
              "      <td>-2.642</td>\n",
              "      <td>[Verse]\\nSaint Anger 'round my neck\\nSaint Ang...</td>\n",
              "      <td>[saint, anger, 'round, neck, saint, anger, 'ro...</td>\n",
              "    </tr>\n",
              "    <tr>\n",
              "      <th>2</th>\n",
              "      <td>5bU4KX47KqtDKKaLM4QCzh</td>\n",
              "      <td>0.567</td>\n",
              "      <td>0.657</td>\n",
              "      <td>0.960</td>\n",
              "      <td>7</td>\n",
              "      <td>3.771176</td>\n",
              "      <td>5.348235</td>\n",
              "      <td>5.441765</td>\n",
              "      <td>126.020</td>\n",
              "      <td>5</td>\n",
              "      <td>0</td>\n",
              "      <td>0.000997</td>\n",
              "      <td>0.1090</td>\n",
              "      <td>0.0700</td>\n",
              "      <td>0.001690</td>\n",
              "      <td>-3.524</td>\n",
              "      <td>[Intro]\\nDie!\\n\\n[Verse 1]\\nI don't need your ...</td>\n",
              "      <td>[die, n't, need, forgiveness, n't, need, hate,...</td>\n",
              "    </tr>\n",
              "    <tr>\n",
              "      <th>3</th>\n",
              "      <td>4Q1w4Ryyi8KNxxaFlOQClK</td>\n",
              "      <td>0.585</td>\n",
              "      <td>0.431</td>\n",
              "      <td>0.962</td>\n",
              "      <td>9</td>\n",
              "      <td>2.971389</td>\n",
              "      <td>5.537500</td>\n",
              "      <td>4.726389</td>\n",
              "      <td>156.103</td>\n",
              "      <td>6</td>\n",
              "      <td>1</td>\n",
              "      <td>0.000005</td>\n",
              "      <td>0.3210</td>\n",
              "      <td>0.0789</td>\n",
              "      <td>0.000008</td>\n",
              "      <td>-3.269</td>\n",
              "      <td>[Intro]\\nOne, two, three, go!\\n\\n[Verse 1]\\nBr...</td>\n",
              "      <td>[one, two, three, go, broken, yeah, living, ed...</td>\n",
              "    </tr>\n",
              "    <tr>\n",
              "      <th>4</th>\n",
              "      <td>49fT6owWuknekShh9utsjv</td>\n",
              "      <td>0.169</td>\n",
              "      <td>0.811</td>\n",
              "      <td>0.566</td>\n",
              "      <td>1</td>\n",
              "      <td>3.080000</td>\n",
              "      <td>5.870000</td>\n",
              "      <td>5.490000</td>\n",
              "      <td>100.224</td>\n",
              "      <td>8</td>\n",
              "      <td>0</td>\n",
              "      <td>0.000000</td>\n",
              "      <td>0.1040</td>\n",
              "      <td>0.5170</td>\n",
              "      <td>0.563000</td>\n",
              "      <td>-6.033</td>\n",
              "      <td>[Chorus]\\nAyy, ya heard about the good news?\\n...</td>\n",
              "      <td>[ayy, ya, heard, good, news, y'all, sleeping, ...</td>\n",
              "    </tr>\n",
              "  </tbody>\n",
              "</table>\n",
              "</div>\n",
              "    <div class=\"colab-df-buttons\">\n",
              "\n",
              "  <div class=\"colab-df-container\">\n",
              "    <button class=\"colab-df-convert\" onclick=\"convertToInteractive('df-0083d512-b646-41bf-b6a0-5f3dae5e62c8')\"\n",
              "            title=\"Convert this dataframe to an interactive table.\"\n",
              "            style=\"display:none;\">\n",
              "\n",
              "  <svg xmlns=\"http://www.w3.org/2000/svg\" height=\"24px\" viewBox=\"0 -960 960 960\">\n",
              "    <path d=\"M120-120v-720h720v720H120Zm60-500h600v-160H180v160Zm220 220h160v-160H400v160Zm0 220h160v-160H400v160ZM180-400h160v-160H180v160Zm440 0h160v-160H620v160ZM180-180h160v-160H180v160Zm440 0h160v-160H620v160Z\"/>\n",
              "  </svg>\n",
              "    </button>\n",
              "\n",
              "  <style>\n",
              "    .colab-df-container {\n",
              "      display:flex;\n",
              "      gap: 12px;\n",
              "    }\n",
              "\n",
              "    .colab-df-convert {\n",
              "      background-color: #E8F0FE;\n",
              "      border: none;\n",
              "      border-radius: 50%;\n",
              "      cursor: pointer;\n",
              "      display: none;\n",
              "      fill: #1967D2;\n",
              "      height: 32px;\n",
              "      padding: 0 0 0 0;\n",
              "      width: 32px;\n",
              "    }\n",
              "\n",
              "    .colab-df-convert:hover {\n",
              "      background-color: #E2EBFA;\n",
              "      box-shadow: 0px 1px 2px rgba(60, 64, 67, 0.3), 0px 1px 3px 1px rgba(60, 64, 67, 0.15);\n",
              "      fill: #174EA6;\n",
              "    }\n",
              "\n",
              "    .colab-df-buttons div {\n",
              "      margin-bottom: 4px;\n",
              "    }\n",
              "\n",
              "    [theme=dark] .colab-df-convert {\n",
              "      background-color: #3B4455;\n",
              "      fill: #D2E3FC;\n",
              "    }\n",
              "\n",
              "    [theme=dark] .colab-df-convert:hover {\n",
              "      background-color: #434B5C;\n",
              "      box-shadow: 0px 1px 3px 1px rgba(0, 0, 0, 0.15);\n",
              "      filter: drop-shadow(0px 1px 2px rgba(0, 0, 0, 0.3));\n",
              "      fill: #FFFFFF;\n",
              "    }\n",
              "  </style>\n",
              "\n",
              "    <script>\n",
              "      const buttonEl =\n",
              "        document.querySelector('#df-0083d512-b646-41bf-b6a0-5f3dae5e62c8 button.colab-df-convert');\n",
              "      buttonEl.style.display =\n",
              "        google.colab.kernel.accessAllowed ? 'block' : 'none';\n",
              "\n",
              "      async function convertToInteractive(key) {\n",
              "        const element = document.querySelector('#df-0083d512-b646-41bf-b6a0-5f3dae5e62c8');\n",
              "        const dataTable =\n",
              "          await google.colab.kernel.invokeFunction('convertToInteractive',\n",
              "                                                    [key], {});\n",
              "        if (!dataTable) return;\n",
              "\n",
              "        const docLinkHtml = 'Like what you see? Visit the ' +\n",
              "          '<a target=\"_blank\" href=https://colab.research.google.com/notebooks/data_table.ipynb>data table notebook</a>'\n",
              "          + ' to learn more about interactive tables.';\n",
              "        element.innerHTML = '';\n",
              "        dataTable['output_type'] = 'display_data';\n",
              "        await google.colab.output.renderOutput(dataTable, element);\n",
              "        const docLink = document.createElement('div');\n",
              "        docLink.innerHTML = docLinkHtml;\n",
              "        element.appendChild(docLink);\n",
              "      }\n",
              "    </script>\n",
              "  </div>\n",
              "\n",
              "\n",
              "<div id=\"df-569b6fe6-3049-4f6b-872a-4880931daa59\">\n",
              "  <button class=\"colab-df-quickchart\" onclick=\"quickchart('df-569b6fe6-3049-4f6b-872a-4880931daa59')\"\n",
              "            title=\"Suggest charts\"\n",
              "            style=\"display:none;\">\n",
              "\n",
              "<svg xmlns=\"http://www.w3.org/2000/svg\" height=\"24px\"viewBox=\"0 0 24 24\"\n",
              "     width=\"24px\">\n",
              "    <g>\n",
              "        <path d=\"M19 3H5c-1.1 0-2 .9-2 2v14c0 1.1.9 2 2 2h14c1.1 0 2-.9 2-2V5c0-1.1-.9-2-2-2zM9 17H7v-7h2v7zm4 0h-2V7h2v10zm4 0h-2v-4h2v4z\"/>\n",
              "    </g>\n",
              "</svg>\n",
              "  </button>\n",
              "\n",
              "<style>\n",
              "  .colab-df-quickchart {\n",
              "      --bg-color: #E8F0FE;\n",
              "      --fill-color: #1967D2;\n",
              "      --hover-bg-color: #E2EBFA;\n",
              "      --hover-fill-color: #174EA6;\n",
              "      --disabled-fill-color: #AAA;\n",
              "      --disabled-bg-color: #DDD;\n",
              "  }\n",
              "\n",
              "  [theme=dark] .colab-df-quickchart {\n",
              "      --bg-color: #3B4455;\n",
              "      --fill-color: #D2E3FC;\n",
              "      --hover-bg-color: #434B5C;\n",
              "      --hover-fill-color: #FFFFFF;\n",
              "      --disabled-bg-color: #3B4455;\n",
              "      --disabled-fill-color: #666;\n",
              "  }\n",
              "\n",
              "  .colab-df-quickchart {\n",
              "    background-color: var(--bg-color);\n",
              "    border: none;\n",
              "    border-radius: 50%;\n",
              "    cursor: pointer;\n",
              "    display: none;\n",
              "    fill: var(--fill-color);\n",
              "    height: 32px;\n",
              "    padding: 0;\n",
              "    width: 32px;\n",
              "  }\n",
              "\n",
              "  .colab-df-quickchart:hover {\n",
              "    background-color: var(--hover-bg-color);\n",
              "    box-shadow: 0 1px 2px rgba(60, 64, 67, 0.3), 0 1px 3px 1px rgba(60, 64, 67, 0.15);\n",
              "    fill: var(--button-hover-fill-color);\n",
              "  }\n",
              "\n",
              "  .colab-df-quickchart-complete:disabled,\n",
              "  .colab-df-quickchart-complete:disabled:hover {\n",
              "    background-color: var(--disabled-bg-color);\n",
              "    fill: var(--disabled-fill-color);\n",
              "    box-shadow: none;\n",
              "  }\n",
              "\n",
              "  .colab-df-spinner {\n",
              "    border: 2px solid var(--fill-color);\n",
              "    border-color: transparent;\n",
              "    border-bottom-color: var(--fill-color);\n",
              "    animation:\n",
              "      spin 1s steps(1) infinite;\n",
              "  }\n",
              "\n",
              "  @keyframes spin {\n",
              "    0% {\n",
              "      border-color: transparent;\n",
              "      border-bottom-color: var(--fill-color);\n",
              "      border-left-color: var(--fill-color);\n",
              "    }\n",
              "    20% {\n",
              "      border-color: transparent;\n",
              "      border-left-color: var(--fill-color);\n",
              "      border-top-color: var(--fill-color);\n",
              "    }\n",
              "    30% {\n",
              "      border-color: transparent;\n",
              "      border-left-color: var(--fill-color);\n",
              "      border-top-color: var(--fill-color);\n",
              "      border-right-color: var(--fill-color);\n",
              "    }\n",
              "    40% {\n",
              "      border-color: transparent;\n",
              "      border-right-color: var(--fill-color);\n",
              "      border-top-color: var(--fill-color);\n",
              "    }\n",
              "    60% {\n",
              "      border-color: transparent;\n",
              "      border-right-color: var(--fill-color);\n",
              "    }\n",
              "    80% {\n",
              "      border-color: transparent;\n",
              "      border-right-color: var(--fill-color);\n",
              "      border-bottom-color: var(--fill-color);\n",
              "    }\n",
              "    90% {\n",
              "      border-color: transparent;\n",
              "      border-bottom-color: var(--fill-color);\n",
              "    }\n",
              "  }\n",
              "</style>\n",
              "\n",
              "  <script>\n",
              "    async function quickchart(key) {\n",
              "      const quickchartButtonEl =\n",
              "        document.querySelector('#' + key + ' button');\n",
              "      quickchartButtonEl.disabled = true;  // To prevent multiple clicks.\n",
              "      quickchartButtonEl.classList.add('colab-df-spinner');\n",
              "      try {\n",
              "        const charts = await google.colab.kernel.invokeFunction(\n",
              "            'suggestCharts', [key], {});\n",
              "      } catch (error) {\n",
              "        console.error('Error during call to suggestCharts:', error);\n",
              "      }\n",
              "      quickchartButtonEl.classList.remove('colab-df-spinner');\n",
              "      quickchartButtonEl.classList.add('colab-df-quickchart-complete');\n",
              "    }\n",
              "    (() => {\n",
              "      let quickchartButtonEl =\n",
              "        document.querySelector('#df-569b6fe6-3049-4f6b-872a-4880931daa59 button');\n",
              "      quickchartButtonEl.style.display =\n",
              "        google.colab.kernel.accessAllowed ? 'block' : 'none';\n",
              "    })();\n",
              "  </script>\n",
              "</div>\n",
              "\n",
              "    </div>\n",
              "  </div>\n"
            ]
          },
          "metadata": {},
          "execution_count": 76
        }
      ]
    },
    {
      "cell_type": "markdown",
      "source": [
        "# Save datafram to disk"
      ],
      "metadata": {
        "id": "M9dvuDC7GN2O"
      }
    },
    {
      "cell_type": "code",
      "source": [
        "# convert to csv file\n",
        "data_music.to_csv('song_tokenized_lyrics.csv')"
      ],
      "metadata": {
        "id": "ZmMHv2jYGEg_"
      },
      "execution_count": 77,
      "outputs": []
    }
  ]
}